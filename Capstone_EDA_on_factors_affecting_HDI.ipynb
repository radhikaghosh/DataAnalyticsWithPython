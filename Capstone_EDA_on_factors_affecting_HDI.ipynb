{
 "cells": [
  {
   "cell_type": "markdown",
   "metadata": {},
   "source": [
    "<H1> Capstone Project: Exploratory Data Analysis of the factors impacting a country's Human Development Index</H1>"
   ]
  },
  {
   "cell_type": "markdown",
   "metadata": {},
   "source": [
    "<h3>This project attempts to visually explore what factors in a country have the most impact on its development and standard of living for its citizens.</h3>\n",
    "\n",
    "I started this project with a goal to see if foreign aid was the the most important factor that increased the standard of living (assumed as the Human Development Index in this project) in less developed countries. Instead I have come to realize that foreign aid is just one of many factors that can positively or negatively affect the development of a country. \n",
    "\n",
    "Angus Deaton, the 2015 Nobel Prize winner of Economics, argues that in countries where almost all the government expenditure is funded through foreign aid, these governments have no incentives to respond to their people's needs. In other words when a country's citizens are not paying the government's bill, they receive no accountability from their government.\n",
    "\n",
    "I came across a paper written by Rachel J. Gray from the University of Florida in 2011 that explored at great depth, the topic <a href=\"https://stars.library.ucf.edu/cgi/viewcontent.cgi?referer=https://www.google.com/&httpsredir=1&article=3040&context=etd.\">Does Foreign Aid Promote Development? A Study Of Effects Of Foreign Aid On Development In Sub-saharan Africa</a>. This paper explored the data for 45 sub-Saharan countries and came to the conclusion that \"While foreign aid has been paraded as a solution to poverty and stagnating economic growth in developing countries, <b>aid has a small negative effect on human development</b>, as measured by the <a href=\"https://en.wikipedia.org/wiki/Human_Development_Index\">Human Development Index</a>, accounts for standard of living, life expectancy, and education level. <b>The empirical evidence illustrates that foreign aid is ineffective at promoting development in sub-Saharan Africa</b>.\" Thus this research paper came to the conclusion that foreign aid is harmful to the overall human development index.\n",
    "\n",
    "Through this project I hope to explore more recent data and see if this hypothesis holds true in the present for developing countries in the world. Along with this, I hope to explore what other features of a country, either economic, geographical or other, affect its development. I am using Ms. Gray's paper as my starting point, and hoping to use her identified features and more recent data to see what factors most or least impact Human Development Index."
   ]
  },
  {
   "cell_type": "markdown",
   "metadata": {},
   "source": [
    "<h3>Target Variable: Human Development Index</h3>\n",
    "\n",
    "The dependent variable for this project is Human Development Index (HDI), which is a statistic composite index of life expectancy, education, and per capita income indicators, which are used to rank countries into four tiers of human development. A country scores a higher HDI when the lifespan is higher, the education level is higher, and the GDP per capita is higher. [2]\n"
   ]
  },
  {
   "cell_type": "markdown",
   "metadata": {},
   "source": [
    "<h3>Independent Variables or Features:</h3>\n",
    "\n",
    "In taking Ms. Gray's paper as a reference point, I have taken the following features of the countries, as chosen by her, as the possible independent variables that can affect the Human Development Index for a country:\n",
    "\n",
    "1. <b>Corruption Perception Index:</b> The Corruption Perceptions Index (CPI) is an index published annually by Transparency International since 1995 which ranks countries \"by their perceived levels of corruption, as determined by expert assessments and opinion surveys.\" This data was obtained from the <a href=\"https://www.transparency.org/news/feature/corruption_perceptions_index_2017\">Transparency International website</a>. The CPI currently ranks 176 countries \"on a scale from 100 (very clean) to 0 (highly corrupt)\". \n",
    "\n",
    "2. <b>Political Freedom Score:</b> As determined by <a href=\"https://freedomhouse.org/report-types/freedom-world\">Freedom House Inc.</a> The countries are classified as Free, Partially Free, Not Free by Freedom House in its  annual report. This is done by assessing the condition of political rights and civil liberties around the world.\n",
    "\n",
    "3. <b>HIV Prevalence Rate (in percentage of adults aged 15-49):</b> The HIV prevalence rate as recorded by <a href=\"https://data.worldbank.org/indicator?tab=all\">World Bank Indicators</a>. \n",
    "\n",
    "4. <b>Arable Land percentage:</b> The percentage of arable land available to a country each year as recorded by <a href=\"https://data.worldbank.org/indicator?tab=all\">World Bank Indicators</a>.\n",
    "\n",
    "5. <b>Political Stability/No Violence - Percentile Rankings:</b> As recorded by <a href=\"https://data.worldbank.org/indicator?tab=all\">World Bank Indicators</a>.\n",
    "\n",
    "6. <b>Landlocked/Coastal:</b> Land locked or access to a coast status of the countries. Data obtained from <a href=\"https://en.wikipedia.org/wiki/Landlocked_country#List_of_landlocked_countries_and_territories\">Wikipedia</a>.\n",
    "\n",
    "7. <b>Foreign Aid ODA received per capita (USD):</b> A combination of data obtained from <a href=\"https://data.worldbank.org/indicator?tab=all\">World Bank Indicators</a> and <a href=\"http://www.oecd.org/\">Organization for Economic Co-operation and Development</a>. Data available for the years 1960 through 2017."
   ]
  },
  {
   "cell_type": "markdown",
   "metadata": {},
   "source": [
    "<h3>Regions</h3>\n",
    "The data is grouped by the following regions:\n",
    "<table style=\"width:30%\" align=\"left\">\n",
    "  <tr>\n",
    "    <th width=\"30%\">Regions</th>\n",
    "    <th>Description</th> \n",
    "  </tr>\n",
    "  <tr>\n",
    "    <td>AP</td>\n",
    "    <td>Asia & the Pacific</td> \n",
    "  </tr>\n",
    "  <tr>\n",
    "    <td>WE/EU</td>\n",
    "    <td>Western Europe/ European Union</td> \n",
    "  </tr>\n",
    "  <tr>\n",
    "    <td>AME</td>\n",
    "    <td>Americas</td> \n",
    "  </tr>\n",
    "  <tr>\n",
    "    <td>MENA</td>\n",
    "    <td>Middle East & North Africa</td> \n",
    "  </tr>\n",
    "  <tr>\n",
    "    <td>SSA</td>\n",
    "    <td>Sub-Saharan Africa</td> \n",
    "  </tr>\n",
    "  <tr>\n",
    "    <td>ECA</td>\n",
    "    <td>Eastern Europe & Central Asia</td> \n",
    "  </tr>\n",
    "</table>"
   ]
  },
  {
   "cell_type": "markdown",
   "metadata": {},
   "source": [
    "<h1>Data Import & Pre-processing</h1>\n",
    "\n",
    "<b>The raw data was gathered from all the various references noted above and then cleansed and combined using the steps below:</b>"
   ]
  },
  {
   "cell_type": "markdown",
   "metadata": {},
   "source": [
    "<h3>The independent variables or features:</h3>"
   ]
  },
  {
   "cell_type": "code",
   "execution_count": 1,
   "metadata": {},
   "outputs": [],
   "source": [
    "#Imports\n",
    "import pandas as pd\n",
    "import warnings\n",
    "warnings.filterwarnings('ignore')"
   ]
  },
  {
   "cell_type": "code",
   "execution_count": 2,
   "metadata": {},
   "outputs": [
    {
     "data": {
      "text/html": [
       "<div>\n",
       "<style scoped>\n",
       "    .dataframe tbody tr th:only-of-type {\n",
       "        vertical-align: middle;\n",
       "    }\n",
       "\n",
       "    .dataframe tbody tr th {\n",
       "        vertical-align: top;\n",
       "    }\n",
       "\n",
       "    .dataframe thead th {\n",
       "        text-align: right;\n",
       "    }\n",
       "</style>\n",
       "<table border=\"1\" class=\"dataframe\">\n",
       "  <thead>\n",
       "    <tr style=\"text-align: right;\">\n",
       "      <th></th>\n",
       "      <th>Country</th>\n",
       "      <th>ISO3</th>\n",
       "      <th>Region</th>\n",
       "      <th>CPI score 2017</th>\n",
       "      <th>Standard error 2017</th>\n",
       "      <th>Sources 2017</th>\n",
       "      <th>CPI score 2016</th>\n",
       "      <th>Standard error 2016</th>\n",
       "      <th>Sources 2016</th>\n",
       "      <th>CPI score 2015</th>\n",
       "      <th>...</th>\n",
       "      <th>Sources 2015</th>\n",
       "      <th>CPI score 2014</th>\n",
       "      <th>Standard error 2014</th>\n",
       "      <th>Sources 2014</th>\n",
       "      <th>CPI Score 2013</th>\n",
       "      <th>Standard error 2013</th>\n",
       "      <th>Sources 2013</th>\n",
       "      <th>CPI Score 2012</th>\n",
       "      <th>Standard error 2012</th>\n",
       "      <th>Sources 2012</th>\n",
       "    </tr>\n",
       "  </thead>\n",
       "  <tbody>\n",
       "    <tr>\n",
       "      <th>0</th>\n",
       "      <td>New Zealand</td>\n",
       "      <td>NZL</td>\n",
       "      <td>AP</td>\n",
       "      <td>89.0</td>\n",
       "      <td>2.40</td>\n",
       "      <td>8.0</td>\n",
       "      <td>90.0</td>\n",
       "      <td>2.56</td>\n",
       "      <td>7.0</td>\n",
       "      <td>91.0</td>\n",
       "      <td>...</td>\n",
       "      <td>7.0</td>\n",
       "      <td>91.0</td>\n",
       "      <td>2.28</td>\n",
       "      <td>7.0</td>\n",
       "      <td>91.0</td>\n",
       "      <td>2.3</td>\n",
       "      <td>7.0</td>\n",
       "      <td>90.0</td>\n",
       "      <td>2.2</td>\n",
       "      <td>7.0</td>\n",
       "    </tr>\n",
       "    <tr>\n",
       "      <th>1</th>\n",
       "      <td>Denmark</td>\n",
       "      <td>DNK</td>\n",
       "      <td>WE/EU</td>\n",
       "      <td>88.0</td>\n",
       "      <td>2.75</td>\n",
       "      <td>8.0</td>\n",
       "      <td>90.0</td>\n",
       "      <td>2.46</td>\n",
       "      <td>7.0</td>\n",
       "      <td>91.0</td>\n",
       "      <td>...</td>\n",
       "      <td>7.0</td>\n",
       "      <td>92.0</td>\n",
       "      <td>2.04</td>\n",
       "      <td>7.0</td>\n",
       "      <td>91.0</td>\n",
       "      <td>2.2</td>\n",
       "      <td>7.0</td>\n",
       "      <td>90.0</td>\n",
       "      <td>2.0</td>\n",
       "      <td>7.0</td>\n",
       "    </tr>\n",
       "    <tr>\n",
       "      <th>2</th>\n",
       "      <td>Finland</td>\n",
       "      <td>FIN</td>\n",
       "      <td>WE/EU</td>\n",
       "      <td>85.0</td>\n",
       "      <td>2.84</td>\n",
       "      <td>8.0</td>\n",
       "      <td>89.0</td>\n",
       "      <td>1.46</td>\n",
       "      <td>7.0</td>\n",
       "      <td>90.0</td>\n",
       "      <td>...</td>\n",
       "      <td>7.0</td>\n",
       "      <td>89.0</td>\n",
       "      <td>2.05</td>\n",
       "      <td>7.0</td>\n",
       "      <td>89.0</td>\n",
       "      <td>1.7</td>\n",
       "      <td>7.0</td>\n",
       "      <td>90.0</td>\n",
       "      <td>3.0</td>\n",
       "      <td>7.0</td>\n",
       "    </tr>\n",
       "    <tr>\n",
       "      <th>3</th>\n",
       "      <td>Norway</td>\n",
       "      <td>NOR</td>\n",
       "      <td>WE/EU</td>\n",
       "      <td>85.0</td>\n",
       "      <td>1.83</td>\n",
       "      <td>8.0</td>\n",
       "      <td>85.0</td>\n",
       "      <td>1.85</td>\n",
       "      <td>7.0</td>\n",
       "      <td>88.0</td>\n",
       "      <td>...</td>\n",
       "      <td>7.0</td>\n",
       "      <td>86.0</td>\n",
       "      <td>2.38</td>\n",
       "      <td>7.0</td>\n",
       "      <td>86.0</td>\n",
       "      <td>2.3</td>\n",
       "      <td>7.0</td>\n",
       "      <td>85.0</td>\n",
       "      <td>1.6</td>\n",
       "      <td>7.0</td>\n",
       "    </tr>\n",
       "    <tr>\n",
       "      <th>4</th>\n",
       "      <td>Switzerland</td>\n",
       "      <td>CHE</td>\n",
       "      <td>WE/EU</td>\n",
       "      <td>85.0</td>\n",
       "      <td>1.71</td>\n",
       "      <td>7.0</td>\n",
       "      <td>86.0</td>\n",
       "      <td>1.57</td>\n",
       "      <td>6.0</td>\n",
       "      <td>86.0</td>\n",
       "      <td>...</td>\n",
       "      <td>6.0</td>\n",
       "      <td>86.0</td>\n",
       "      <td>2.61</td>\n",
       "      <td>6.0</td>\n",
       "      <td>85.0</td>\n",
       "      <td>2.5</td>\n",
       "      <td>6.0</td>\n",
       "      <td>86.0</td>\n",
       "      <td>2.6</td>\n",
       "      <td>6.0</td>\n",
       "    </tr>\n",
       "  </tbody>\n",
       "</table>\n",
       "<p>5 rows × 21 columns</p>\n",
       "</div>"
      ],
      "text/plain": [
       "       Country ISO3 Region  CPI score 2017  Standard error 2017  Sources 2017  \\\n",
       "0  New Zealand  NZL     AP            89.0                 2.40           8.0   \n",
       "1      Denmark  DNK  WE/EU            88.0                 2.75           8.0   \n",
       "2      Finland  FIN  WE/EU            85.0                 2.84           8.0   \n",
       "3       Norway  NOR  WE/EU            85.0                 1.83           8.0   \n",
       "4  Switzerland  CHE  WE/EU            85.0                 1.71           7.0   \n",
       "\n",
       "   CPI score 2016  Standard error 2016  Sources 2016  CPI score 2015  \\\n",
       "0            90.0                 2.56           7.0            91.0   \n",
       "1            90.0                 2.46           7.0            91.0   \n",
       "2            89.0                 1.46           7.0            90.0   \n",
       "3            85.0                 1.85           7.0            88.0   \n",
       "4            86.0                 1.57           6.0            86.0   \n",
       "\n",
       "       ...       Sources 2015  CPI score 2014  Standard error 2014  \\\n",
       "0      ...                7.0            91.0                 2.28   \n",
       "1      ...                7.0            92.0                 2.04   \n",
       "2      ...                7.0            89.0                 2.05   \n",
       "3      ...                7.0            86.0                 2.38   \n",
       "4      ...                6.0            86.0                 2.61   \n",
       "\n",
       "   Sources 2014  CPI Score 2013  Standard error 2013  Sources 2013  \\\n",
       "0           7.0            91.0                  2.3           7.0   \n",
       "1           7.0            91.0                  2.2           7.0   \n",
       "2           7.0            89.0                  1.7           7.0   \n",
       "3           7.0            86.0                  2.3           7.0   \n",
       "4           6.0            85.0                  2.5           6.0   \n",
       "\n",
       "   CPI Score 2012  Standard error 2012  Sources 2012  \n",
       "0            90.0                  2.2           7.0  \n",
       "1            90.0                  2.0           7.0  \n",
       "2            90.0                  3.0           7.0  \n",
       "3            85.0                  1.6           7.0  \n",
       "4            86.0                  2.6           6.0  \n",
       "\n",
       "[5 rows x 21 columns]"
      ]
     },
     "execution_count": 2,
     "metadata": {},
     "output_type": "execute_result"
    }
   ],
   "source": [
    "#Import raw data on Corruption Perception Index\n",
    "CPI_rawdata = pd.read_csv('CorruptionPerceptionIndices.csv')\n",
    "CPI_rawdata.head()"
   ]
  },
  {
   "cell_type": "code",
   "execution_count": 3,
   "metadata": {},
   "outputs": [
    {
     "data": {
      "text/html": [
       "<div>\n",
       "<style scoped>\n",
       "    .dataframe tbody tr th:only-of-type {\n",
       "        vertical-align: middle;\n",
       "    }\n",
       "\n",
       "    .dataframe tbody tr th {\n",
       "        vertical-align: top;\n",
       "    }\n",
       "\n",
       "    .dataframe thead th {\n",
       "        text-align: right;\n",
       "    }\n",
       "</style>\n",
       "<table border=\"1\" class=\"dataframe\">\n",
       "  <thead>\n",
       "    <tr style=\"text-align: right;\">\n",
       "      <th></th>\n",
       "      <th>Country</th>\n",
       "      <th>ISO3</th>\n",
       "      <th>1972 PR</th>\n",
       "      <th>1972 CL</th>\n",
       "      <th>1972 Status</th>\n",
       "      <th>1973 PR</th>\n",
       "      <th>1973 CL</th>\n",
       "      <th>1973 Status</th>\n",
       "      <th>1974 PR</th>\n",
       "      <th>1974 CL</th>\n",
       "      <th>...</th>\n",
       "      <th>2014 Status</th>\n",
       "      <th>2015 PR</th>\n",
       "      <th>2015 CL</th>\n",
       "      <th>2015 Status</th>\n",
       "      <th>2016 PR</th>\n",
       "      <th>2016 CL</th>\n",
       "      <th>2016 Status</th>\n",
       "      <th>2017 PR</th>\n",
       "      <th>2017 CL</th>\n",
       "      <th>2017 Status</th>\n",
       "    </tr>\n",
       "  </thead>\n",
       "  <tbody>\n",
       "    <tr>\n",
       "      <th>0</th>\n",
       "      <td>Afghanistan</td>\n",
       "      <td>AFG</td>\n",
       "      <td>4</td>\n",
       "      <td>5</td>\n",
       "      <td>PF</td>\n",
       "      <td>7</td>\n",
       "      <td>6</td>\n",
       "      <td>NF</td>\n",
       "      <td>7</td>\n",
       "      <td>6</td>\n",
       "      <td>...</td>\n",
       "      <td>NF</td>\n",
       "      <td>6</td>\n",
       "      <td>6</td>\n",
       "      <td>NF</td>\n",
       "      <td>6</td>\n",
       "      <td>6</td>\n",
       "      <td>NF</td>\n",
       "      <td>5</td>\n",
       "      <td>6</td>\n",
       "      <td>NF</td>\n",
       "    </tr>\n",
       "    <tr>\n",
       "      <th>1</th>\n",
       "      <td>Albania</td>\n",
       "      <td>ALB</td>\n",
       "      <td>7</td>\n",
       "      <td>7</td>\n",
       "      <td>NF</td>\n",
       "      <td>7</td>\n",
       "      <td>7</td>\n",
       "      <td>NF</td>\n",
       "      <td>7</td>\n",
       "      <td>7</td>\n",
       "      <td>...</td>\n",
       "      <td>PF</td>\n",
       "      <td>3</td>\n",
       "      <td>3</td>\n",
       "      <td>PF</td>\n",
       "      <td>3</td>\n",
       "      <td>3</td>\n",
       "      <td>PF</td>\n",
       "      <td>3</td>\n",
       "      <td>3</td>\n",
       "      <td>PF</td>\n",
       "    </tr>\n",
       "    <tr>\n",
       "      <th>2</th>\n",
       "      <td>Algeria</td>\n",
       "      <td>DZA</td>\n",
       "      <td>6</td>\n",
       "      <td>6</td>\n",
       "      <td>NF</td>\n",
       "      <td>6</td>\n",
       "      <td>6</td>\n",
       "      <td>NF</td>\n",
       "      <td>6</td>\n",
       "      <td>6</td>\n",
       "      <td>...</td>\n",
       "      <td>NF</td>\n",
       "      <td>6</td>\n",
       "      <td>5</td>\n",
       "      <td>NF</td>\n",
       "      <td>6</td>\n",
       "      <td>5</td>\n",
       "      <td>NF</td>\n",
       "      <td>6</td>\n",
       "      <td>5</td>\n",
       "      <td>NF</td>\n",
       "    </tr>\n",
       "    <tr>\n",
       "      <th>3</th>\n",
       "      <td>Andorra</td>\n",
       "      <td>AND</td>\n",
       "      <td>4</td>\n",
       "      <td>3</td>\n",
       "      <td>PF</td>\n",
       "      <td>4</td>\n",
       "      <td>4</td>\n",
       "      <td>PF</td>\n",
       "      <td>4</td>\n",
       "      <td>4</td>\n",
       "      <td>...</td>\n",
       "      <td>F</td>\n",
       "      <td>1</td>\n",
       "      <td>1</td>\n",
       "      <td>F</td>\n",
       "      <td>1</td>\n",
       "      <td>1</td>\n",
       "      <td>F</td>\n",
       "      <td>1</td>\n",
       "      <td>1</td>\n",
       "      <td>F</td>\n",
       "    </tr>\n",
       "    <tr>\n",
       "      <th>4</th>\n",
       "      <td>Angola</td>\n",
       "      <td>AGO</td>\n",
       "      <td>-</td>\n",
       "      <td>-</td>\n",
       "      <td>-</td>\n",
       "      <td>-</td>\n",
       "      <td>-</td>\n",
       "      <td>-</td>\n",
       "      <td>-</td>\n",
       "      <td>-</td>\n",
       "      <td>...</td>\n",
       "      <td>NF</td>\n",
       "      <td>6</td>\n",
       "      <td>6</td>\n",
       "      <td>NF</td>\n",
       "      <td>6</td>\n",
       "      <td>6</td>\n",
       "      <td>NF</td>\n",
       "      <td>6</td>\n",
       "      <td>6</td>\n",
       "      <td>NF</td>\n",
       "    </tr>\n",
       "  </tbody>\n",
       "</table>\n",
       "<p>5 rows × 137 columns</p>\n",
       "</div>"
      ],
      "text/plain": [
       "       Country ISO3 1972 PR 1972 CL  1972 Status 1973 PR 1973 CL  1973 Status  \\\n",
       "0  Afghanistan  AFG       4        5          PF       7        6          NF   \n",
       "1      Albania  ALB       7        7          NF       7        7          NF   \n",
       "2      Algeria  DZA       6        6          NF       6        6          NF   \n",
       "3      Andorra  AND       4        3          PF       4        4          PF   \n",
       "4       Angola  AGO       -        -           -       -        -           -   \n",
       "\n",
       "  1974 PR 1974 CL      ...     2014 Status 2015 PR 2015 CL 2015 Status  \\\n",
       "0       7        6     ...              NF       6       6          NF   \n",
       "1       7        7     ...              PF       3       3          PF   \n",
       "2       6        6     ...              NF       6       5          NF   \n",
       "3       4        4     ...               F       1       1           F   \n",
       "4       -        -     ...              NF       6       6          NF   \n",
       "\n",
       "  2016 PR 2016 CL 2016 Status 2017 PR 2017 CL 2017 Status  \n",
       "0       6       6          NF       5       6          NF  \n",
       "1       3       3          PF       3       3          PF  \n",
       "2       6       5          NF       6       5          NF  \n",
       "3       1       1           F       1       1           F  \n",
       "4       6       6          NF       6       6          NF  \n",
       "\n",
       "[5 rows x 137 columns]"
      ]
     },
     "execution_count": 3,
     "metadata": {},
     "output_type": "execute_result"
    }
   ],
   "source": [
    "#Import raw data on Political Freedom in the Countries\n",
    "PF_rawdata = pd.read_csv('PoliticalFreedom.csv')\n",
    "PF_rawdata.head()"
   ]
  },
  {
   "cell_type": "code",
   "execution_count": 4,
   "metadata": {},
   "outputs": [
    {
     "data": {
      "text/html": [
       "<div>\n",
       "<style scoped>\n",
       "    .dataframe tbody tr th:only-of-type {\n",
       "        vertical-align: middle;\n",
       "    }\n",
       "\n",
       "    .dataframe tbody tr th {\n",
       "        vertical-align: top;\n",
       "    }\n",
       "\n",
       "    .dataframe thead th {\n",
       "        text-align: right;\n",
       "    }\n",
       "</style>\n",
       "<table border=\"1\" class=\"dataframe\">\n",
       "  <thead>\n",
       "    <tr style=\"text-align: right;\">\n",
       "      <th></th>\n",
       "      <th>Country Name</th>\n",
       "      <th>Country Code</th>\n",
       "      <th>1990</th>\n",
       "      <th>1991</th>\n",
       "      <th>1992</th>\n",
       "      <th>1993</th>\n",
       "      <th>1994</th>\n",
       "      <th>1995</th>\n",
       "      <th>1996</th>\n",
       "      <th>1997</th>\n",
       "      <th>...</th>\n",
       "      <th>2008</th>\n",
       "      <th>2009</th>\n",
       "      <th>2010</th>\n",
       "      <th>2011</th>\n",
       "      <th>2012</th>\n",
       "      <th>2013</th>\n",
       "      <th>2014</th>\n",
       "      <th>2015</th>\n",
       "      <th>2016</th>\n",
       "      <th>2017</th>\n",
       "    </tr>\n",
       "  </thead>\n",
       "  <tbody>\n",
       "    <tr>\n",
       "      <th>0</th>\n",
       "      <td>Aruba</td>\n",
       "      <td>ABW</td>\n",
       "      <td>NaN</td>\n",
       "      <td>NaN</td>\n",
       "      <td>NaN</td>\n",
       "      <td>NaN</td>\n",
       "      <td>NaN</td>\n",
       "      <td>NaN</td>\n",
       "      <td>NaN</td>\n",
       "      <td>NaN</td>\n",
       "      <td>...</td>\n",
       "      <td>NaN</td>\n",
       "      <td>NaN</td>\n",
       "      <td>NaN</td>\n",
       "      <td>NaN</td>\n",
       "      <td>NaN</td>\n",
       "      <td>NaN</td>\n",
       "      <td>NaN</td>\n",
       "      <td>NaN</td>\n",
       "      <td>NaN</td>\n",
       "      <td>NaN</td>\n",
       "    </tr>\n",
       "    <tr>\n",
       "      <th>1</th>\n",
       "      <td>Afghanistan</td>\n",
       "      <td>AFG</td>\n",
       "      <td>NaN</td>\n",
       "      <td>NaN</td>\n",
       "      <td>NaN</td>\n",
       "      <td>NaN</td>\n",
       "      <td>NaN</td>\n",
       "      <td>NaN</td>\n",
       "      <td>NaN</td>\n",
       "      <td>NaN</td>\n",
       "      <td>...</td>\n",
       "      <td>NaN</td>\n",
       "      <td>NaN</td>\n",
       "      <td>NaN</td>\n",
       "      <td>NaN</td>\n",
       "      <td>NaN</td>\n",
       "      <td>NaN</td>\n",
       "      <td>NaN</td>\n",
       "      <td>NaN</td>\n",
       "      <td>NaN</td>\n",
       "      <td>NaN</td>\n",
       "    </tr>\n",
       "    <tr>\n",
       "      <th>2</th>\n",
       "      <td>Angola</td>\n",
       "      <td>AGO</td>\n",
       "      <td>0.2</td>\n",
       "      <td>0.3</td>\n",
       "      <td>0.3</td>\n",
       "      <td>0.4</td>\n",
       "      <td>0.4</td>\n",
       "      <td>0.5</td>\n",
       "      <td>0.6</td>\n",
       "      <td>0.7</td>\n",
       "      <td>...</td>\n",
       "      <td>1.6</td>\n",
       "      <td>1.7</td>\n",
       "      <td>1.8</td>\n",
       "      <td>1.8</td>\n",
       "      <td>1.8</td>\n",
       "      <td>1.9</td>\n",
       "      <td>1.9</td>\n",
       "      <td>1.9</td>\n",
       "      <td>1.9</td>\n",
       "      <td>1.9</td>\n",
       "    </tr>\n",
       "    <tr>\n",
       "      <th>3</th>\n",
       "      <td>Albania</td>\n",
       "      <td>ALB</td>\n",
       "      <td>0.1</td>\n",
       "      <td>0.1</td>\n",
       "      <td>0.1</td>\n",
       "      <td>0.1</td>\n",
       "      <td>0.1</td>\n",
       "      <td>0.1</td>\n",
       "      <td>0.1</td>\n",
       "      <td>0.1</td>\n",
       "      <td>...</td>\n",
       "      <td>0.1</td>\n",
       "      <td>0.1</td>\n",
       "      <td>0.1</td>\n",
       "      <td>0.1</td>\n",
       "      <td>0.1</td>\n",
       "      <td>0.1</td>\n",
       "      <td>0.1</td>\n",
       "      <td>0.1</td>\n",
       "      <td>0.1</td>\n",
       "      <td>0.1</td>\n",
       "    </tr>\n",
       "    <tr>\n",
       "      <th>4</th>\n",
       "      <td>Andorra</td>\n",
       "      <td>AND</td>\n",
       "      <td>NaN</td>\n",
       "      <td>NaN</td>\n",
       "      <td>NaN</td>\n",
       "      <td>NaN</td>\n",
       "      <td>NaN</td>\n",
       "      <td>NaN</td>\n",
       "      <td>NaN</td>\n",
       "      <td>NaN</td>\n",
       "      <td>...</td>\n",
       "      <td>NaN</td>\n",
       "      <td>NaN</td>\n",
       "      <td>NaN</td>\n",
       "      <td>NaN</td>\n",
       "      <td>NaN</td>\n",
       "      <td>NaN</td>\n",
       "      <td>NaN</td>\n",
       "      <td>NaN</td>\n",
       "      <td>NaN</td>\n",
       "      <td>NaN</td>\n",
       "    </tr>\n",
       "  </tbody>\n",
       "</table>\n",
       "<p>5 rows × 30 columns</p>\n",
       "</div>"
      ],
      "text/plain": [
       "  Country Name Country Code  1990  1991  1992  1993  1994  1995  1996  1997  \\\n",
       "0        Aruba          ABW   NaN   NaN   NaN   NaN   NaN   NaN   NaN   NaN   \n",
       "1  Afghanistan          AFG   NaN   NaN   NaN   NaN   NaN   NaN   NaN   NaN   \n",
       "2       Angola          AGO   0.2   0.3   0.3   0.4   0.4   0.5   0.6   0.7   \n",
       "3      Albania          ALB   0.1   0.1   0.1   0.1   0.1   0.1   0.1   0.1   \n",
       "4      Andorra          AND   NaN   NaN   NaN   NaN   NaN   NaN   NaN   NaN   \n",
       "\n",
       "   ...   2008  2009  2010  2011  2012  2013  2014  2015  2016  2017  \n",
       "0  ...    NaN   NaN   NaN   NaN   NaN   NaN   NaN   NaN   NaN   NaN  \n",
       "1  ...    NaN   NaN   NaN   NaN   NaN   NaN   NaN   NaN   NaN   NaN  \n",
       "2  ...    1.6   1.7   1.8   1.8   1.8   1.9   1.9   1.9   1.9   1.9  \n",
       "3  ...    0.1   0.1   0.1   0.1   0.1   0.1   0.1   0.1   0.1   0.1  \n",
       "4  ...    NaN   NaN   NaN   NaN   NaN   NaN   NaN   NaN   NaN   NaN  \n",
       "\n",
       "[5 rows x 30 columns]"
      ]
     },
     "execution_count": 4,
     "metadata": {},
     "output_type": "execute_result"
    }
   ],
   "source": [
    "#Import raw data on HIV prevelance (% of population ages 15-49)\n",
    "HIV_rawdata = pd.read_csv('HIVPrevalence.csv')\n",
    "HIV_rawdata.head()"
   ]
  },
  {
   "cell_type": "code",
   "execution_count": 5,
   "metadata": {},
   "outputs": [
    {
     "data": {
      "text/html": [
       "<div>\n",
       "<style scoped>\n",
       "    .dataframe tbody tr th:only-of-type {\n",
       "        vertical-align: middle;\n",
       "    }\n",
       "\n",
       "    .dataframe tbody tr th {\n",
       "        vertical-align: top;\n",
       "    }\n",
       "\n",
       "    .dataframe thead th {\n",
       "        text-align: right;\n",
       "    }\n",
       "</style>\n",
       "<table border=\"1\" class=\"dataframe\">\n",
       "  <thead>\n",
       "    <tr style=\"text-align: right;\">\n",
       "      <th></th>\n",
       "      <th>Country Name</th>\n",
       "      <th>Country Code</th>\n",
       "      <th>1990</th>\n",
       "      <th>2000</th>\n",
       "      <th>2008</th>\n",
       "      <th>2009</th>\n",
       "      <th>2010</th>\n",
       "      <th>2011</th>\n",
       "      <th>2012</th>\n",
       "      <th>2013</th>\n",
       "      <th>2014</th>\n",
       "      <th>2015</th>\n",
       "      <th>2016</th>\n",
       "      <th>2017</th>\n",
       "    </tr>\n",
       "  </thead>\n",
       "  <tbody>\n",
       "    <tr>\n",
       "      <th>0</th>\n",
       "      <td>Afghanistan</td>\n",
       "      <td>AFG</td>\n",
       "      <td>12.115921</td>\n",
       "      <td>11.768220</td>\n",
       "      <td>11.938241</td>\n",
       "      <td>11.936709</td>\n",
       "      <td>11.936709</td>\n",
       "      <td>11.933646</td>\n",
       "      <td>11.932114</td>\n",
       "      <td>11.924455</td>\n",
       "      <td>11.903011</td>\n",
       "      <td>11.893821</td>\n",
       "      <td>NaN</td>\n",
       "      <td>NaN</td>\n",
       "    </tr>\n",
       "    <tr>\n",
       "      <th>1</th>\n",
       "      <td>Albania</td>\n",
       "      <td>ALB</td>\n",
       "      <td>21.131387</td>\n",
       "      <td>21.094891</td>\n",
       "      <td>22.262774</td>\n",
       "      <td>22.226277</td>\n",
       "      <td>22.846715</td>\n",
       "      <td>22.700730</td>\n",
       "      <td>22.594891</td>\n",
       "      <td>22.521898</td>\n",
       "      <td>22.467153</td>\n",
       "      <td>22.448905</td>\n",
       "      <td>NaN</td>\n",
       "      <td>NaN</td>\n",
       "    </tr>\n",
       "    <tr>\n",
       "      <th>2</th>\n",
       "      <td>Algeria</td>\n",
       "      <td>DZA</td>\n",
       "      <td>2.973037</td>\n",
       "      <td>3.216976</td>\n",
       "      <td>3.144340</td>\n",
       "      <td>3.146019</td>\n",
       "      <td>3.149798</td>\n",
       "      <td>3.149798</td>\n",
       "      <td>3.151687</td>\n",
       "      <td>3.147363</td>\n",
       "      <td>3.136111</td>\n",
       "      <td>3.133046</td>\n",
       "      <td>NaN</td>\n",
       "      <td>NaN</td>\n",
       "    </tr>\n",
       "    <tr>\n",
       "      <th>3</th>\n",
       "      <td>American Samoa</td>\n",
       "      <td>ASM</td>\n",
       "      <td>5.000000</td>\n",
       "      <td>12.500000</td>\n",
       "      <td>14.800000</td>\n",
       "      <td>15.000000</td>\n",
       "      <td>15.000000</td>\n",
       "      <td>15.000000</td>\n",
       "      <td>15.000000</td>\n",
       "      <td>15.000000</td>\n",
       "      <td>15.000000</td>\n",
       "      <td>15.000000</td>\n",
       "      <td>NaN</td>\n",
       "      <td>NaN</td>\n",
       "    </tr>\n",
       "    <tr>\n",
       "      <th>4</th>\n",
       "      <td>Andorra</td>\n",
       "      <td>AND</td>\n",
       "      <td>2.127660</td>\n",
       "      <td>2.127660</td>\n",
       "      <td>1.617021</td>\n",
       "      <td>1.638298</td>\n",
       "      <td>1.638298</td>\n",
       "      <td>1.638298</td>\n",
       "      <td>1.617021</td>\n",
       "      <td>1.723404</td>\n",
       "      <td>1.723404</td>\n",
       "      <td>1.723404</td>\n",
       "      <td>NaN</td>\n",
       "      <td>NaN</td>\n",
       "    </tr>\n",
       "  </tbody>\n",
       "</table>\n",
       "</div>"
      ],
      "text/plain": [
       "     Country Name Country Code       1990       2000       2008       2009  \\\n",
       "0     Afghanistan          AFG  12.115921  11.768220  11.938241  11.936709   \n",
       "1         Albania          ALB  21.131387  21.094891  22.262774  22.226277   \n",
       "2         Algeria          DZA   2.973037   3.216976   3.144340   3.146019   \n",
       "3  American Samoa          ASM   5.000000  12.500000  14.800000  15.000000   \n",
       "4         Andorra          AND   2.127660   2.127660   1.617021   1.638298   \n",
       "\n",
       "        2010       2011       2012       2013       2014       2015  2016  \\\n",
       "0  11.936709  11.933646  11.932114  11.924455  11.903011  11.893821   NaN   \n",
       "1  22.846715  22.700730  22.594891  22.521898  22.467153  22.448905   NaN   \n",
       "2   3.149798   3.149798   3.151687   3.147363   3.136111   3.133046   NaN   \n",
       "3  15.000000  15.000000  15.000000  15.000000  15.000000  15.000000   NaN   \n",
       "4   1.638298   1.638298   1.617021   1.723404   1.723404   1.723404   NaN   \n",
       "\n",
       "   2017  \n",
       "0   NaN  \n",
       "1   NaN  \n",
       "2   NaN  \n",
       "3   NaN  \n",
       "4   NaN  "
      ]
     },
     "execution_count": 5,
     "metadata": {},
     "output_type": "execute_result"
    }
   ],
   "source": [
    "#Import raw data on percentage of arable land\n",
    "PercentArable_rawdata = pd.read_csv('PercentArableLand.csv')\n",
    "PercentArable_rawdata.head()"
   ]
  },
  {
   "cell_type": "code",
   "execution_count": 6,
   "metadata": {},
   "outputs": [
    {
     "data": {
      "text/html": [
       "<div>\n",
       "<style scoped>\n",
       "    .dataframe tbody tr th:only-of-type {\n",
       "        vertical-align: middle;\n",
       "    }\n",
       "\n",
       "    .dataframe tbody tr th {\n",
       "        vertical-align: top;\n",
       "    }\n",
       "\n",
       "    .dataframe thead th {\n",
       "        text-align: right;\n",
       "    }\n",
       "</style>\n",
       "<table border=\"1\" class=\"dataframe\">\n",
       "  <thead>\n",
       "    <tr style=\"text-align: right;\">\n",
       "      <th></th>\n",
       "      <th>Country Name</th>\n",
       "      <th>Country Code</th>\n",
       "      <th>2000</th>\n",
       "      <th>2008</th>\n",
       "      <th>2009</th>\n",
       "      <th>2010</th>\n",
       "      <th>2011</th>\n",
       "      <th>2012</th>\n",
       "      <th>2013</th>\n",
       "      <th>2014</th>\n",
       "      <th>2015</th>\n",
       "      <th>2016</th>\n",
       "      <th>2017</th>\n",
       "    </tr>\n",
       "  </thead>\n",
       "  <tbody>\n",
       "    <tr>\n",
       "      <th>0</th>\n",
       "      <td>Afghanistan</td>\n",
       "      <td>AFG</td>\n",
       "      <td>0.52910</td>\n",
       "      <td>0.480769</td>\n",
       "      <td>0.473934</td>\n",
       "      <td>1.421801</td>\n",
       "      <td>1.421801</td>\n",
       "      <td>1.895735</td>\n",
       "      <td>1.421801</td>\n",
       "      <td>2.857143</td>\n",
       "      <td>0.952381</td>\n",
       "      <td>0.952381</td>\n",
       "      <td>0.47619</td>\n",
       "    </tr>\n",
       "    <tr>\n",
       "      <th>1</th>\n",
       "      <td>Albania</td>\n",
       "      <td>ALB</td>\n",
       "      <td>29.62963</td>\n",
       "      <td>43.269230</td>\n",
       "      <td>42.180100</td>\n",
       "      <td>38.388630</td>\n",
       "      <td>37.440760</td>\n",
       "      <td>40.284360</td>\n",
       "      <td>49.289100</td>\n",
       "      <td>61.428570</td>\n",
       "      <td>58.095240</td>\n",
       "      <td>58.095240</td>\n",
       "      <td>61.90476</td>\n",
       "    </tr>\n",
       "    <tr>\n",
       "      <th>2</th>\n",
       "      <td>Algeria</td>\n",
       "      <td>DZA</td>\n",
       "      <td>10.05291</td>\n",
       "      <td>14.903850</td>\n",
       "      <td>13.270140</td>\n",
       "      <td>11.848340</td>\n",
       "      <td>10.426540</td>\n",
       "      <td>9.478673</td>\n",
       "      <td>12.796210</td>\n",
       "      <td>9.523809</td>\n",
       "      <td>11.904760</td>\n",
       "      <td>12.380950</td>\n",
       "      <td>14.76190</td>\n",
       "    </tr>\n",
       "    <tr>\n",
       "      <th>3</th>\n",
       "      <td>American Samoa</td>\n",
       "      <td>ASM</td>\n",
       "      <td>NaN</td>\n",
       "      <td>80.769230</td>\n",
       "      <td>82.464450</td>\n",
       "      <td>80.094790</td>\n",
       "      <td>74.407590</td>\n",
       "      <td>78.672990</td>\n",
       "      <td>76.777250</td>\n",
       "      <td>89.047620</td>\n",
       "      <td>91.904760</td>\n",
       "      <td>92.380950</td>\n",
       "      <td>93.33334</td>\n",
       "    </tr>\n",
       "    <tr>\n",
       "      <th>4</th>\n",
       "      <td>Andorra</td>\n",
       "      <td>AND</td>\n",
       "      <td>86.77248</td>\n",
       "      <td>98.076920</td>\n",
       "      <td>94.312800</td>\n",
       "      <td>93.838860</td>\n",
       "      <td>95.734600</td>\n",
       "      <td>94.786730</td>\n",
       "      <td>93.838860</td>\n",
       "      <td>96.666660</td>\n",
       "      <td>97.619050</td>\n",
       "      <td>97.142860</td>\n",
       "      <td>97.61905</td>\n",
       "    </tr>\n",
       "  </tbody>\n",
       "</table>\n",
       "</div>"
      ],
      "text/plain": [
       "     Country Name Country Code      2000       2008       2009       2010  \\\n",
       "0     Afghanistan          AFG   0.52910   0.480769   0.473934   1.421801   \n",
       "1         Albania          ALB  29.62963  43.269230  42.180100  38.388630   \n",
       "2         Algeria          DZA  10.05291  14.903850  13.270140  11.848340   \n",
       "3  American Samoa          ASM       NaN  80.769230  82.464450  80.094790   \n",
       "4         Andorra          AND  86.77248  98.076920  94.312800  93.838860   \n",
       "\n",
       "        2011       2012       2013       2014       2015       2016      2017  \n",
       "0   1.421801   1.895735   1.421801   2.857143   0.952381   0.952381   0.47619  \n",
       "1  37.440760  40.284360  49.289100  61.428570  58.095240  58.095240  61.90476  \n",
       "2  10.426540   9.478673  12.796210   9.523809  11.904760  12.380950  14.76190  \n",
       "3  74.407590  78.672990  76.777250  89.047620  91.904760  92.380950  93.33334  \n",
       "4  95.734600  94.786730  93.838860  96.666660  97.619050  97.142860  97.61905  "
      ]
     },
     "execution_count": 6,
     "metadata": {},
     "output_type": "execute_result"
    }
   ],
   "source": [
    "#Import raw data on political stability\n",
    "PoliticalStability_rawdata = pd.read_csv('PoliticalStability.csv')\n",
    "PoliticalStability_rawdata.head()"
   ]
  },
  {
   "cell_type": "code",
   "execution_count": 7,
   "metadata": {
    "scrolled": true
   },
   "outputs": [
    {
     "data": {
      "text/html": [
       "<div>\n",
       "<style scoped>\n",
       "    .dataframe tbody tr th:only-of-type {\n",
       "        vertical-align: middle;\n",
       "    }\n",
       "\n",
       "    .dataframe tbody tr th {\n",
       "        vertical-align: top;\n",
       "    }\n",
       "\n",
       "    .dataframe thead th {\n",
       "        text-align: right;\n",
       "    }\n",
       "</style>\n",
       "<table border=\"1\" class=\"dataframe\">\n",
       "  <thead>\n",
       "    <tr style=\"text-align: right;\">\n",
       "      <th></th>\n",
       "      <th>Country</th>\n",
       "      <th>CountryCode</th>\n",
       "      <th>Area-km2</th>\n",
       "      <th>Population</th>\n",
       "      <th>Cluster</th>\n",
       "      <th>CountOfSurroundingCountries</th>\n",
       "    </tr>\n",
       "  </thead>\n",
       "  <tbody>\n",
       "    <tr>\n",
       "      <th>0</th>\n",
       "      <td>Afghanistan</td>\n",
       "      <td>AFG</td>\n",
       "      <td>652,230</td>\n",
       "      <td>33,369,945</td>\n",
       "      <td>Central Asia</td>\n",
       "      <td>6</td>\n",
       "    </tr>\n",
       "    <tr>\n",
       "      <th>1</th>\n",
       "      <td>Andorra</td>\n",
       "      <td>AND</td>\n",
       "      <td>468</td>\n",
       "      <td>84,082</td>\n",
       "      <td>(none)</td>\n",
       "      <td>2</td>\n",
       "    </tr>\n",
       "    <tr>\n",
       "      <th>2</th>\n",
       "      <td>Armenia</td>\n",
       "      <td>ARM</td>\n",
       "      <td>29,743</td>\n",
       "      <td>3,254,300</td>\n",
       "      <td>Caucasia</td>\n",
       "      <td>4</td>\n",
       "    </tr>\n",
       "    <tr>\n",
       "      <th>3</th>\n",
       "      <td>Artsakh</td>\n",
       "      <td>NaN</td>\n",
       "      <td>11,458</td>\n",
       "      <td>146,600</td>\n",
       "      <td>Caucasia</td>\n",
       "      <td>3</td>\n",
       "    </tr>\n",
       "    <tr>\n",
       "      <th>4</th>\n",
       "      <td>Austria</td>\n",
       "      <td>AUT</td>\n",
       "      <td>83,871</td>\n",
       "      <td>8,823,054</td>\n",
       "      <td>Central Europe</td>\n",
       "      <td>8</td>\n",
       "    </tr>\n",
       "  </tbody>\n",
       "</table>\n",
       "</div>"
      ],
      "text/plain": [
       "       Country CountryCode Area-km2  Population         Cluster  \\\n",
       "0  Afghanistan         AFG  652,230  33,369,945    Central Asia   \n",
       "1      Andorra         AND      468      84,082          (none)   \n",
       "2      Armenia         ARM   29,743   3,254,300        Caucasia   \n",
       "3      Artsakh         NaN   11,458     146,600        Caucasia   \n",
       "4      Austria         AUT   83,871   8,823,054  Central Europe   \n",
       "\n",
       "   CountOfSurroundingCountries  \n",
       "0                            6  \n",
       "1                            2  \n",
       "2                            4  \n",
       "3                            3  \n",
       "4                            8  "
      ]
     },
     "execution_count": 7,
     "metadata": {},
     "output_type": "execute_result"
    }
   ],
   "source": [
    "#Import raw data on Landlocked/Coastal countries\n",
    "Landlocked_rawdata = pd.read_csv('LandLockedCountries.csv')\n",
    "Landlocked_rawdata.head()"
   ]
  },
  {
   "cell_type": "code",
   "execution_count": 8,
   "metadata": {
    "scrolled": true
   },
   "outputs": [
    {
     "data": {
      "text/html": [
       "<div>\n",
       "<style scoped>\n",
       "    .dataframe tbody tr th:only-of-type {\n",
       "        vertical-align: middle;\n",
       "    }\n",
       "\n",
       "    .dataframe tbody tr th {\n",
       "        vertical-align: top;\n",
       "    }\n",
       "\n",
       "    .dataframe thead th {\n",
       "        text-align: right;\n",
       "    }\n",
       "</style>\n",
       "<table border=\"1\" class=\"dataframe\">\n",
       "  <thead>\n",
       "    <tr style=\"text-align: right;\">\n",
       "      <th></th>\n",
       "      <th>Country Name</th>\n",
       "      <th>Country Code</th>\n",
       "      <th>1960</th>\n",
       "      <th>1961</th>\n",
       "      <th>1962</th>\n",
       "      <th>1963</th>\n",
       "      <th>1964</th>\n",
       "      <th>1965</th>\n",
       "      <th>1966</th>\n",
       "      <th>1967</th>\n",
       "      <th>...</th>\n",
       "      <th>2008</th>\n",
       "      <th>2009</th>\n",
       "      <th>2010</th>\n",
       "      <th>2011</th>\n",
       "      <th>2012</th>\n",
       "      <th>2013</th>\n",
       "      <th>2014</th>\n",
       "      <th>2015</th>\n",
       "      <th>2016</th>\n",
       "      <th>2017</th>\n",
       "    </tr>\n",
       "  </thead>\n",
       "  <tbody>\n",
       "    <tr>\n",
       "      <th>0</th>\n",
       "      <td>Aruba</td>\n",
       "      <td>ABW</td>\n",
       "      <td>NaN</td>\n",
       "      <td>NaN</td>\n",
       "      <td>NaN</td>\n",
       "      <td>NaN</td>\n",
       "      <td>NaN</td>\n",
       "      <td>NaN</td>\n",
       "      <td>NaN</td>\n",
       "      <td>NaN</td>\n",
       "      <td>...</td>\n",
       "      <td>NaN</td>\n",
       "      <td>NaN</td>\n",
       "      <td>NaN</td>\n",
       "      <td>NaN</td>\n",
       "      <td>NaN</td>\n",
       "      <td>NaN</td>\n",
       "      <td>NaN</td>\n",
       "      <td>NaN</td>\n",
       "      <td>NaN</td>\n",
       "      <td>NaN</td>\n",
       "    </tr>\n",
       "    <tr>\n",
       "      <th>1</th>\n",
       "      <td>Afghanistan</td>\n",
       "      <td>AFG</td>\n",
       "      <td>1.909663</td>\n",
       "      <td>3.782142</td>\n",
       "      <td>1.811496</td>\n",
       "      <td>3.846253</td>\n",
       "      <td>4.744455</td>\n",
       "      <td>5.426419</td>\n",
       "      <td>4.960437</td>\n",
       "      <td>3.914147</td>\n",
       "      <td>...</td>\n",
       "      <td>178.604619</td>\n",
       "      <td>222.639491</td>\n",
       "      <td>224.640575</td>\n",
       "      <td>231.104469</td>\n",
       "      <td>217.180152</td>\n",
       "      <td>162.378377</td>\n",
       "      <td>150.893430</td>\n",
       "      <td>125.599596</td>\n",
       "      <td>117.276265</td>\n",
       "      <td>NaN</td>\n",
       "    </tr>\n",
       "    <tr>\n",
       "      <th>2</th>\n",
       "      <td>Angola</td>\n",
       "      <td>AGO</td>\n",
       "      <td>-0.008860</td>\n",
       "      <td>4.093499</td>\n",
       "      <td>NaN</td>\n",
       "      <td>0.005016</td>\n",
       "      <td>NaN</td>\n",
       "      <td>0.178937</td>\n",
       "      <td>0.453265</td>\n",
       "      <td>2.833985</td>\n",
       "      <td>...</td>\n",
       "      <td>16.960011</td>\n",
       "      <td>10.596222</td>\n",
       "      <td>10.063275</td>\n",
       "      <td>7.966616</td>\n",
       "      <td>9.707067</td>\n",
       "      <td>10.983009</td>\n",
       "      <td>8.743905</td>\n",
       "      <td>13.642121</td>\n",
       "      <td>7.176506</td>\n",
       "      <td>NaN</td>\n",
       "    </tr>\n",
       "    <tr>\n",
       "      <th>3</th>\n",
       "      <td>Albania</td>\n",
       "      <td>ALB</td>\n",
       "      <td>NaN</td>\n",
       "      <td>NaN</td>\n",
       "      <td>NaN</td>\n",
       "      <td>NaN</td>\n",
       "      <td>NaN</td>\n",
       "      <td>NaN</td>\n",
       "      <td>NaN</td>\n",
       "      <td>NaN</td>\n",
       "      <td>...</td>\n",
       "      <td>123.787286</td>\n",
       "      <td>121.997500</td>\n",
       "      <td>125.323504</td>\n",
       "      <td>130.621180</td>\n",
       "      <td>120.383354</td>\n",
       "      <td>93.254377</td>\n",
       "      <td>97.320830</td>\n",
       "      <td>115.798123</td>\n",
       "      <td>58.596690</td>\n",
       "      <td>NaN</td>\n",
       "    </tr>\n",
       "    <tr>\n",
       "      <th>4</th>\n",
       "      <td>Andorra</td>\n",
       "      <td>AND</td>\n",
       "      <td>NaN</td>\n",
       "      <td>NaN</td>\n",
       "      <td>NaN</td>\n",
       "      <td>NaN</td>\n",
       "      <td>NaN</td>\n",
       "      <td>NaN</td>\n",
       "      <td>NaN</td>\n",
       "      <td>NaN</td>\n",
       "      <td>...</td>\n",
       "      <td>NaN</td>\n",
       "      <td>NaN</td>\n",
       "      <td>NaN</td>\n",
       "      <td>NaN</td>\n",
       "      <td>NaN</td>\n",
       "      <td>NaN</td>\n",
       "      <td>NaN</td>\n",
       "      <td>NaN</td>\n",
       "      <td>NaN</td>\n",
       "      <td>NaN</td>\n",
       "    </tr>\n",
       "  </tbody>\n",
       "</table>\n",
       "<p>5 rows × 60 columns</p>\n",
       "</div>"
      ],
      "text/plain": [
       "  Country Name Country Code      1960      1961      1962      1963      1964  \\\n",
       "0        Aruba          ABW       NaN       NaN       NaN       NaN       NaN   \n",
       "1  Afghanistan          AFG  1.909663  3.782142  1.811496  3.846253  4.744455   \n",
       "2       Angola          AGO -0.008860  4.093499       NaN  0.005016       NaN   \n",
       "3      Albania          ALB       NaN       NaN       NaN       NaN       NaN   \n",
       "4      Andorra          AND       NaN       NaN       NaN       NaN       NaN   \n",
       "\n",
       "       1965      1966      1967  ...         2008        2009        2010  \\\n",
       "0       NaN       NaN       NaN  ...          NaN         NaN         NaN   \n",
       "1  5.426419  4.960437  3.914147  ...   178.604619  222.639491  224.640575   \n",
       "2  0.178937  0.453265  2.833985  ...    16.960011   10.596222   10.063275   \n",
       "3       NaN       NaN       NaN  ...   123.787286  121.997500  125.323504   \n",
       "4       NaN       NaN       NaN  ...          NaN         NaN         NaN   \n",
       "\n",
       "         2011        2012        2013        2014        2015        2016  \\\n",
       "0         NaN         NaN         NaN         NaN         NaN         NaN   \n",
       "1  231.104469  217.180152  162.378377  150.893430  125.599596  117.276265   \n",
       "2    7.966616    9.707067   10.983009    8.743905   13.642121    7.176506   \n",
       "3  130.621180  120.383354   93.254377   97.320830  115.798123   58.596690   \n",
       "4         NaN         NaN         NaN         NaN         NaN         NaN   \n",
       "\n",
       "   2017  \n",
       "0   NaN  \n",
       "1   NaN  \n",
       "2   NaN  \n",
       "3   NaN  \n",
       "4   NaN  \n",
       "\n",
       "[5 rows x 60 columns]"
      ]
     },
     "execution_count": 8,
     "metadata": {},
     "output_type": "execute_result"
    }
   ],
   "source": [
    "#Import raw data on Official Developmengt aid per capita received by the countries in the world\n",
    "ODA_rawdata = pd.read_csv('NetODAByCountry.csv')\n",
    "ODA_rawdata.head()"
   ]
  },
  {
   "cell_type": "markdown",
   "metadata": {},
   "source": [
    "<h3>The target or dependent variable: the Human Development Index</h3>"
   ]
  },
  {
   "cell_type": "code",
   "execution_count": 9,
   "metadata": {},
   "outputs": [
    {
     "data": {
      "text/html": [
       "<div>\n",
       "<style scoped>\n",
       "    .dataframe tbody tr th:only-of-type {\n",
       "        vertical-align: middle;\n",
       "    }\n",
       "\n",
       "    .dataframe tbody tr th {\n",
       "        vertical-align: top;\n",
       "    }\n",
       "\n",
       "    .dataframe thead th {\n",
       "        text-align: right;\n",
       "    }\n",
       "</style>\n",
       "<table border=\"1\" class=\"dataframe\">\n",
       "  <thead>\n",
       "    <tr style=\"text-align: right;\">\n",
       "      <th></th>\n",
       "      <th>HDI Rank 2017</th>\n",
       "      <th>Country</th>\n",
       "      <th>ISO3</th>\n",
       "      <th>1990</th>\n",
       "      <th>1991</th>\n",
       "      <th>1992</th>\n",
       "      <th>1993</th>\n",
       "      <th>1994</th>\n",
       "      <th>1995</th>\n",
       "      <th>1996</th>\n",
       "      <th>...</th>\n",
       "      <th>2008</th>\n",
       "      <th>2009</th>\n",
       "      <th>2010</th>\n",
       "      <th>2011</th>\n",
       "      <th>2012</th>\n",
       "      <th>2013</th>\n",
       "      <th>2014</th>\n",
       "      <th>2015</th>\n",
       "      <th>2016</th>\n",
       "      <th>2017</th>\n",
       "    </tr>\n",
       "  </thead>\n",
       "  <tbody>\n",
       "    <tr>\n",
       "      <th>0</th>\n",
       "      <td>1</td>\n",
       "      <td>Norway</td>\n",
       "      <td>NOR</td>\n",
       "      <td>0.850</td>\n",
       "      <td>0.856</td>\n",
       "      <td>0.862</td>\n",
       "      <td>0.870</td>\n",
       "      <td>0.885</td>\n",
       "      <td>0.883</td>\n",
       "      <td>0.888</td>\n",
       "      <td>...</td>\n",
       "      <td>0.938</td>\n",
       "      <td>0.938</td>\n",
       "      <td>0.942</td>\n",
       "      <td>0.943</td>\n",
       "      <td>0.942</td>\n",
       "      <td>0.946</td>\n",
       "      <td>0.946</td>\n",
       "      <td>0.948</td>\n",
       "      <td>0.951</td>\n",
       "      <td>0.953</td>\n",
       "    </tr>\n",
       "    <tr>\n",
       "      <th>1</th>\n",
       "      <td>2</td>\n",
       "      <td>Switzerland</td>\n",
       "      <td>CHE</td>\n",
       "      <td>0.832</td>\n",
       "      <td>0.834</td>\n",
       "      <td>0.836</td>\n",
       "      <td>0.841</td>\n",
       "      <td>0.844</td>\n",
       "      <td>0.848</td>\n",
       "      <td>0.854</td>\n",
       "      <td>...</td>\n",
       "      <td>0.917</td>\n",
       "      <td>0.927</td>\n",
       "      <td>0.932</td>\n",
       "      <td>0.932</td>\n",
       "      <td>0.935</td>\n",
       "      <td>0.938</td>\n",
       "      <td>0.939</td>\n",
       "      <td>0.942</td>\n",
       "      <td>0.943</td>\n",
       "      <td>0.944</td>\n",
       "    </tr>\n",
       "    <tr>\n",
       "      <th>2</th>\n",
       "      <td>3</td>\n",
       "      <td>Australia</td>\n",
       "      <td>AUS</td>\n",
       "      <td>0.866</td>\n",
       "      <td>0.867</td>\n",
       "      <td>0.868</td>\n",
       "      <td>0.872</td>\n",
       "      <td>0.875</td>\n",
       "      <td>0.883</td>\n",
       "      <td>0.886</td>\n",
       "      <td>...</td>\n",
       "      <td>0.920</td>\n",
       "      <td>0.921</td>\n",
       "      <td>0.923</td>\n",
       "      <td>0.925</td>\n",
       "      <td>0.929</td>\n",
       "      <td>0.931</td>\n",
       "      <td>0.933</td>\n",
       "      <td>0.936</td>\n",
       "      <td>0.938</td>\n",
       "      <td>0.939</td>\n",
       "    </tr>\n",
       "    <tr>\n",
       "      <th>3</th>\n",
       "      <td>4</td>\n",
       "      <td>Ireland</td>\n",
       "      <td>IRL</td>\n",
       "      <td>0.763</td>\n",
       "      <td>0.767</td>\n",
       "      <td>0.773</td>\n",
       "      <td>0.781</td>\n",
       "      <td>0.789</td>\n",
       "      <td>0.795</td>\n",
       "      <td>0.801</td>\n",
       "      <td>...</td>\n",
       "      <td>0.908</td>\n",
       "      <td>0.906</td>\n",
       "      <td>0.909</td>\n",
       "      <td>0.895</td>\n",
       "      <td>0.902</td>\n",
       "      <td>0.911</td>\n",
       "      <td>0.921</td>\n",
       "      <td>0.929</td>\n",
       "      <td>0.934</td>\n",
       "      <td>0.938</td>\n",
       "    </tr>\n",
       "    <tr>\n",
       "      <th>4</th>\n",
       "      <td>5</td>\n",
       "      <td>Germany</td>\n",
       "      <td>DEU</td>\n",
       "      <td>0.801</td>\n",
       "      <td>0.809</td>\n",
       "      <td>0.814</td>\n",
       "      <td>0.824</td>\n",
       "      <td>0.829</td>\n",
       "      <td>0.834</td>\n",
       "      <td>0.839</td>\n",
       "      <td>...</td>\n",
       "      <td>0.917</td>\n",
       "      <td>0.917</td>\n",
       "      <td>0.921</td>\n",
       "      <td>0.926</td>\n",
       "      <td>0.928</td>\n",
       "      <td>0.928</td>\n",
       "      <td>0.930</td>\n",
       "      <td>0.933</td>\n",
       "      <td>0.934</td>\n",
       "      <td>0.936</td>\n",
       "    </tr>\n",
       "  </tbody>\n",
       "</table>\n",
       "<p>5 rows × 31 columns</p>\n",
       "</div>"
      ],
      "text/plain": [
       "   HDI Rank 2017      Country ISO3   1990   1991   1992   1993   1994   1995  \\\n",
       "0              1       Norway  NOR  0.850  0.856  0.862  0.870  0.885  0.883   \n",
       "1              2  Switzerland  CHE  0.832  0.834  0.836  0.841  0.844  0.848   \n",
       "2              3    Australia  AUS  0.866  0.867  0.868  0.872  0.875  0.883   \n",
       "3              4      Ireland  IRL  0.763  0.767  0.773  0.781  0.789  0.795   \n",
       "4              5      Germany  DEU  0.801  0.809  0.814  0.824  0.829  0.834   \n",
       "\n",
       "    1996  ...     2008   2009   2010   2011   2012   2013   2014   2015  \\\n",
       "0  0.888  ...    0.938  0.938  0.942  0.943  0.942  0.946  0.946  0.948   \n",
       "1  0.854  ...    0.917  0.927  0.932  0.932  0.935  0.938  0.939  0.942   \n",
       "2  0.886  ...    0.920  0.921  0.923  0.925  0.929  0.931  0.933  0.936   \n",
       "3  0.801  ...    0.908  0.906  0.909  0.895  0.902  0.911  0.921  0.929   \n",
       "4  0.839  ...    0.917  0.917  0.921  0.926  0.928  0.928  0.930  0.933   \n",
       "\n",
       "    2016   2017  \n",
       "0  0.951  0.953  \n",
       "1  0.943  0.944  \n",
       "2  0.938  0.939  \n",
       "3  0.934  0.938  \n",
       "4  0.934  0.936  \n",
       "\n",
       "[5 rows x 31 columns]"
      ]
     },
     "execution_count": 9,
     "metadata": {},
     "output_type": "execute_result"
    }
   ],
   "source": [
    "#Import raw data on Human Development Indices of the countries in the world\n",
    "HDI_rawdata = pd.read_csv('HDI_v3.csv')\n",
    "HDI_rawdata.head()"
   ]
  },
  {
   "cell_type": "code",
   "execution_count": 10,
   "metadata": {
    "scrolled": true
   },
   "outputs": [
    {
     "name": "stdout",
     "output_type": "stream",
     "text": [
      "Number of countries in the HDI dataset: 189\n"
     ]
    }
   ],
   "source": [
    "#How many countries is this data available for?\n",
    "print(\"Number of countries in the HDI dataset:\", HDI_rawdata['Country'].count())"
   ]
  },
  {
   "cell_type": "markdown",
   "metadata": {},
   "source": [
    "<h3>Subsetting the data for 1 year</h3>"
   ]
  },
  {
   "cell_type": "markdown",
   "metadata": {},
   "source": [
    "The most recent value for the Depenedent variable is for 2017. It would thus make sense to subset 2017 and focus on that. However, the data set is limited by the fact that the data for all of the independent variables is not available for 2017 as can be seen below.  \n",
    "\n",
    "1. Corruption Perception Index: Data available for the years 2012 through 2017.\n",
    "2. Political Freedom Score: Data available for the years 1973 through 2018.\n",
    "3. HIV Prevalence Rate (in percentage of adults aged 15-49): Data available for the years 1990 through 2017.\n",
    "4. Arable Land percentage: Data available for the years 1990 through 2015.\n",
    "5. Political Stability/No Violence - Percentile Rankings: Data available for the years 1972 through 2017.\n",
    "6. Landlocked/Coastal: Year does not matter here.\n",
    "7. Foreign Aid ODA received per capita (USD): Data available for the years 1960 through 2016.\n",
    "\n",
    "Arable Land Percentage data is only available until 2015 and Official Development Aid values are only available until 2016. Arable Land Percentage year on year change is a very small fraction, so we can assume for the purposes of this project that the values for this variable for 2016 are the same as 2015. Official Development Aid on the other hand has too many factors determing it and it would not be wise to assume the values remain the same for it year on year. \n",
    "\n",
    "So, let's focus on the <b>2016</b> subset of the data instead. "
   ]
  },
  {
   "cell_type": "markdown",
   "metadata": {},
   "source": [
    "<h3>Human Development Index for 2016:</h3>"
   ]
  },
  {
   "cell_type": "code",
   "execution_count": 11,
   "metadata": {},
   "outputs": [
    {
     "data": {
      "text/html": [
       "<div>\n",
       "<style scoped>\n",
       "    .dataframe tbody tr th:only-of-type {\n",
       "        vertical-align: middle;\n",
       "    }\n",
       "\n",
       "    .dataframe tbody tr th {\n",
       "        vertical-align: top;\n",
       "    }\n",
       "\n",
       "    .dataframe thead th {\n",
       "        text-align: right;\n",
       "    }\n",
       "</style>\n",
       "<table border=\"1\" class=\"dataframe\">\n",
       "  <thead>\n",
       "    <tr style=\"text-align: right;\">\n",
       "      <th></th>\n",
       "      <th>Country</th>\n",
       "      <th>ISO3</th>\n",
       "      <th>HDI 2016</th>\n",
       "    </tr>\n",
       "  </thead>\n",
       "  <tbody>\n",
       "    <tr>\n",
       "      <th>0</th>\n",
       "      <td>Norway</td>\n",
       "      <td>NOR</td>\n",
       "      <td>0.951</td>\n",
       "    </tr>\n",
       "    <tr>\n",
       "      <th>1</th>\n",
       "      <td>Switzerland</td>\n",
       "      <td>CHE</td>\n",
       "      <td>0.943</td>\n",
       "    </tr>\n",
       "    <tr>\n",
       "      <th>2</th>\n",
       "      <td>Australia</td>\n",
       "      <td>AUS</td>\n",
       "      <td>0.938</td>\n",
       "    </tr>\n",
       "    <tr>\n",
       "      <th>3</th>\n",
       "      <td>Ireland</td>\n",
       "      <td>IRL</td>\n",
       "      <td>0.934</td>\n",
       "    </tr>\n",
       "    <tr>\n",
       "      <th>4</th>\n",
       "      <td>Germany</td>\n",
       "      <td>DEU</td>\n",
       "      <td>0.934</td>\n",
       "    </tr>\n",
       "  </tbody>\n",
       "</table>\n",
       "</div>"
      ],
      "text/plain": [
       "       Country ISO3  HDI 2016\n",
       "0       Norway  NOR     0.951\n",
       "1  Switzerland  CHE     0.943\n",
       "2    Australia  AUS     0.938\n",
       "3      Ireland  IRL     0.934\n",
       "4      Germany  DEU     0.934"
      ]
     },
     "execution_count": 11,
     "metadata": {},
     "output_type": "execute_result"
    }
   ],
   "source": [
    "HDI_2016 = HDI_rawdata[['Country', 'ISO3', '2016']]\n",
    "#Change column names to ensure columns are readable when the data is merged\n",
    "HDI_2016.columns = ['Country', 'ISO3','HDI 2016']\n",
    "HDI_2016.head()"
   ]
  },
  {
   "cell_type": "code",
   "execution_count": 12,
   "metadata": {
    "scrolled": true
   },
   "outputs": [
    {
     "data": {
      "text/plain": [
       "True"
      ]
     },
     "execution_count": 12,
     "metadata": {},
     "output_type": "execute_result"
    }
   ],
   "source": [
    "#Let's check to make sure HDI is available for all the countries in 2016\n",
    "HDI_2016.isnull().values.any()"
   ]
  },
  {
   "cell_type": "code",
   "execution_count": 13,
   "metadata": {},
   "outputs": [
    {
     "data": {
      "text/plain": [
       "189"
      ]
     },
     "execution_count": 13,
     "metadata": {},
     "output_type": "execute_result"
    }
   ],
   "source": [
    "HDI_2016['Country'].count()"
   ]
  },
  {
   "cell_type": "markdown",
   "metadata": {},
   "source": [
    "<b>So the Human Development Index information is available for 189 countries in 2016.</b>"
   ]
  },
  {
   "cell_type": "markdown",
   "metadata": {},
   "source": [
    "Similarly we need to extract the 2016 data from our 7 independent variables raw data sets. "
   ]
  },
  {
   "cell_type": "code",
   "execution_count": 14,
   "metadata": {},
   "outputs": [
    {
     "data": {
      "text/html": [
       "<div>\n",
       "<style scoped>\n",
       "    .dataframe tbody tr th:only-of-type {\n",
       "        vertical-align: middle;\n",
       "    }\n",
       "\n",
       "    .dataframe tbody tr th {\n",
       "        vertical-align: top;\n",
       "    }\n",
       "\n",
       "    .dataframe thead th {\n",
       "        text-align: right;\n",
       "    }\n",
       "</style>\n",
       "<table border=\"1\" class=\"dataframe\">\n",
       "  <thead>\n",
       "    <tr style=\"text-align: right;\">\n",
       "      <th></th>\n",
       "      <th>Country</th>\n",
       "      <th>ISO3</th>\n",
       "      <th>Region</th>\n",
       "      <th>CPI score 2016</th>\n",
       "    </tr>\n",
       "  </thead>\n",
       "  <tbody>\n",
       "    <tr>\n",
       "      <th>0</th>\n",
       "      <td>New Zealand</td>\n",
       "      <td>NZL</td>\n",
       "      <td>AP</td>\n",
       "      <td>90.0</td>\n",
       "    </tr>\n",
       "    <tr>\n",
       "      <th>1</th>\n",
       "      <td>Denmark</td>\n",
       "      <td>DNK</td>\n",
       "      <td>WE/EU</td>\n",
       "      <td>90.0</td>\n",
       "    </tr>\n",
       "    <tr>\n",
       "      <th>2</th>\n",
       "      <td>Finland</td>\n",
       "      <td>FIN</td>\n",
       "      <td>WE/EU</td>\n",
       "      <td>89.0</td>\n",
       "    </tr>\n",
       "    <tr>\n",
       "      <th>3</th>\n",
       "      <td>Norway</td>\n",
       "      <td>NOR</td>\n",
       "      <td>WE/EU</td>\n",
       "      <td>85.0</td>\n",
       "    </tr>\n",
       "    <tr>\n",
       "      <th>4</th>\n",
       "      <td>Switzerland</td>\n",
       "      <td>CHE</td>\n",
       "      <td>WE/EU</td>\n",
       "      <td>86.0</td>\n",
       "    </tr>\n",
       "  </tbody>\n",
       "</table>\n",
       "</div>"
      ],
      "text/plain": [
       "       Country ISO3 Region  CPI score 2016\n",
       "0  New Zealand  NZL     AP            90.0\n",
       "1      Denmark  DNK  WE/EU            90.0\n",
       "2      Finland  FIN  WE/EU            89.0\n",
       "3       Norway  NOR  WE/EU            85.0\n",
       "4  Switzerland  CHE  WE/EU            86.0"
      ]
     },
     "execution_count": 14,
     "metadata": {},
     "output_type": "execute_result"
    }
   ],
   "source": [
    "CPI_2016 = CPI_rawdata[['Country', 'ISO3', 'Region', 'CPI score 2016']]\n",
    "CPI_2016.head()"
   ]
  },
  {
   "cell_type": "code",
   "execution_count": 15,
   "metadata": {},
   "outputs": [
    {
     "data": {
      "text/plain": [
       "181"
      ]
     },
     "execution_count": 15,
     "metadata": {},
     "output_type": "execute_result"
    }
   ],
   "source": [
    "CPI_2016['Country'].count()"
   ]
  },
  {
   "cell_type": "code",
   "execution_count": 16,
   "metadata": {},
   "outputs": [
    {
     "data": {
      "text/html": [
       "<div>\n",
       "<style scoped>\n",
       "    .dataframe tbody tr th:only-of-type {\n",
       "        vertical-align: middle;\n",
       "    }\n",
       "\n",
       "    .dataframe tbody tr th {\n",
       "        vertical-align: top;\n",
       "    }\n",
       "\n",
       "    .dataframe thead th {\n",
       "        text-align: right;\n",
       "    }\n",
       "</style>\n",
       "<table border=\"1\" class=\"dataframe\">\n",
       "  <thead>\n",
       "    <tr style=\"text-align: right;\">\n",
       "      <th></th>\n",
       "      <th>Country</th>\n",
       "      <th>ISO3</th>\n",
       "      <th>Political Freedom Status 2016</th>\n",
       "    </tr>\n",
       "  </thead>\n",
       "  <tbody>\n",
       "    <tr>\n",
       "      <th>0</th>\n",
       "      <td>Afghanistan</td>\n",
       "      <td>AFG</td>\n",
       "      <td>NF</td>\n",
       "    </tr>\n",
       "    <tr>\n",
       "      <th>1</th>\n",
       "      <td>Albania</td>\n",
       "      <td>ALB</td>\n",
       "      <td>PF</td>\n",
       "    </tr>\n",
       "    <tr>\n",
       "      <th>2</th>\n",
       "      <td>Algeria</td>\n",
       "      <td>DZA</td>\n",
       "      <td>NF</td>\n",
       "    </tr>\n",
       "    <tr>\n",
       "      <th>3</th>\n",
       "      <td>Andorra</td>\n",
       "      <td>AND</td>\n",
       "      <td>F</td>\n",
       "    </tr>\n",
       "    <tr>\n",
       "      <th>4</th>\n",
       "      <td>Angola</td>\n",
       "      <td>AGO</td>\n",
       "      <td>NF</td>\n",
       "    </tr>\n",
       "  </tbody>\n",
       "</table>\n",
       "</div>"
      ],
      "text/plain": [
       "       Country ISO3 Political Freedom Status 2016\n",
       "0  Afghanistan  AFG                            NF\n",
       "1      Albania  ALB                            PF\n",
       "2      Algeria  DZA                            NF\n",
       "3      Andorra  AND                             F\n",
       "4       Angola  AGO                            NF"
      ]
     },
     "execution_count": 16,
     "metadata": {},
     "output_type": "execute_result"
    }
   ],
   "source": [
    "PF_2016 = PF_rawdata[['Country', 'ISO3', '2016 Status']]\n",
    "#Change column names to ensure columns are readable when the data is merged\n",
    "PF_2016.columns = ['Country', 'ISO3', 'Political Freedom Status 2016']\n",
    "PF_2016.head()"
   ]
  },
  {
   "cell_type": "code",
   "execution_count": 17,
   "metadata": {},
   "outputs": [
    {
     "data": {
      "text/plain": [
       "205"
      ]
     },
     "execution_count": 17,
     "metadata": {},
     "output_type": "execute_result"
    }
   ],
   "source": [
    "PF_2016['Country'].count()"
   ]
  },
  {
   "cell_type": "code",
   "execution_count": 18,
   "metadata": {},
   "outputs": [
    {
     "data": {
      "text/html": [
       "<div>\n",
       "<style scoped>\n",
       "    .dataframe tbody tr th:only-of-type {\n",
       "        vertical-align: middle;\n",
       "    }\n",
       "\n",
       "    .dataframe tbody tr th {\n",
       "        vertical-align: top;\n",
       "    }\n",
       "\n",
       "    .dataframe thead th {\n",
       "        text-align: right;\n",
       "    }\n",
       "</style>\n",
       "<table border=\"1\" class=\"dataframe\">\n",
       "  <thead>\n",
       "    <tr style=\"text-align: right;\">\n",
       "      <th></th>\n",
       "      <th>Country</th>\n",
       "      <th>ISO3</th>\n",
       "      <th>HIV Prevelance Rate 2016</th>\n",
       "    </tr>\n",
       "  </thead>\n",
       "  <tbody>\n",
       "    <tr>\n",
       "      <th>0</th>\n",
       "      <td>Aruba</td>\n",
       "      <td>ABW</td>\n",
       "      <td>NaN</td>\n",
       "    </tr>\n",
       "    <tr>\n",
       "      <th>1</th>\n",
       "      <td>Afghanistan</td>\n",
       "      <td>AFG</td>\n",
       "      <td>NaN</td>\n",
       "    </tr>\n",
       "    <tr>\n",
       "      <th>2</th>\n",
       "      <td>Angola</td>\n",
       "      <td>AGO</td>\n",
       "      <td>1.9</td>\n",
       "    </tr>\n",
       "    <tr>\n",
       "      <th>3</th>\n",
       "      <td>Albania</td>\n",
       "      <td>ALB</td>\n",
       "      <td>0.1</td>\n",
       "    </tr>\n",
       "    <tr>\n",
       "      <th>4</th>\n",
       "      <td>Andorra</td>\n",
       "      <td>AND</td>\n",
       "      <td>NaN</td>\n",
       "    </tr>\n",
       "  </tbody>\n",
       "</table>\n",
       "</div>"
      ],
      "text/plain": [
       "       Country ISO3  HIV Prevelance Rate 2016\n",
       "0        Aruba  ABW                       NaN\n",
       "1  Afghanistan  AFG                       NaN\n",
       "2       Angola  AGO                       1.9\n",
       "3      Albania  ALB                       0.1\n",
       "4      Andorra  AND                       NaN"
      ]
     },
     "execution_count": 18,
     "metadata": {},
     "output_type": "execute_result"
    }
   ],
   "source": [
    "HIV_2016 = HIV_rawdata[['Country Name', 'Country Code', '2016']]\n",
    "#Change column names to ensure columns are readable when the data is merged\n",
    "HIV_2016.columns = ['Country', 'ISO3', 'HIV Prevelance Rate 2016']\n",
    "HIV_2016.head()"
   ]
  },
  {
   "cell_type": "markdown",
   "metadata": {},
   "source": [
    "Arable land percentage is not available for 2016. The latest year for which this data is available is 2015. Let's look at how much this data changes for year on year to see if we can make a reasonable assumption of arable land in the countries for 2015. Let's look at the data for the last 3 years, 2013, 2014 and 2015."
   ]
  },
  {
   "cell_type": "code",
   "execution_count": 19,
   "metadata": {
    "scrolled": true
   },
   "outputs": [
    {
     "data": {
      "text/html": [
       "<div>\n",
       "<style scoped>\n",
       "    .dataframe tbody tr th:only-of-type {\n",
       "        vertical-align: middle;\n",
       "    }\n",
       "\n",
       "    .dataframe tbody tr th {\n",
       "        vertical-align: top;\n",
       "    }\n",
       "\n",
       "    .dataframe thead th {\n",
       "        text-align: right;\n",
       "    }\n",
       "</style>\n",
       "<table border=\"1\" class=\"dataframe\">\n",
       "  <thead>\n",
       "    <tr style=\"text-align: right;\">\n",
       "      <th></th>\n",
       "      <th>Country Name</th>\n",
       "      <th>2013</th>\n",
       "      <th>2014</th>\n",
       "      <th>2015</th>\n",
       "    </tr>\n",
       "  </thead>\n",
       "  <tbody>\n",
       "    <tr>\n",
       "      <th>0</th>\n",
       "      <td>Afghanistan</td>\n",
       "      <td>11.924455</td>\n",
       "      <td>11.903011</td>\n",
       "      <td>11.893821</td>\n",
       "    </tr>\n",
       "    <tr>\n",
       "      <th>1</th>\n",
       "      <td>Albania</td>\n",
       "      <td>22.521898</td>\n",
       "      <td>22.467153</td>\n",
       "      <td>22.448905</td>\n",
       "    </tr>\n",
       "    <tr>\n",
       "      <th>2</th>\n",
       "      <td>Algeria</td>\n",
       "      <td>3.147363</td>\n",
       "      <td>3.136111</td>\n",
       "      <td>3.133046</td>\n",
       "    </tr>\n",
       "    <tr>\n",
       "      <th>3</th>\n",
       "      <td>American Samoa</td>\n",
       "      <td>15.000000</td>\n",
       "      <td>15.000000</td>\n",
       "      <td>15.000000</td>\n",
       "    </tr>\n",
       "    <tr>\n",
       "      <th>4</th>\n",
       "      <td>Andorra</td>\n",
       "      <td>1.723404</td>\n",
       "      <td>1.723404</td>\n",
       "      <td>1.723404</td>\n",
       "    </tr>\n",
       "  </tbody>\n",
       "</table>\n",
       "</div>"
      ],
      "text/plain": [
       "     Country Name       2013       2014       2015\n",
       "0     Afghanistan  11.924455  11.903011  11.893821\n",
       "1         Albania  22.521898  22.467153  22.448905\n",
       "2         Algeria   3.147363   3.136111   3.133046\n",
       "3  American Samoa  15.000000  15.000000  15.000000\n",
       "4         Andorra   1.723404   1.723404   1.723404"
      ]
     },
     "execution_count": 19,
     "metadata": {},
     "output_type": "execute_result"
    }
   ],
   "source": [
    "ArableLandSubset = PercentArable_rawdata[['Country Name', '2013', '2014', '2015']]\n",
    "ArableLandSubset.head()"
   ]
  },
  {
   "cell_type": "code",
   "execution_count": 20,
   "metadata": {},
   "outputs": [
    {
     "data": {
      "text/plain": [
       "True"
      ]
     },
     "execution_count": 20,
     "metadata": {},
     "output_type": "execute_result"
    }
   ],
   "source": [
    "#Let's check to make no null values\n",
    "ArableLandSubset.isnull().values.any()"
   ]
  },
  {
   "cell_type": "code",
   "execution_count": 21,
   "metadata": {},
   "outputs": [
    {
     "data": {
      "text/plain": [
       "253"
      ]
     },
     "execution_count": 21,
     "metadata": {},
     "output_type": "execute_result"
    }
   ],
   "source": [
    "#Remove the null values\n",
    "ArableLandSubset = ArableLandSubset.dropna()\n",
    "ArableLandSubset.isnull().values.any()\n",
    "ArableLandSubset1 = ArableLandSubset.head(20)\n",
    "ArableLandSubset['Country Name'].count()"
   ]
  },
  {
   "cell_type": "markdown",
   "metadata": {},
   "source": [
    "Let's verify year on year change for Arable Land Percentage by checking out the data for the years 2013, 2014 and 2015"
   ]
  },
  {
   "cell_type": "code",
   "execution_count": 22,
   "metadata": {},
   "outputs": [
    {
     "data": {
      "text/plain": [
       "<Figure size 640x480 with 1 Axes>"
      ]
     },
     "metadata": {},
     "output_type": "display_data"
    }
   ],
   "source": [
    "# libraries\n",
    "import numpy as np\n",
    "import matplotlib.pyplot as plt\n",
    " \n",
    "# set width of bar\n",
    "barWidth = 0.25\n",
    " \n",
    "# set height of bar\n",
    "bars1 = ArableLandSubset1['2013']*100\n",
    "bars2 = ArableLandSubset1['2014']*100\n",
    "bars3 = ArableLandSubset1['2015']*100\n",
    " \n",
    "# Set position of bar on X axis\n",
    "r1 = np.arange(len(bars1))\n",
    "r2 = [x + barWidth for x in r1]\n",
    "r3 = [x + barWidth for x in r2]\n",
    " \n",
    "# Make the plot\n",
    "plt.bar(r1, bars1, color='#7f6d5f', width=barWidth, edgecolor='white', label='2013')\n",
    "plt.bar(r2, bars2, color='#557f2d', width=barWidth, edgecolor='white', label='2014')\n",
    "plt.bar(r3, bars3, color='#2d7f5e', width=barWidth, edgecolor='white', label='2015')\n",
    " \n",
    "# Add xticks on the middle of the group bars\n",
    "plt.xlabel('group', fontweight='bold')\n",
    "plt.xticks([r + barWidth for r in range(len(bars1))], ArableLandSubset1.index)\n",
    " \n",
    "# Create legend & Show graphic\n",
    "plt.legend()\n",
    "plt.show()"
   ]
  },
  {
   "cell_type": "markdown",
   "metadata": {},
   "source": [
    "The small subset of data shows the arable land percentage has very little variance year on year for the last 3 years of available data. Thus for the purposes of my work, I will assume that the arable land percentage for 2016 is the same 2015."
   ]
  },
  {
   "cell_type": "code",
   "execution_count": 23,
   "metadata": {},
   "outputs": [
    {
     "data": {
      "text/html": [
       "<div>\n",
       "<style scoped>\n",
       "    .dataframe tbody tr th:only-of-type {\n",
       "        vertical-align: middle;\n",
       "    }\n",
       "\n",
       "    .dataframe tbody tr th {\n",
       "        vertical-align: top;\n",
       "    }\n",
       "\n",
       "    .dataframe thead th {\n",
       "        text-align: right;\n",
       "    }\n",
       "</style>\n",
       "<table border=\"1\" class=\"dataframe\">\n",
       "  <thead>\n",
       "    <tr style=\"text-align: right;\">\n",
       "      <th></th>\n",
       "      <th>Country</th>\n",
       "      <th>ISO3</th>\n",
       "      <th>Percent Arable Land 2016</th>\n",
       "    </tr>\n",
       "  </thead>\n",
       "  <tbody>\n",
       "    <tr>\n",
       "      <th>0</th>\n",
       "      <td>Afghanistan</td>\n",
       "      <td>AFG</td>\n",
       "      <td>11.893821</td>\n",
       "    </tr>\n",
       "    <tr>\n",
       "      <th>1</th>\n",
       "      <td>Albania</td>\n",
       "      <td>ALB</td>\n",
       "      <td>22.448905</td>\n",
       "    </tr>\n",
       "    <tr>\n",
       "      <th>2</th>\n",
       "      <td>Algeria</td>\n",
       "      <td>DZA</td>\n",
       "      <td>3.133046</td>\n",
       "    </tr>\n",
       "    <tr>\n",
       "      <th>3</th>\n",
       "      <td>American Samoa</td>\n",
       "      <td>ASM</td>\n",
       "      <td>15.000000</td>\n",
       "    </tr>\n",
       "    <tr>\n",
       "      <th>4</th>\n",
       "      <td>Andorra</td>\n",
       "      <td>AND</td>\n",
       "      <td>1.723404</td>\n",
       "    </tr>\n",
       "  </tbody>\n",
       "</table>\n",
       "</div>"
      ],
      "text/plain": [
       "          Country ISO3  Percent Arable Land 2016\n",
       "0     Afghanistan  AFG                 11.893821\n",
       "1         Albania  ALB                 22.448905\n",
       "2         Algeria  DZA                  3.133046\n",
       "3  American Samoa  ASM                 15.000000\n",
       "4         Andorra  AND                  1.723404"
      ]
     },
     "execution_count": 23,
     "metadata": {},
     "output_type": "execute_result"
    }
   ],
   "source": [
    "PredictedArableLand = PercentArable_rawdata\n",
    "PredictedArableLand['2016'] = PercentArable_rawdata['2015']\n",
    "\n",
    "#Subsetting the 2016 data\n",
    "PercentArableLand_2016 = PredictedArableLand[['Country Name', 'Country Code', '2016']]\n",
    "#Change column names to ensure columns are readable when the data is merged\n",
    "PercentArableLand_2016.columns = ['Country', 'ISO3', 'Percent Arable Land 2016']\n",
    "PercentArableLand_2016.head()"
   ]
  },
  {
   "cell_type": "code",
   "execution_count": 24,
   "metadata": {},
   "outputs": [
    {
     "data": {
      "text/html": [
       "<div>\n",
       "<style scoped>\n",
       "    .dataframe tbody tr th:only-of-type {\n",
       "        vertical-align: middle;\n",
       "    }\n",
       "\n",
       "    .dataframe tbody tr th {\n",
       "        vertical-align: top;\n",
       "    }\n",
       "\n",
       "    .dataframe thead th {\n",
       "        text-align: right;\n",
       "    }\n",
       "</style>\n",
       "<table border=\"1\" class=\"dataframe\">\n",
       "  <thead>\n",
       "    <tr style=\"text-align: right;\">\n",
       "      <th></th>\n",
       "      <th>Country</th>\n",
       "      <th>ISO3</th>\n",
       "      <th>Political Stability 2016</th>\n",
       "    </tr>\n",
       "  </thead>\n",
       "  <tbody>\n",
       "    <tr>\n",
       "      <th>0</th>\n",
       "      <td>Afghanistan</td>\n",
       "      <td>AFG</td>\n",
       "      <td>0.952381</td>\n",
       "    </tr>\n",
       "    <tr>\n",
       "      <th>1</th>\n",
       "      <td>Albania</td>\n",
       "      <td>ALB</td>\n",
       "      <td>58.095240</td>\n",
       "    </tr>\n",
       "    <tr>\n",
       "      <th>2</th>\n",
       "      <td>Algeria</td>\n",
       "      <td>DZA</td>\n",
       "      <td>12.380950</td>\n",
       "    </tr>\n",
       "    <tr>\n",
       "      <th>3</th>\n",
       "      <td>American Samoa</td>\n",
       "      <td>ASM</td>\n",
       "      <td>92.380950</td>\n",
       "    </tr>\n",
       "    <tr>\n",
       "      <th>4</th>\n",
       "      <td>Andorra</td>\n",
       "      <td>AND</td>\n",
       "      <td>97.142860</td>\n",
       "    </tr>\n",
       "  </tbody>\n",
       "</table>\n",
       "</div>"
      ],
      "text/plain": [
       "          Country ISO3  Political Stability 2016\n",
       "0     Afghanistan  AFG                  0.952381\n",
       "1         Albania  ALB                 58.095240\n",
       "2         Algeria  DZA                 12.380950\n",
       "3  American Samoa  ASM                 92.380950\n",
       "4         Andorra  AND                 97.142860"
      ]
     },
     "execution_count": 24,
     "metadata": {},
     "output_type": "execute_result"
    }
   ],
   "source": [
    "#Subsetting the 2016 data for political stability\n",
    "PoliticalStability_2016 = PoliticalStability_rawdata[['Country Name', 'Country Code', '2016']]\n",
    "#Change column names to ensure columns are readable when the data is merged\n",
    "PoliticalStability_2016.columns = ['Country', 'ISO3', 'Political Stability 2016']\n",
    "PoliticalStability_2016.head()"
   ]
  },
  {
   "cell_type": "code",
   "execution_count": 25,
   "metadata": {
    "scrolled": false
   },
   "outputs": [
    {
     "data": {
      "text/html": [
       "<div>\n",
       "<style scoped>\n",
       "    .dataframe tbody tr th:only-of-type {\n",
       "        vertical-align: middle;\n",
       "    }\n",
       "\n",
       "    .dataframe tbody tr th {\n",
       "        vertical-align: top;\n",
       "    }\n",
       "\n",
       "    .dataframe thead th {\n",
       "        text-align: right;\n",
       "    }\n",
       "</style>\n",
       "<table border=\"1\" class=\"dataframe\">\n",
       "  <thead>\n",
       "    <tr style=\"text-align: right;\">\n",
       "      <th></th>\n",
       "      <th>Country</th>\n",
       "      <th>ISO3</th>\n",
       "      <th>Land Locked</th>\n",
       "    </tr>\n",
       "  </thead>\n",
       "  <tbody>\n",
       "    <tr>\n",
       "      <th>0</th>\n",
       "      <td>Afghanistan</td>\n",
       "      <td>AFG</td>\n",
       "      <td>Yes</td>\n",
       "    </tr>\n",
       "    <tr>\n",
       "      <th>1</th>\n",
       "      <td>Andorra</td>\n",
       "      <td>AND</td>\n",
       "      <td>Yes</td>\n",
       "    </tr>\n",
       "    <tr>\n",
       "      <th>2</th>\n",
       "      <td>Armenia</td>\n",
       "      <td>ARM</td>\n",
       "      <td>Yes</td>\n",
       "    </tr>\n",
       "    <tr>\n",
       "      <th>3</th>\n",
       "      <td>Artsakh</td>\n",
       "      <td>NaN</td>\n",
       "      <td>Yes</td>\n",
       "    </tr>\n",
       "    <tr>\n",
       "      <th>4</th>\n",
       "      <td>Austria</td>\n",
       "      <td>AUT</td>\n",
       "      <td>Yes</td>\n",
       "    </tr>\n",
       "  </tbody>\n",
       "</table>\n",
       "</div>"
      ],
      "text/plain": [
       "       Country ISO3 Land Locked\n",
       "0  Afghanistan  AFG         Yes\n",
       "1      Andorra  AND         Yes\n",
       "2      Armenia  ARM         Yes\n",
       "3      Artsakh  NaN         Yes\n",
       "4      Austria  AUT         Yes"
      ]
     },
     "execution_count": 25,
     "metadata": {},
     "output_type": "execute_result"
    }
   ],
   "source": [
    "Landlocked_rawdata.head()\n",
    "#Shape the data \n",
    "LandLockedStatus = Landlocked_rawdata[['Country', 'CountryCode']]\n",
    "LandLockedStatus.columns = ['Country', 'ISO3']\n",
    "LandLockedStatus['Land Locked'] = 'Yes'\n",
    "LandLockedStatus.head()"
   ]
  },
  {
   "cell_type": "code",
   "execution_count": 26,
   "metadata": {},
   "outputs": [
    {
     "data": {
      "text/html": [
       "<div>\n",
       "<style scoped>\n",
       "    .dataframe tbody tr th:only-of-type {\n",
       "        vertical-align: middle;\n",
       "    }\n",
       "\n",
       "    .dataframe tbody tr th {\n",
       "        vertical-align: top;\n",
       "    }\n",
       "\n",
       "    .dataframe thead th {\n",
       "        text-align: right;\n",
       "    }\n",
       "</style>\n",
       "<table border=\"1\" class=\"dataframe\">\n",
       "  <thead>\n",
       "    <tr style=\"text-align: right;\">\n",
       "      <th></th>\n",
       "      <th>Country</th>\n",
       "      <th>ISO3</th>\n",
       "      <th>ODA per capita 2016</th>\n",
       "    </tr>\n",
       "  </thead>\n",
       "  <tbody>\n",
       "    <tr>\n",
       "      <th>0</th>\n",
       "      <td>Aruba</td>\n",
       "      <td>ABW</td>\n",
       "      <td>NaN</td>\n",
       "    </tr>\n",
       "    <tr>\n",
       "      <th>1</th>\n",
       "      <td>Afghanistan</td>\n",
       "      <td>AFG</td>\n",
       "      <td>117.276265</td>\n",
       "    </tr>\n",
       "    <tr>\n",
       "      <th>2</th>\n",
       "      <td>Angola</td>\n",
       "      <td>AGO</td>\n",
       "      <td>7.176506</td>\n",
       "    </tr>\n",
       "    <tr>\n",
       "      <th>3</th>\n",
       "      <td>Albania</td>\n",
       "      <td>ALB</td>\n",
       "      <td>58.596690</td>\n",
       "    </tr>\n",
       "    <tr>\n",
       "      <th>4</th>\n",
       "      <td>Andorra</td>\n",
       "      <td>AND</td>\n",
       "      <td>NaN</td>\n",
       "    </tr>\n",
       "  </tbody>\n",
       "</table>\n",
       "</div>"
      ],
      "text/plain": [
       "       Country ISO3  ODA per capita 2016\n",
       "0        Aruba  ABW                  NaN\n",
       "1  Afghanistan  AFG           117.276265\n",
       "2       Angola  AGO             7.176506\n",
       "3      Albania  ALB            58.596690\n",
       "4      Andorra  AND                  NaN"
      ]
     },
     "execution_count": 26,
     "metadata": {},
     "output_type": "execute_result"
    }
   ],
   "source": [
    "ODA_2016 = ODA_rawdata[['Country Name', 'Country Code', '2016']]\n",
    "#Change column names to ensure columns are readable when the data is merged\n",
    "ODA_2016.columns = ['Country', 'ISO3', 'ODA per capita 2016']\n",
    "ODA_2016.head()"
   ]
  },
  {
   "cell_type": "markdown",
   "metadata": {},
   "source": [
    "<h3>Data Wrangling: Create the combined data set</h3>\n"
   ]
  },
  {
   "cell_type": "code",
   "execution_count": 27,
   "metadata": {},
   "outputs": [
    {
     "data": {
      "text/html": [
       "<div>\n",
       "<style scoped>\n",
       "    .dataframe tbody tr th:only-of-type {\n",
       "        vertical-align: middle;\n",
       "    }\n",
       "\n",
       "    .dataframe tbody tr th {\n",
       "        vertical-align: top;\n",
       "    }\n",
       "\n",
       "    .dataframe thead th {\n",
       "        text-align: right;\n",
       "    }\n",
       "</style>\n",
       "<table border=\"1\" class=\"dataframe\">\n",
       "  <thead>\n",
       "    <tr style=\"text-align: right;\">\n",
       "      <th></th>\n",
       "      <th>Country</th>\n",
       "      <th>ISO3</th>\n",
       "      <th>HDI 2016</th>\n",
       "      <th>Region</th>\n",
       "      <th>CPI score 2016</th>\n",
       "      <th>Political Freedom Status 2016</th>\n",
       "      <th>HIV Prevelance Rate 2016</th>\n",
       "      <th>Percent Arable Land 2016</th>\n",
       "      <th>Political Stability 2016</th>\n",
       "      <th>Land Locked</th>\n",
       "      <th>ODA per capita 2016</th>\n",
       "    </tr>\n",
       "  </thead>\n",
       "  <tbody>\n",
       "    <tr>\n",
       "      <th>0</th>\n",
       "      <td>Norway</td>\n",
       "      <td>NOR</td>\n",
       "      <td>0.951</td>\n",
       "      <td>WE/EU</td>\n",
       "      <td>85.0</td>\n",
       "      <td>F</td>\n",
       "      <td>0.1</td>\n",
       "      <td>2.205643</td>\n",
       "      <td>93.33334</td>\n",
       "      <td>No</td>\n",
       "      <td>NaN</td>\n",
       "    </tr>\n",
       "    <tr>\n",
       "      <th>1</th>\n",
       "      <td>Switzerland</td>\n",
       "      <td>CHE</td>\n",
       "      <td>0.943</td>\n",
       "      <td>WE/EU</td>\n",
       "      <td>86.0</td>\n",
       "      <td>F</td>\n",
       "      <td>NaN</td>\n",
       "      <td>10.079461</td>\n",
       "      <td>94.76190</td>\n",
       "      <td>Yes</td>\n",
       "      <td>NaN</td>\n",
       "    </tr>\n",
       "    <tr>\n",
       "      <th>2</th>\n",
       "      <td>Australia</td>\n",
       "      <td>AUS</td>\n",
       "      <td>0.938</td>\n",
       "      <td>AP</td>\n",
       "      <td>79.0</td>\n",
       "      <td>F</td>\n",
       "      <td>0.1</td>\n",
       "      <td>6.004191</td>\n",
       "      <td>89.04762</td>\n",
       "      <td>No</td>\n",
       "      <td>NaN</td>\n",
       "    </tr>\n",
       "    <tr>\n",
       "      <th>3</th>\n",
       "      <td>Ireland</td>\n",
       "      <td>IRL</td>\n",
       "      <td>0.934</td>\n",
       "      <td>WE/EU</td>\n",
       "      <td>73.0</td>\n",
       "      <td>F</td>\n",
       "      <td>0.2</td>\n",
       "      <td>14.936856</td>\n",
       "      <td>74.28571</td>\n",
       "      <td>No</td>\n",
       "      <td>NaN</td>\n",
       "    </tr>\n",
       "    <tr>\n",
       "      <th>4</th>\n",
       "      <td>Germany</td>\n",
       "      <td>DEU</td>\n",
       "      <td>0.934</td>\n",
       "      <td>WE/EU</td>\n",
       "      <td>81.0</td>\n",
       "      <td>F</td>\n",
       "      <td>0.2</td>\n",
       "      <td>33.965012</td>\n",
       "      <td>69.52381</td>\n",
       "      <td>No</td>\n",
       "      <td>NaN</td>\n",
       "    </tr>\n",
       "  </tbody>\n",
       "</table>\n",
       "</div>"
      ],
      "text/plain": [
       "       Country ISO3  HDI 2016 Region  CPI score 2016  \\\n",
       "0       Norway  NOR     0.951  WE/EU            85.0   \n",
       "1  Switzerland  CHE     0.943  WE/EU            86.0   \n",
       "2    Australia  AUS     0.938     AP            79.0   \n",
       "3      Ireland  IRL     0.934  WE/EU            73.0   \n",
       "4      Germany  DEU     0.934  WE/EU            81.0   \n",
       "\n",
       "  Political Freedom Status 2016  HIV Prevelance Rate 2016  \\\n",
       "0                             F                       0.1   \n",
       "1                             F                       NaN   \n",
       "2                             F                       0.1   \n",
       "3                             F                       0.2   \n",
       "4                             F                       0.2   \n",
       "\n",
       "   Percent Arable Land 2016  Political Stability 2016 Land Locked  \\\n",
       "0                  2.205643                  93.33334          No   \n",
       "1                 10.079461                  94.76190         Yes   \n",
       "2                  6.004191                  89.04762          No   \n",
       "3                 14.936856                  74.28571          No   \n",
       "4                 33.965012                  69.52381          No   \n",
       "\n",
       "   ODA per capita 2016  \n",
       "0                  NaN  \n",
       "1                  NaN  \n",
       "2                  NaN  \n",
       "3                  NaN  \n",
       "4                  NaN  "
      ]
     },
     "execution_count": 27,
     "metadata": {},
     "output_type": "execute_result"
    }
   ],
   "source": [
    "merged1 = pd.merge(HDI_2016, CPI_2016[['ISO3','Region', 'CPI score 2016']],on='ISO3', how='left')\n",
    "merged2 = pd.merge(merged1, PF_2016[['ISO3','Political Freedom Status 2016']],on='ISO3', how='left')\n",
    "merged3 = pd.merge(merged2, HIV_2016[['ISO3','HIV Prevelance Rate 2016']],on='ISO3', how='left')\n",
    "merged4 = pd.merge(merged3, PercentArableLand_2016[['ISO3','Percent Arable Land 2016']],on='ISO3', how='left')\n",
    "merged5 = pd.merge(merged4, PoliticalStability_2016[['ISO3','Political Stability 2016']],on='ISO3', how='left')\n",
    "merged6 = pd.merge(merged5, LandLockedStatus[['ISO3','Land Locked']],on='ISO3', how='left')\n",
    "merged6.loc[:,'Land Locked'].fillna('No', inplace=True)\n",
    "merged7 = pd.merge(merged6, ODA_2016[['ISO3','ODA per capita 2016']],on='ISO3', how='left')\n",
    "merged7.head()"
   ]
  },
  {
   "cell_type": "code",
   "execution_count": 28,
   "metadata": {},
   "outputs": [
    {
     "data": {
      "text/html": [
       "<div>\n",
       "<style scoped>\n",
       "    .dataframe tbody tr th:only-of-type {\n",
       "        vertical-align: middle;\n",
       "    }\n",
       "\n",
       "    .dataframe tbody tr th {\n",
       "        vertical-align: top;\n",
       "    }\n",
       "\n",
       "    .dataframe thead th {\n",
       "        text-align: right;\n",
       "    }\n",
       "</style>\n",
       "<table border=\"1\" class=\"dataframe\">\n",
       "  <thead>\n",
       "    <tr style=\"text-align: right;\">\n",
       "      <th></th>\n",
       "      <th>ISO3</th>\n",
       "      <th>Country</th>\n",
       "      <th>Region</th>\n",
       "      <th>CPIScore2016</th>\n",
       "      <th>PoliticalFreedomStatus2016</th>\n",
       "      <th>HIVPrevelanceRate2016</th>\n",
       "      <th>PercentArableLand2016</th>\n",
       "      <th>PoliticalStability2016</th>\n",
       "      <th>LandLocked</th>\n",
       "      <th>ODAPerCapita2016</th>\n",
       "      <th>HDI2016</th>\n",
       "    </tr>\n",
       "  </thead>\n",
       "  <tbody>\n",
       "    <tr>\n",
       "      <th>0</th>\n",
       "      <td>NOR</td>\n",
       "      <td>Norway</td>\n",
       "      <td>WE/EU</td>\n",
       "      <td>85.0</td>\n",
       "      <td>F</td>\n",
       "      <td>0.1</td>\n",
       "      <td>2.205643</td>\n",
       "      <td>93.33334</td>\n",
       "      <td>No</td>\n",
       "      <td>NaN</td>\n",
       "      <td>0.951</td>\n",
       "    </tr>\n",
       "    <tr>\n",
       "      <th>1</th>\n",
       "      <td>CHE</td>\n",
       "      <td>Switzerland</td>\n",
       "      <td>WE/EU</td>\n",
       "      <td>86.0</td>\n",
       "      <td>F</td>\n",
       "      <td>NaN</td>\n",
       "      <td>10.079461</td>\n",
       "      <td>94.76190</td>\n",
       "      <td>Yes</td>\n",
       "      <td>NaN</td>\n",
       "      <td>0.943</td>\n",
       "    </tr>\n",
       "    <tr>\n",
       "      <th>2</th>\n",
       "      <td>AUS</td>\n",
       "      <td>Australia</td>\n",
       "      <td>AP</td>\n",
       "      <td>79.0</td>\n",
       "      <td>F</td>\n",
       "      <td>0.1</td>\n",
       "      <td>6.004191</td>\n",
       "      <td>89.04762</td>\n",
       "      <td>No</td>\n",
       "      <td>NaN</td>\n",
       "      <td>0.938</td>\n",
       "    </tr>\n",
       "    <tr>\n",
       "      <th>3</th>\n",
       "      <td>IRL</td>\n",
       "      <td>Ireland</td>\n",
       "      <td>WE/EU</td>\n",
       "      <td>73.0</td>\n",
       "      <td>F</td>\n",
       "      <td>0.2</td>\n",
       "      <td>14.936856</td>\n",
       "      <td>74.28571</td>\n",
       "      <td>No</td>\n",
       "      <td>NaN</td>\n",
       "      <td>0.934</td>\n",
       "    </tr>\n",
       "    <tr>\n",
       "      <th>4</th>\n",
       "      <td>DEU</td>\n",
       "      <td>Germany</td>\n",
       "      <td>WE/EU</td>\n",
       "      <td>81.0</td>\n",
       "      <td>F</td>\n",
       "      <td>0.2</td>\n",
       "      <td>33.965012</td>\n",
       "      <td>69.52381</td>\n",
       "      <td>No</td>\n",
       "      <td>NaN</td>\n",
       "      <td>0.934</td>\n",
       "    </tr>\n",
       "  </tbody>\n",
       "</table>\n",
       "</div>"
      ],
      "text/plain": [
       "  ISO3      Country Region  CPIScore2016 PoliticalFreedomStatus2016  \\\n",
       "0  NOR       Norway  WE/EU          85.0                          F   \n",
       "1  CHE  Switzerland  WE/EU          86.0                          F   \n",
       "2  AUS    Australia     AP          79.0                          F   \n",
       "3  IRL      Ireland  WE/EU          73.0                          F   \n",
       "4  DEU      Germany  WE/EU          81.0                          F   \n",
       "\n",
       "   HIVPrevelanceRate2016  PercentArableLand2016  PoliticalStability2016  \\\n",
       "0                    0.1               2.205643                93.33334   \n",
       "1                    NaN              10.079461                94.76190   \n",
       "2                    0.1               6.004191                89.04762   \n",
       "3                    0.2              14.936856                74.28571   \n",
       "4                    0.2              33.965012                69.52381   \n",
       "\n",
       "  LandLocked  ODAPerCapita2016  HDI2016  \n",
       "0         No               NaN    0.951  \n",
       "1        Yes               NaN    0.943  \n",
       "2         No               NaN    0.938  \n",
       "3         No               NaN    0.934  \n",
       "4         No               NaN    0.934  "
      ]
     },
     "execution_count": 28,
     "metadata": {},
     "output_type": "execute_result"
    }
   ],
   "source": [
    "# Re-arrange columns\n",
    "dataset2016 = merged7[['ISO3', 'Country', 'Region', 'CPI score 2016', 'Political Freedom Status 2016',\n",
    "                       'HIV Prevelance Rate 2016', 'Percent Arable Land 2016', 'Political Stability 2016', \n",
    "                       'Land Locked', 'ODA per capita 2016', 'HDI 2016']]\n",
    "dataset2016.columns = ['ISO3', 'Country', 'Region', 'CPIScore2016', 'PoliticalFreedomStatus2016',\n",
    "                       'HIVPrevelanceRate2016', 'PercentArableLand2016', 'PoliticalStability2016', \n",
    "                       'LandLocked', 'ODAPerCapita2016', 'HDI2016']\n",
    "dataset2016.head()"
   ]
  },
  {
   "cell_type": "code",
   "execution_count": 29,
   "metadata": {},
   "outputs": [],
   "source": [
    "# Write the 2016 data set to a seperate file\n",
    "dataset2016.to_csv('dataset2016.csv', index=False)"
   ]
  },
  {
   "cell_type": "markdown",
   "metadata": {},
   "source": [
    "<h1>Exploratory Data Analysis (EDA)</h1>"
   ]
  },
  {
   "cell_type": "code",
   "execution_count": 30,
   "metadata": {},
   "outputs": [],
   "source": [
    "#Imports\n",
    "import pandas as pd\n",
    "import numpy as np\n",
    "import missingno as msno\n",
    "import seaborn as sns\n",
    "from sklearn import metrics\n",
    "from sklearn.ensemble import ExtraTreesClassifier\n",
    "import matplotlib.ticker as ticker\n",
    "import matplotlib.cm as cm\n",
    "import matplotlib as mpl\n",
    "from matplotlib.gridspec import GridSpec\n",
    "import matplotlib.pyplot as plt\n",
    "%matplotlib inline\n",
    "\n",
    "import warnings\n",
    "warnings.filterwarnings('ignore')"
   ]
  },
  {
   "cell_type": "markdown",
   "metadata": {},
   "source": [
    "<h3>A view of the cleansed 2016 dataset:</h3>"
   ]
  },
  {
   "cell_type": "code",
   "execution_count": 31,
   "metadata": {},
   "outputs": [
    {
     "data": {
      "text/plain": [
       "ISO3                           object\n",
       "Country                        object\n",
       "Region                         object\n",
       "CPIScore2016                  float64\n",
       "PoliticalFreedomStatus2016     object\n",
       "HIVPrevelanceRate2016         float64\n",
       "PercentArableLand2016         float64\n",
       "PoliticalStability2016        float64\n",
       "LandLocked                     object\n",
       "ODAPerCapita2016              float64\n",
       "HDI2016                       float64\n",
       "dtype: object"
      ]
     },
     "execution_count": 31,
     "metadata": {},
     "output_type": "execute_result"
    }
   ],
   "source": [
    "#view the data types\n",
    "dataset2016.dtypes"
   ]
  },
  {
   "cell_type": "code",
   "execution_count": 32,
   "metadata": {},
   "outputs": [
    {
     "name": "stdout",
     "output_type": "stream",
     "text": [
      "Total numberof countries in the 2016 data set:  189\n"
     ]
    }
   ],
   "source": [
    "#Get count of countries\n",
    "print(\"Total numberof countries in the 2016 data set: \", dataset2016['ISO3'].count())"
   ]
  },
  {
   "cell_type": "markdown",
   "metadata": {},
   "source": [
    "What is the number of countries in each region?"
   ]
  },
  {
   "cell_type": "code",
   "execution_count": 33,
   "metadata": {},
   "outputs": [
    {
     "data": {
      "text/plain": [
       "Region\n",
       "AME      32\n",
       "AP       29\n",
       "ECA      18\n",
       "MENA     18\n",
       "SSA      48\n",
       "WE/EU    31\n",
       "Name: Region, dtype: int64"
      ]
     },
     "execution_count": 33,
     "metadata": {},
     "output_type": "execute_result"
    }
   ],
   "source": [
    "dataset2016.groupby('Region')['Region'].count()"
   ]
  },
  {
   "cell_type": "markdown",
   "metadata": {},
   "source": [
    "How many of these regions have the complete data set versus missing data?"
   ]
  },
  {
   "cell_type": "code",
   "execution_count": 34,
   "metadata": {},
   "outputs": [
    {
     "data": {
      "text/html": [
       "<div>\n",
       "<style scoped>\n",
       "    .dataframe tbody tr th:only-of-type {\n",
       "        vertical-align: middle;\n",
       "    }\n",
       "\n",
       "    .dataframe tbody tr th {\n",
       "        vertical-align: top;\n",
       "    }\n",
       "\n",
       "    .dataframe thead th {\n",
       "        text-align: right;\n",
       "    }\n",
       "</style>\n",
       "<table border=\"1\" class=\"dataframe\">\n",
       "  <thead>\n",
       "    <tr style=\"text-align: right;\">\n",
       "      <th></th>\n",
       "      <th>Region</th>\n",
       "      <th>CPIScore2016</th>\n",
       "      <th>HIVPrevelanceRate2016</th>\n",
       "      <th>PercentArableLand2016</th>\n",
       "      <th>PoliticalStability2016</th>\n",
       "      <th>ODAPerCapita2016</th>\n",
       "      <th>HDI2016</th>\n",
       "    </tr>\n",
       "  </thead>\n",
       "  <tbody>\n",
       "    <tr>\n",
       "      <th>0</th>\n",
       "      <td>AME</td>\n",
       "      <td>32</td>\n",
       "      <td>25</td>\n",
       "      <td>32</td>\n",
       "      <td>32</td>\n",
       "      <td>27</td>\n",
       "      <td>32</td>\n",
       "    </tr>\n",
       "    <tr>\n",
       "      <th>1</th>\n",
       "      <td>AP</td>\n",
       "      <td>28</td>\n",
       "      <td>19</td>\n",
       "      <td>29</td>\n",
       "      <td>29</td>\n",
       "      <td>22</td>\n",
       "      <td>29</td>\n",
       "    </tr>\n",
       "    <tr>\n",
       "      <th>2</th>\n",
       "      <td>ECA</td>\n",
       "      <td>18</td>\n",
       "      <td>15</td>\n",
       "      <td>18</td>\n",
       "      <td>18</td>\n",
       "      <td>17</td>\n",
       "      <td>18</td>\n",
       "    </tr>\n",
       "    <tr>\n",
       "      <th>3</th>\n",
       "      <td>MENA</td>\n",
       "      <td>18</td>\n",
       "      <td>9</td>\n",
       "      <td>18</td>\n",
       "      <td>18</td>\n",
       "      <td>11</td>\n",
       "      <td>18</td>\n",
       "    </tr>\n",
       "    <tr>\n",
       "      <th>4</th>\n",
       "      <td>SSA</td>\n",
       "      <td>45</td>\n",
       "      <td>45</td>\n",
       "      <td>47</td>\n",
       "      <td>48</td>\n",
       "      <td>46</td>\n",
       "      <td>48</td>\n",
       "    </tr>\n",
       "    <tr>\n",
       "      <th>5</th>\n",
       "      <td>WE/EU</td>\n",
       "      <td>31</td>\n",
       "      <td>21</td>\n",
       "      <td>31</td>\n",
       "      <td>31</td>\n",
       "      <td>0</td>\n",
       "      <td>31</td>\n",
       "    </tr>\n",
       "  </tbody>\n",
       "</table>\n",
       "</div>"
      ],
      "text/plain": [
       "  Region  CPIScore2016  HIVPrevelanceRate2016  PercentArableLand2016  \\\n",
       "0    AME            32                     25                     32   \n",
       "1     AP            28                     19                     29   \n",
       "2    ECA            18                     15                     18   \n",
       "3   MENA            18                      9                     18   \n",
       "4    SSA            45                     45                     47   \n",
       "5  WE/EU            31                     21                     31   \n",
       "\n",
       "   PoliticalStability2016  ODAPerCapita2016  HDI2016  \n",
       "0                      32                27       32  \n",
       "1                      29                22       29  \n",
       "2                      18                17       18  \n",
       "3                      18                11       18  \n",
       "4                      48                46       48  \n",
       "5                      31                 0       31  "
      ]
     },
     "execution_count": 34,
     "metadata": {},
     "output_type": "execute_result"
    }
   ],
   "source": [
    "cols = ['CPIScore2016', 'HIVPrevelanceRate2016', 'PercentArableLand2016', 'PoliticalStability2016', \n",
    "        'ODAPerCapita2016', 'HDI2016']\n",
    "dataset2016.groupby('Region')[cols].agg('count').reset_index()"
   ]
  },
  {
   "cell_type": "markdown",
   "metadata": {},
   "source": [
    "<b><i>Notable information:</b></i> The Official Development Aid information is missing for ALL countries in the WE/ EU (Western Europe/ European Union) countries. Could this signify that none of these countries receive any aid, or is this data not collected?"
   ]
  },
  {
   "cell_type": "markdown",
   "metadata": {},
   "source": [
    "<b>Visualizing where the missing data lies:</b>"
   ]
  },
  {
   "cell_type": "code",
   "execution_count": 35,
   "metadata": {
    "scrolled": true
   },
   "outputs": [
    {
     "data": {
      "text/plain": [
       "<matplotlib.axes._subplots.AxesSubplot at 0x1a17263908>"
      ]
     },
     "execution_count": 35,
     "metadata": {},
     "output_type": "execute_result"
    },
    {
     "data": {
      "image/png": "[encoded data removed]",
      "text/plain": [
       "<Figure size 1800x720 with 2 Axes>"
      ]
     },
     "metadata": {},
     "output_type": "display_data"
    }
   ],
   "source": [
    "msno.matrix(dataset2016)"
   ]
  },
  {
   "cell_type": "markdown",
   "metadata": {},
   "source": [
    "The dataset has a lot of missing values, specifically for <b>HIV Prevelance Rate</b> and <b>ODA received per capita</b>. Before I proceed further to see how the factors are correlated and what is the average value of these factors by region, it makes sense to remove the countries with complete data as they can skew the average for a region as well as provide mis-leading correlation. So let's create a new data set without null data and evaluate that with the full data side by side."
   ]
  },
  {
   "cell_type": "code",
   "execution_count": 36,
   "metadata": {},
   "outputs": [
    {
     "name": "stdout",
     "output_type": "stream",
     "text": [
      "Removing the nulls, leaves us with  96 countries out of the original 189.\n"
     ]
    }
   ],
   "source": [
    "dataset2016_noNulls= dataset2016.dropna()\n",
    "print(\"Removing the nulls, leaves us with \", dataset2016_noNulls['ISO3'].count(), \"countries out of the original 189.\")"
   ]
  },
  {
   "cell_type": "code",
   "execution_count": 37,
   "metadata": {},
   "outputs": [
    {
     "name": "stdout",
     "output_type": "stream",
     "text": [
      "Below countries by region now remain in this analysis:\n"
     ]
    },
    {
     "data": {
      "text/plain": [
       "Region\n",
       "AME     22\n",
       "AP      14\n",
       "ECA     14\n",
       "MENA     6\n",
       "SSA     40\n",
       "Name: Region, dtype: int64"
      ]
     },
     "execution_count": 37,
     "metadata": {},
     "output_type": "execute_result"
    }
   ],
   "source": [
    "print(\"Below countries by region now remain in this analysis:\")\n",
    "dataset2016_noNulls.groupby('Region')['Region'].count()"
   ]
  },
  {
   "cell_type": "markdown",
   "metadata": {},
   "source": [
    "<b>Let's view the average stats for each region:</b>"
   ]
  },
  {
   "cell_type": "code",
   "execution_count": 38,
   "metadata": {
    "scrolled": true
   },
   "outputs": [
    {
     "name": "stdout",
     "output_type": "stream",
     "text": [
      "Average Stats by Region for the 96 countries with complete data:\n"
     ]
    },
    {
     "data": {
      "text/html": [
       "<div>\n",
       "<style scoped>\n",
       "    .dataframe tbody tr th:only-of-type {\n",
       "        vertical-align: middle;\n",
       "    }\n",
       "\n",
       "    .dataframe tbody tr th {\n",
       "        vertical-align: top;\n",
       "    }\n",
       "\n",
       "    .dataframe thead th {\n",
       "        text-align: right;\n",
       "    }\n",
       "</style>\n",
       "<table border=\"1\" class=\"dataframe\">\n",
       "  <thead>\n",
       "    <tr style=\"text-align: right;\">\n",
       "      <th></th>\n",
       "      <th>CPIScore2016</th>\n",
       "      <th>HIVPrevelanceRate2016</th>\n",
       "      <th>PercentArableLand2016</th>\n",
       "      <th>PoliticalStability2016</th>\n",
       "      <th>ODAPerCapita2016</th>\n",
       "      <th>HDI2016</th>\n",
       "    </tr>\n",
       "    <tr>\n",
       "      <th>Region</th>\n",
       "      <th></th>\n",
       "      <th></th>\n",
       "      <th></th>\n",
       "      <th></th>\n",
       "      <th></th>\n",
       "      <th></th>\n",
       "    </tr>\n",
       "  </thead>\n",
       "  <tbody>\n",
       "    <tr>\n",
       "      <th>AME</th>\n",
       "      <td>38.23</td>\n",
       "      <td>0.70</td>\n",
       "      <td>11.51</td>\n",
       "      <td>46.17</td>\n",
       "      <td>36.63</td>\n",
       "      <td>0.72</td>\n",
       "    </tr>\n",
       "    <tr>\n",
       "      <th>AP</th>\n",
       "      <td>33.36</td>\n",
       "      <td>0.39</td>\n",
       "      <td>22.61</td>\n",
       "      <td>30.20</td>\n",
       "      <td>26.38</td>\n",
       "      <td>0.66</td>\n",
       "    </tr>\n",
       "    <tr>\n",
       "      <th>ECA</th>\n",
       "      <td>34.64</td>\n",
       "      <td>0.27</td>\n",
       "      <td>20.54</td>\n",
       "      <td>35.07</td>\n",
       "      <td>62.55</td>\n",
       "      <td>0.75</td>\n",
       "    </tr>\n",
       "    <tr>\n",
       "      <th>MENA</th>\n",
       "      <td>33.83</td>\n",
       "      <td>0.10</td>\n",
       "      <td>10.81</td>\n",
       "      <td>15.48</td>\n",
       "      <td>54.77</td>\n",
       "      <td>0.73</td>\n",
       "    </tr>\n",
       "    <tr>\n",
       "      <th>SSA</th>\n",
       "      <td>32.35</td>\n",
       "      <td>4.79</td>\n",
       "      <td>15.67</td>\n",
       "      <td>30.12</td>\n",
       "      <td>60.06</td>\n",
       "      <td>0.51</td>\n",
       "    </tr>\n",
       "  </tbody>\n",
       "</table>\n",
       "</div>"
      ],
      "text/plain": [
       "        CPIScore2016  HIVPrevelanceRate2016  PercentArableLand2016  \\\n",
       "Region                                                               \n",
       "AME            38.23                   0.70                  11.51   \n",
       "AP             33.36                   0.39                  22.61   \n",
       "ECA            34.64                   0.27                  20.54   \n",
       "MENA           33.83                   0.10                  10.81   \n",
       "SSA            32.35                   4.79                  15.67   \n",
       "\n",
       "        PoliticalStability2016  ODAPerCapita2016  HDI2016  \n",
       "Region                                                     \n",
       "AME                      46.17             36.63     0.72  \n",
       "AP                       30.20             26.38     0.66  \n",
       "ECA                      35.07             62.55     0.75  \n",
       "MENA                     15.48             54.77     0.73  \n",
       "SSA                      30.12             60.06     0.51  "
      ]
     },
     "execution_count": 38,
     "metadata": {},
     "output_type": "execute_result"
    }
   ],
   "source": [
    "avgByRegion_noNulls = dataset2016_noNulls.groupby('Region').mean()\n",
    "avgByRegion_noNulls = avgByRegion_noNulls.round(2)\n",
    "avgByRegion_noNulls = avgByRegion_noNulls.fillna(0)\n",
    "print(\"Average Stats by Region for the 96 countries with complete data:\")\n",
    "avgByRegion_noNulls"
   ]
  },
  {
   "cell_type": "code",
   "execution_count": 39,
   "metadata": {},
   "outputs": [
    {
     "name": "stdout",
     "output_type": "stream",
     "text": [
      "Average Stats by Region for the entire set of 189 countries, including those with missing data:\n"
     ]
    },
    {
     "data": {
      "text/html": [
       "<div>\n",
       "<style scoped>\n",
       "    .dataframe tbody tr th:only-of-type {\n",
       "        vertical-align: middle;\n",
       "    }\n",
       "\n",
       "    .dataframe tbody tr th {\n",
       "        vertical-align: top;\n",
       "    }\n",
       "\n",
       "    .dataframe thead th {\n",
       "        text-align: right;\n",
       "    }\n",
       "</style>\n",
       "<table border=\"1\" class=\"dataframe\">\n",
       "  <thead>\n",
       "    <tr style=\"text-align: right;\">\n",
       "      <th></th>\n",
       "      <th>CPIScore2016</th>\n",
       "      <th>HIVPrevelanceRate2016</th>\n",
       "      <th>PercentArableLand2016</th>\n",
       "      <th>PoliticalStability2016</th>\n",
       "      <th>ODAPerCapita2016</th>\n",
       "      <th>HDI2016</th>\n",
       "    </tr>\n",
       "    <tr>\n",
       "      <th>Region</th>\n",
       "      <th></th>\n",
       "      <th></th>\n",
       "      <th></th>\n",
       "      <th></th>\n",
       "      <th></th>\n",
       "      <th></th>\n",
       "    </tr>\n",
       "  </thead>\n",
       "  <tbody>\n",
       "    <tr>\n",
       "      <th>AME</th>\n",
       "      <td>44.09</td>\n",
       "      <td>0.81</td>\n",
       "      <td>10.73</td>\n",
       "      <td>54.81</td>\n",
       "      <td>43.43</td>\n",
       "      <td>0.75</td>\n",
       "    </tr>\n",
       "    <tr>\n",
       "      <th>AP</th>\n",
       "      <td>44.39</td>\n",
       "      <td>0.33</td>\n",
       "      <td>14.33</td>\n",
       "      <td>49.18</td>\n",
       "      <td>74.11</td>\n",
       "      <td>0.71</td>\n",
       "    </tr>\n",
       "    <tr>\n",
       "      <th>ECA</th>\n",
       "      <td>34.22</td>\n",
       "      <td>0.33</td>\n",
       "      <td>19.23</td>\n",
       "      <td>32.25</td>\n",
       "      <td>61.98</td>\n",
       "      <td>0.75</td>\n",
       "    </tr>\n",
       "    <tr>\n",
       "      <th>MENA</th>\n",
       "      <td>37.50</td>\n",
       "      <td>0.10</td>\n",
       "      <td>7.07</td>\n",
       "      <td>25.24</td>\n",
       "      <td>114.48</td>\n",
       "      <td>0.75</td>\n",
       "    </tr>\n",
       "    <tr>\n",
       "      <th>SSA</th>\n",
       "      <td>31.93</td>\n",
       "      <td>5.10</td>\n",
       "      <td>14.94</td>\n",
       "      <td>31.52</td>\n",
       "      <td>64.72</td>\n",
       "      <td>0.52</td>\n",
       "    </tr>\n",
       "    <tr>\n",
       "      <th>WE/EU</th>\n",
       "      <td>66.39</td>\n",
       "      <td>0.22</td>\n",
       "      <td>23.33</td>\n",
       "      <td>72.04</td>\n",
       "      <td>0.00</td>\n",
       "      <td>0.89</td>\n",
       "    </tr>\n",
       "  </tbody>\n",
       "</table>\n",
       "</div>"
      ],
      "text/plain": [
       "        CPIScore2016  HIVPrevelanceRate2016  PercentArableLand2016  \\\n",
       "Region                                                               \n",
       "AME            44.09                   0.81                  10.73   \n",
       "AP             44.39                   0.33                  14.33   \n",
       "ECA            34.22                   0.33                  19.23   \n",
       "MENA           37.50                   0.10                   7.07   \n",
       "SSA            31.93                   5.10                  14.94   \n",
       "WE/EU          66.39                   0.22                  23.33   \n",
       "\n",
       "        PoliticalStability2016  ODAPerCapita2016  HDI2016  \n",
       "Region                                                     \n",
       "AME                      54.81             43.43     0.75  \n",
       "AP                       49.18             74.11     0.71  \n",
       "ECA                      32.25             61.98     0.75  \n",
       "MENA                     25.24            114.48     0.75  \n",
       "SSA                      31.52             64.72     0.52  \n",
       "WE/EU                    72.04              0.00     0.89  "
      ]
     },
     "execution_count": 39,
     "metadata": {},
     "output_type": "execute_result"
    }
   ],
   "source": [
    "avgByRegion = dataset2016.groupby('Region').mean()\n",
    "avgByRegion = avgByRegion.round(2)\n",
    "avgByRegion = avgByRegion.fillna(0)\n",
    "print(\"Average Stats by Region for the entire set of 189 countries, including those with missing data:\")\n",
    "avgByRegion"
   ]
  },
  {
   "cell_type": "markdown",
   "metadata": {},
   "source": [
    "The average <b>Human Development Index</b> by region is <b>highest for ECA (Eastern Europe & Centra Asia) </b> and <b>lowest for the Sub-Saharan African region</b> in the reduced data set.\n",
    "\n",
    "However in the full data set, it appears that the average <b>Human Development Index</b> is <b>highest for Western Europ, European Union</b> countries."
   ]
  },
  {
   "cell_type": "markdown",
   "metadata": {},
   "source": [
    "Let's observe the following factors in 2016 by Region:\n",
    "- <b>Corruption Perception Index (CPI)\n",
    "- HIV Prevelance rate\n",
    "- Percentage of Arable Land\n",
    "- Political Stability scores</b>"
   ]
  },
  {
   "cell_type": "markdown",
   "metadata": {},
   "source": [
    "<h4>Corruption Perception Index (CPI)</h4>"
   ]
  },
  {
   "cell_type": "code",
   "execution_count": 40,
   "metadata": {},
   "outputs": [
    {
     "data": {
      "text/plain": [
       "Text(0.5,0.98,'2016 Average Corruption Perception Index by Region')"
      ]
     },
     "execution_count": 40,
     "metadata": {},
     "output_type": "execute_result"
    },
    {
     "data": {
      "image/png": "[encoded data removed]",
      "text/plain": [
       "<Figure size 1440x1080 with 2 Axes>"
      ]
     },
     "metadata": {},
     "output_type": "display_data"
    }
   ],
   "source": [
    "sns.set(style=\"whitegrid\")\n",
    "#sns.set_color_codes(\"Spectral\")\n",
    "\n",
    "plt.figure(2, figsize=(20,15))\n",
    "the_grid = GridSpec(2, 2)\n",
    "\n",
    "plt.subplot(the_grid[0, 0])\n",
    "plt.title('2016 Average CPI by Region: 189 countries', fontsize=14)\n",
    "groupedvalues = avgByRegion.reset_index()\n",
    "g=sns.barplot(x=avgByRegion.index,y=avgByRegion.iloc[:,0], data=avgByRegion, palette='Spectral')\n",
    "for index, row in groupedvalues.iterrows():\n",
    "    g.text(row.name,row.CPIScore2016, round(row.CPIScore2016,2), color='black', ha=\"center\")\n",
    "\n",
    "plt.subplot(the_grid[0, 1])\n",
    "plt.title('2016 Average CPI by Region: reduced data set of 96 countries', fontsize=14)\n",
    "groupedvalues = avgByRegion_noNulls.reset_index()\n",
    "g=sns.barplot(x=avgByRegion_noNulls.index,y=avgByRegion_noNulls.iloc[:,0], data=avgByRegion_noNulls, palette='Spectral')\n",
    "for index, row in groupedvalues.iterrows():\n",
    "    g.text(row.name,row.CPIScore2016, round(row.CPIScore2016,2), color='black', ha=\"center\")\n",
    "\n",
    "plt.suptitle('2016 Average Corruption Perception Index by Region', fontsize=18)"
   ]
  },
  {
   "cell_type": "markdown",
   "metadata": {},
   "source": [
    "The corruption perception index is a scale of 100 (very clean) to 0 (highly corrupt). The <b>WE/EU</b> and the <b>Americas</b> region had the <b>less perceived corruption</b> as compared to the other 4 regions, and the <b>Sub Saharan African</b> countries had the <b>most perceived corruption</b> in 2016."
   ]
  },
  {
   "cell_type": "code",
   "execution_count": 41,
   "metadata": {},
   "outputs": [
    {
     "data": {
      "text/plain": [
       "Text(0.5,0.98,'2016 Average HIV Prevelance Rate by Region')"
      ]
     },
     "execution_count": 41,
     "metadata": {},
     "output_type": "execute_result"
    },
    {
     "data": {
      "image/png": "[encoded data removed]",
      "text/plain": [
       "<Figure size 1440x1080 with 2 Axes>"
      ]
     },
     "metadata": {},
     "output_type": "display_data"
    }
   ],
   "source": [
    "sns.set(style=\"whitegrid\")\n",
    "#sns.set_color_codes(\"Spectral\")\n",
    "\n",
    "plt.figure(2, figsize=(20,15))\n",
    "the_grid = GridSpec(2, 2)\n",
    "\n",
    "plt.subplot(the_grid[0, 0])\n",
    "plt.title('2016 Average HIV Prevelance Rate: 189 countries (full data set)', fontsize=14)\n",
    "groupedvalues = avgByRegion.reset_index()\n",
    "g=sns.barplot(x=avgByRegion.index,y=avgByRegion.iloc[:,1], data=avgByRegion, palette='vlag')\n",
    "for index, row in groupedvalues.iterrows():\n",
    "    g.text(row.name,row.HIVPrevelanceRate2016, round(row.HIVPrevelanceRate2016,2), color='black', ha=\"center\")\n",
    "\n",
    "plt.subplot(the_grid[0, 1])\n",
    "plt.title('2016 Average HIV Prevelance Rate: reduced data set of 96 countries', fontsize=14)\n",
    "groupedvalues = avgByRegion_noNulls.reset_index()\n",
    "g=sns.barplot(x=avgByRegion_noNulls.index,y=avgByRegion_noNulls.iloc[:,1], data=avgByRegion_noNulls, palette='vlag')\n",
    "for index, row in groupedvalues.iterrows():\n",
    "    g.text(row.name,row.HIVPrevelanceRate2016, round(row.HIVPrevelanceRate2016,2), color='black', ha=\"center\")\n",
    "\n",
    "plt.suptitle('2016 Average HIV Prevelance Rate by Region', fontsize=18)"
   ]
  },
  {
   "cell_type": "markdown",
   "metadata": {},
   "source": [
    "The recorded HIV Prevelance Rate for 2016 was <b>highest for Sub Saharan African</b> countries have the <b>least for the Middle East and North African</b> countries. It is important to point out though that 9 out of 12 MENA countries did not report their HIV Prevelance Rate. Thus a complete analysis of the HIV data for all these countries, may tell a different story. "
   ]
  },
  {
   "cell_type": "code",
   "execution_count": 42,
   "metadata": {},
   "outputs": [
    {
     "data": {
      "text/plain": [
       "Text(0.5,0.98,'2016 Arable Land Percentage by Region')"
      ]
     },
     "execution_count": 42,
     "metadata": {},
     "output_type": "execute_result"
    },
    {
     "data": {
      "image/png": "[encoded data removed]",
      "text/plain": [
       "<Figure size 1440x1080 with 2 Axes>"
      ]
     },
     "metadata": {},
     "output_type": "display_data"
    }
   ],
   "source": [
    "sns.set(style=\"whitegrid\")\n",
    "#sns.set_color_codes(\"Spectral\")\n",
    "\n",
    "plt.figure(2, figsize=(20,15))\n",
    "the_grid = GridSpec(2, 2)\n",
    "\n",
    "plt.subplot(the_grid[0, 0])\n",
    "plt.title('2016 Avg. Arable Land Percentage: 189 countries (full data set)', fontsize=14)\n",
    "groupedvalues = avgByRegion.reset_index()\n",
    "g=sns.barplot(x=avgByRegion.index,y=avgByRegion.iloc[:,2], data=avgByRegion, palette='deep')\n",
    "for index, row in groupedvalues.iterrows():\n",
    "    g.text(row.name,row.PercentArableLand2016, round(row.PercentArableLand2016,2), color='black', ha=\"center\")\n",
    "\n",
    "plt.subplot(the_grid[0, 1])\n",
    "plt.title('2016 Avg. Arable Land Percentage: reduced data set of 96 countries', fontsize=14)\n",
    "groupedvalues = avgByRegion_noNulls.reset_index()\n",
    "g=sns.barplot(x=avgByRegion_noNulls.index,y=avgByRegion_noNulls.iloc[:,2], data=avgByRegion_noNulls, palette='deep')\n",
    "for index, row in groupedvalues.iterrows():\n",
    "    g.text(row.name,row.PercentArableLand2016, round(row.PercentArableLand2016,2), color='black', ha=\"center\")\n",
    "\n",
    "plt.suptitle('2016 Arable Land Percentage by Region', fontsize=18)"
   ]
  },
  {
   "cell_type": "markdown",
   "metadata": {},
   "source": [
    "The data for the Arable Land Percentage shows a significant different in the overall data versus the reduced data for Asia Pacific region. Overall though it appears the leaders in this factor are the countries in Western Europe/ European Union region, followed by the Eastern & Central Asia and then by the Asia Pacific."
   ]
  },
  {
   "cell_type": "code",
   "execution_count": 43,
   "metadata": {},
   "outputs": [
    {
     "data": {
      "text/plain": [
       "Text(0.5,0.98,'2016 Average Political Stability Percentile Rankings by Region')"
      ]
     },
     "execution_count": 43,
     "metadata": {},
     "output_type": "execute_result"
    },
    {
     "data": {
      "image/png": "[encoded data removed]",
      "text/plain": [
       "<Figure size 1440x1080 with 2 Axes>"
      ]
     },
     "metadata": {},
     "output_type": "display_data"
    }
   ],
   "source": [
    "sns.set(style=\"whitegrid\")\n",
    "#sns.set_color_codes(\"Spectral\")\n",
    "\n",
    "plt.figure(2, figsize=(20,15))\n",
    "the_grid = GridSpec(2, 2)\n",
    "\n",
    "plt.subplot(the_grid[0, 0])\n",
    "plt.title('189 countries (full data set)', fontsize=14)\n",
    "groupedvalues = avgByRegion.reset_index()\n",
    "g=sns.barplot(x=avgByRegion.index,y=avgByRegion.iloc[:,3], data=avgByRegion, palette='rocket')\n",
    "for index, row in groupedvalues.iterrows():\n",
    "    g.text(row.name,row.PoliticalStability2016, round(row.PoliticalStability2016,2), color='black', ha=\"center\")\n",
    "    \n",
    "plt.subplot(the_grid[0, 1])\n",
    "plt.title('Reduced data set of 96 countries', fontsize=14)\n",
    "groupedvalues = avgByRegion_noNulls.reset_index()\n",
    "g=sns.barplot(x=avgByRegion_noNulls.index,y=avgByRegion_noNulls.iloc[:,3], data=avgByRegion_noNulls, palette='rocket')\n",
    "for index, row in groupedvalues.iterrows():\n",
    "    g.text(row.name,row.PoliticalStability2016, round(row.PoliticalStability2016,2), color='black', ha=\"center\")\n",
    "\n",
    "plt.suptitle('2016 Average Political Stability Percentile Rankings by Region', fontsize=18)"
   ]
  },
  {
   "cell_type": "markdown",
   "metadata": {},
   "source": [
    "The average political stability percentile rankings are much higher for the countries in the Western Europe & Eastern Europe region. On the other hand the Political Stability percentile rankings appear the worst in the countries in the Middle East and North Africa region. "
   ]
  },
  {
   "cell_type": "markdown",
   "metadata": {},
   "source": [
    "Next, let's look at the amount of <b>Official Development Aid</b> received by each region:"
   ]
  },
  {
   "cell_type": "code",
   "execution_count": 44,
   "metadata": {
    "scrolled": true
   },
   "outputs": [
    {
     "data": {
      "image/png": "[encoded data removed]",
      "text/plain": [
       "<Figure size 432x288 with 1 Axes>"
      ]
     },
     "metadata": {},
     "output_type": "display_data"
    }
   ],
   "source": [
    "sumByRegion = dataset2016.groupby('Region').agg('sum')\n",
    "sumByRegion = sumByRegion.round(2)\n",
    "\n",
    "plt.title('Net ODA by Region', fontsize=18)\n",
    "groupedvalues1 = sumByRegion.reset_index()\n",
    "groupedvalues1\n",
    "pal1 = sns.color_palette(\"Greens_d\", len(groupedvalues1))\n",
    "rank = groupedvalues1[\"Region\"].argsort().argsort() \n",
    "g=sns.barplot(x=sumByRegion.index,y=sumByRegion.iloc[:,4], data=sumByRegion, palette=np.array(pal1[::-1])[rank])\n",
    "for index, row in groupedvalues1.iterrows():\n",
    "    g.text(row.name,row.ODAPerCapita2016, round(row.ODAPerCapita2016,2), color='black', ha=\"center\")\n",
    "plt.show()"
   ]
  },
  {
   "cell_type": "markdown",
   "metadata": {},
   "source": [
    "The <b>Sub Saharan</b> Africa region received the <b>most Official Development Aid per capita in 2016 at \\$2977.03</b>. The <b>least</b> was received by the <b>Eastern & Central Asia region at \\$1053.58</b>. The ODA per capita information is not available for the Western Europe/ European Union region."
   ]
  },
  {
   "cell_type": "markdown",
   "metadata": {},
   "source": [
    "Let's look at how the Official Development Aid per capita distributes by observing the average received by each region:"
   ]
  },
  {
   "cell_type": "code",
   "execution_count": 45,
   "metadata": {},
   "outputs": [
    {
     "data": {
      "text/plain": [
       "Text(0.5,0.98,'2016 Official Development Aid received by each Region')"
      ]
     },
     "execution_count": 45,
     "metadata": {},
     "output_type": "execute_result"
    },
    {
     "data": {
      "image/png": "[encoded data removed]",
      "text/plain": [
       "<Figure size 1440x1080 with 2 Axes>"
      ]
     },
     "metadata": {},
     "output_type": "display_data"
    }
   ],
   "source": [
    "plt.figure(2, figsize=(20,15))\n",
    "the_grid = GridSpec(2, 2)\n",
    "\n",
    "plt.subplot(the_grid[0, 0])\n",
    "plt.title('Average ODA: 189 countries (full data set)', fontsize=14)\n",
    "groupedvalues2 = avgByRegion.reset_index()\n",
    "pal2 = sns.color_palette(\"Reds_d\", len(groupedvalues2))\n",
    "rank2 = groupedvalues2[\"Region\"].argsort().argsort() \n",
    "g=sns.barplot(x=avgByRegion.index,y=avgByRegion.iloc[:,4], data=avgByRegion, palette=np.array(pal2[::-1])[rank2])\n",
    "for index, row in groupedvalues2.iterrows():\n",
    "    g.text(row.name,row.ODAPerCapita2016, round(row.ODAPerCapita2016,2), color='black', ha=\"center\")\n",
    "    \n",
    "plt.subplot(the_grid[0, 1])\n",
    "plt.title('Average ODA: 96 countries (reduced data set)', fontsize=14)\n",
    "groupedvalues2 = avgByRegion_noNulls.reset_index()\n",
    "pal2 = sns.color_palette(\"Blues_d\", len(groupedvalues2))\n",
    "rank2 = groupedvalues2[\"Region\"].argsort().argsort() \n",
    "g=sns.barplot(x=avgByRegion_noNulls.index,y=avgByRegion_noNulls.iloc[:,4], data=avgByRegion_noNulls, palette=np.array(pal2[::-1])[rank2])\n",
    "for index, row in groupedvalues2.iterrows():\n",
    "    g.text(row.name,row.ODAPerCapita2016, round(row.ODAPerCapita2016,2), color='black', ha=\"center\")\n",
    "\n",
    "plt.suptitle('2016 Official Development Aid received by each Region', fontsize=24)"
   ]
  },
  {
   "cell_type": "markdown",
   "metadata": {},
   "source": [
    "The data here is harder to draw conclusion from as removing countries with null data skews the averages Official Development Aid per capita in each region."
   ]
  },
  {
   "cell_type": "markdown",
   "metadata": {},
   "source": [
    "<h2>Subsetting the data for deeper analysis</h2>"
   ]
  },
  {
   "cell_type": "markdown",
   "metadata": {},
   "source": [
    "As a reminder, let's view how many countries are there in each region:"
   ]
  },
  {
   "cell_type": "code",
   "execution_count": 46,
   "metadata": {},
   "outputs": [
    {
     "data": {
      "text/plain": [
       "Region\n",
       "AME      32\n",
       "AP       29\n",
       "ECA      18\n",
       "MENA     18\n",
       "SSA      48\n",
       "WE/EU    31\n",
       "Name: Region, dtype: int64"
      ]
     },
     "execution_count": 46,
     "metadata": {},
     "output_type": "execute_result"
    }
   ],
   "source": [
    "dataset2016.groupby('Region')['Region'].count()"
   ]
  },
  {
   "cell_type": "markdown",
   "metadata": {},
   "source": [
    "Also as seen erlier, in the data set for 2016, the region that has the <i><b>least missing rows with data and the most number of countries </i></b> is the Sub Saharan Region."
   ]
  },
  {
   "cell_type": "code",
   "execution_count": 47,
   "metadata": {},
   "outputs": [
    {
     "data": {
      "text/html": [
       "<div>\n",
       "<style scoped>\n",
       "    .dataframe tbody tr th:only-of-type {\n",
       "        vertical-align: middle;\n",
       "    }\n",
       "\n",
       "    .dataframe tbody tr th {\n",
       "        vertical-align: top;\n",
       "    }\n",
       "\n",
       "    .dataframe thead th {\n",
       "        text-align: right;\n",
       "    }\n",
       "</style>\n",
       "<table border=\"1\" class=\"dataframe\">\n",
       "  <thead>\n",
       "    <tr style=\"text-align: right;\">\n",
       "      <th></th>\n",
       "      <th>Region</th>\n",
       "      <th>CPIScore2016</th>\n",
       "      <th>HIVPrevelanceRate2016</th>\n",
       "      <th>PercentArableLand2016</th>\n",
       "      <th>PoliticalStability2016</th>\n",
       "      <th>ODAPerCapita2016</th>\n",
       "      <th>HDI2016</th>\n",
       "    </tr>\n",
       "  </thead>\n",
       "  <tbody>\n",
       "    <tr>\n",
       "      <th>0</th>\n",
       "      <td>AME</td>\n",
       "      <td>32</td>\n",
       "      <td>25</td>\n",
       "      <td>32</td>\n",
       "      <td>32</td>\n",
       "      <td>27</td>\n",
       "      <td>32</td>\n",
       "    </tr>\n",
       "    <tr>\n",
       "      <th>1</th>\n",
       "      <td>AP</td>\n",
       "      <td>28</td>\n",
       "      <td>19</td>\n",
       "      <td>29</td>\n",
       "      <td>29</td>\n",
       "      <td>22</td>\n",
       "      <td>29</td>\n",
       "    </tr>\n",
       "    <tr>\n",
       "      <th>2</th>\n",
       "      <td>ECA</td>\n",
       "      <td>18</td>\n",
       "      <td>15</td>\n",
       "      <td>18</td>\n",
       "      <td>18</td>\n",
       "      <td>17</td>\n",
       "      <td>18</td>\n",
       "    </tr>\n",
       "    <tr>\n",
       "      <th>3</th>\n",
       "      <td>MENA</td>\n",
       "      <td>18</td>\n",
       "      <td>9</td>\n",
       "      <td>18</td>\n",
       "      <td>18</td>\n",
       "      <td>11</td>\n",
       "      <td>18</td>\n",
       "    </tr>\n",
       "    <tr>\n",
       "      <th>4</th>\n",
       "      <td>SSA</td>\n",
       "      <td>45</td>\n",
       "      <td>45</td>\n",
       "      <td>47</td>\n",
       "      <td>48</td>\n",
       "      <td>46</td>\n",
       "      <td>48</td>\n",
       "    </tr>\n",
       "    <tr>\n",
       "      <th>5</th>\n",
       "      <td>WE/EU</td>\n",
       "      <td>31</td>\n",
       "      <td>21</td>\n",
       "      <td>31</td>\n",
       "      <td>31</td>\n",
       "      <td>0</td>\n",
       "      <td>31</td>\n",
       "    </tr>\n",
       "  </tbody>\n",
       "</table>\n",
       "</div>"
      ],
      "text/plain": [
       "  Region  CPIScore2016  HIVPrevelanceRate2016  PercentArableLand2016  \\\n",
       "0    AME            32                     25                     32   \n",
       "1     AP            28                     19                     29   \n",
       "2    ECA            18                     15                     18   \n",
       "3   MENA            18                      9                     18   \n",
       "4    SSA            45                     45                     47   \n",
       "5  WE/EU            31                     21                     31   \n",
       "\n",
       "   PoliticalStability2016  ODAPerCapita2016  HDI2016  \n",
       "0                      32                27       32  \n",
       "1                      29                22       29  \n",
       "2                      18                17       18  \n",
       "3                      18                11       18  \n",
       "4                      48                46       48  \n",
       "5                      31                 0       31  "
      ]
     },
     "execution_count": 47,
     "metadata": {},
     "output_type": "execute_result"
    }
   ],
   "source": [
    "cols = ['CPIScore2016', 'HIVPrevelanceRate2016', 'PercentArableLand2016', 'PoliticalStability2016', \n",
    "        'ODAPerCapita2016', 'HDI2016']\n",
    "dataset2016.groupby('Region')[cols].agg('count').reset_index()"
   ]
  },
  {
   "cell_type": "code",
   "execution_count": 48,
   "metadata": {},
   "outputs": [
    {
     "name": "stdout",
     "output_type": "stream",
     "text": [
      "Average Stats by Region for the 96 countries (no nulls data set):\n"
     ]
    },
    {
     "data": {
      "text/html": [
       "<div>\n",
       "<style scoped>\n",
       "    .dataframe tbody tr th:only-of-type {\n",
       "        vertical-align: middle;\n",
       "    }\n",
       "\n",
       "    .dataframe tbody tr th {\n",
       "        vertical-align: top;\n",
       "    }\n",
       "\n",
       "    .dataframe thead th {\n",
       "        text-align: right;\n",
       "    }\n",
       "</style>\n",
       "<table border=\"1\" class=\"dataframe\">\n",
       "  <thead>\n",
       "    <tr style=\"text-align: right;\">\n",
       "      <th></th>\n",
       "      <th>CPIScore2016</th>\n",
       "      <th>HIVPrevelanceRate2016</th>\n",
       "      <th>PercentArableLand2016</th>\n",
       "      <th>PoliticalStability2016</th>\n",
       "      <th>ODAPerCapita2016</th>\n",
       "      <th>HDI2016</th>\n",
       "    </tr>\n",
       "    <tr>\n",
       "      <th>Region</th>\n",
       "      <th></th>\n",
       "      <th></th>\n",
       "      <th></th>\n",
       "      <th></th>\n",
       "      <th></th>\n",
       "      <th></th>\n",
       "    </tr>\n",
       "  </thead>\n",
       "  <tbody>\n",
       "    <tr>\n",
       "      <th>AME</th>\n",
       "      <td>38.23</td>\n",
       "      <td>0.70</td>\n",
       "      <td>11.51</td>\n",
       "      <td>46.17</td>\n",
       "      <td>36.63</td>\n",
       "      <td>0.72</td>\n",
       "    </tr>\n",
       "    <tr>\n",
       "      <th>AP</th>\n",
       "      <td>33.36</td>\n",
       "      <td>0.39</td>\n",
       "      <td>22.61</td>\n",
       "      <td>30.20</td>\n",
       "      <td>26.38</td>\n",
       "      <td>0.66</td>\n",
       "    </tr>\n",
       "    <tr>\n",
       "      <th>ECA</th>\n",
       "      <td>34.64</td>\n",
       "      <td>0.27</td>\n",
       "      <td>20.54</td>\n",
       "      <td>35.07</td>\n",
       "      <td>62.55</td>\n",
       "      <td>0.75</td>\n",
       "    </tr>\n",
       "    <tr>\n",
       "      <th>MENA</th>\n",
       "      <td>33.83</td>\n",
       "      <td>0.10</td>\n",
       "      <td>10.81</td>\n",
       "      <td>15.48</td>\n",
       "      <td>54.77</td>\n",
       "      <td>0.73</td>\n",
       "    </tr>\n",
       "    <tr>\n",
       "      <th>SSA</th>\n",
       "      <td>32.35</td>\n",
       "      <td>4.79</td>\n",
       "      <td>15.67</td>\n",
       "      <td>30.12</td>\n",
       "      <td>60.06</td>\n",
       "      <td>0.51</td>\n",
       "    </tr>\n",
       "  </tbody>\n",
       "</table>\n",
       "</div>"
      ],
      "text/plain": [
       "        CPIScore2016  HIVPrevelanceRate2016  PercentArableLand2016  \\\n",
       "Region                                                               \n",
       "AME            38.23                   0.70                  11.51   \n",
       "AP             33.36                   0.39                  22.61   \n",
       "ECA            34.64                   0.27                  20.54   \n",
       "MENA           33.83                   0.10                  10.81   \n",
       "SSA            32.35                   4.79                  15.67   \n",
       "\n",
       "        PoliticalStability2016  ODAPerCapita2016  HDI2016  \n",
       "Region                                                     \n",
       "AME                      46.17             36.63     0.72  \n",
       "AP                       30.20             26.38     0.66  \n",
       "ECA                      35.07             62.55     0.75  \n",
       "MENA                     15.48             54.77     0.73  \n",
       "SSA                      30.12             60.06     0.51  "
      ]
     },
     "execution_count": 48,
     "metadata": {},
     "output_type": "execute_result"
    }
   ],
   "source": [
    "print(\"Average Stats by Region for the 96 countries (no nulls data set):\")\n",
    "avgByRegion_noNulls"
   ]
  },
  {
   "cell_type": "markdown",
   "metadata": {},
   "source": [
    "The above analysis also showed that the countries in the <b>Sub Saharan Africa receive the highest net Official Development Aid than any other region</b>. Their <b>average Human Development Index and Corruption Perception Index scores are the lowest</b>, while their <b>HIV prevelance rates are the highest</b> of all the other regions. Political stability and percentage of aranle land for them are at mid level as comapred to the other regions. \n",
    "\n",
    "Thus <b>Sub Saharan Africa</b> is a good candidate to deep dive into further and analyze the correlation between the independent factors and the dependent variable (HDI)."
   ]
  },
  {
   "cell_type": "markdown",
   "metadata": {},
   "source": [
    "<h2>Deep Dive into the Sub Saharan African (SSA) Countries</h2>"
   ]
  },
  {
   "cell_type": "code",
   "execution_count": 49,
   "metadata": {},
   "outputs": [
    {
     "data": {
      "text/html": [
       "<div>\n",
       "<style scoped>\n",
       "    .dataframe tbody tr th:only-of-type {\n",
       "        vertical-align: middle;\n",
       "    }\n",
       "\n",
       "    .dataframe tbody tr th {\n",
       "        vertical-align: top;\n",
       "    }\n",
       "\n",
       "    .dataframe thead th {\n",
       "        text-align: right;\n",
       "    }\n",
       "</style>\n",
       "<table border=\"1\" class=\"dataframe\">\n",
       "  <thead>\n",
       "    <tr style=\"text-align: right;\">\n",
       "      <th></th>\n",
       "      <th>ISO3</th>\n",
       "      <th>Country</th>\n",
       "      <th>Region</th>\n",
       "      <th>CPIScore2016</th>\n",
       "      <th>PoliticalFreedomStatus2016</th>\n",
       "      <th>HIVPrevelanceRate2016</th>\n",
       "      <th>PercentArableLand2016</th>\n",
       "      <th>PoliticalStability2016</th>\n",
       "      <th>LandLocked</th>\n",
       "      <th>ODAPerCapita2016</th>\n",
       "      <th>HDI2016</th>\n",
       "    </tr>\n",
       "  </thead>\n",
       "  <tbody>\n",
       "    <tr>\n",
       "      <th>61</th>\n",
       "      <td>SYC</td>\n",
       "      <td>Seychelles</td>\n",
       "      <td>SSA</td>\n",
       "      <td>NaN</td>\n",
       "      <td>PF</td>\n",
       "      <td>NaN</td>\n",
       "      <td>0.326087</td>\n",
       "      <td>71.90476</td>\n",
       "      <td>No</td>\n",
       "      <td>60.310318</td>\n",
       "      <td>0.793</td>\n",
       "    </tr>\n",
       "    <tr>\n",
       "      <th>64</th>\n",
       "      <td>MUS</td>\n",
       "      <td>Mauritius</td>\n",
       "      <td>SSA</td>\n",
       "      <td>54.0</td>\n",
       "      <td>F</td>\n",
       "      <td>NaN</td>\n",
       "      <td>36.453202</td>\n",
       "      <td>86.19048</td>\n",
       "      <td>No</td>\n",
       "      <td>33.534551</td>\n",
       "      <td>0.788</td>\n",
       "    </tr>\n",
       "    <tr>\n",
       "      <th>100</th>\n",
       "      <td>BWA</td>\n",
       "      <td>Botswana</td>\n",
       "      <td>SSA</td>\n",
       "      <td>60.0</td>\n",
       "      <td>F</td>\n",
       "      <td>23.0</td>\n",
       "      <td>0.704039</td>\n",
       "      <td>83.33334</td>\n",
       "      <td>Yes</td>\n",
       "      <td>40.315341</td>\n",
       "      <td>0.712</td>\n",
       "    </tr>\n",
       "    <tr>\n",
       "      <th>109</th>\n",
       "      <td>GAB</td>\n",
       "      <td>Gabon</td>\n",
       "      <td>SSA</td>\n",
       "      <td>35.0</td>\n",
       "      <td>NF</td>\n",
       "      <td>4.3</td>\n",
       "      <td>1.261303</td>\n",
       "      <td>42.38095</td>\n",
       "      <td>No</td>\n",
       "      <td>20.961862</td>\n",
       "      <td>0.698</td>\n",
       "    </tr>\n",
       "    <tr>\n",
       "      <th>113</th>\n",
       "      <td>ZAF</td>\n",
       "      <td>South Africa</td>\n",
       "      <td>SSA</td>\n",
       "      <td>45.0</td>\n",
       "      <td>F</td>\n",
       "      <td>18.9</td>\n",
       "      <td>10.304264</td>\n",
       "      <td>40.00000</td>\n",
       "      <td>No</td>\n",
       "      <td>21.090423</td>\n",
       "      <td>0.696</td>\n",
       "    </tr>\n",
       "  </tbody>\n",
       "</table>\n",
       "</div>"
      ],
      "text/plain": [
       "    ISO3       Country Region  CPIScore2016 PoliticalFreedomStatus2016  \\\n",
       "61   SYC    Seychelles    SSA           NaN                         PF   \n",
       "64   MUS     Mauritius    SSA          54.0                          F   \n",
       "100  BWA      Botswana    SSA          60.0                          F   \n",
       "109  GAB         Gabon    SSA          35.0                         NF   \n",
       "113  ZAF  South Africa    SSA          45.0                          F   \n",
       "\n",
       "     HIVPrevelanceRate2016  PercentArableLand2016  PoliticalStability2016  \\\n",
       "61                     NaN               0.326087                71.90476   \n",
       "64                     NaN              36.453202                86.19048   \n",
       "100                   23.0               0.704039                83.33334   \n",
       "109                    4.3               1.261303                42.38095   \n",
       "113                   18.9              10.304264                40.00000   \n",
       "\n",
       "    LandLocked  ODAPerCapita2016  HDI2016  \n",
       "61          No         60.310318    0.793  \n",
       "64          No         33.534551    0.788  \n",
       "100        Yes         40.315341    0.712  \n",
       "109         No         20.961862    0.698  \n",
       "113         No         21.090423    0.696  "
      ]
     },
     "execution_count": 49,
     "metadata": {},
     "output_type": "execute_result"
    }
   ],
   "source": [
    "#Filter for the SSA countries\n",
    "SSA_2016_fullSet = dataset2016[dataset2016['Region']=='SSA']\n",
    "SSA_2016_fullSet.head()"
   ]
  },
  {
   "cell_type": "code",
   "execution_count": 50,
   "metadata": {},
   "outputs": [
    {
     "name": "stdout",
     "output_type": "stream",
     "text": [
      "Number of countries in Sub Saharan Africa data set:  48\n"
     ]
    }
   ],
   "source": [
    "#verify count of countries in SSA\n",
    "print(\"Number of countries in Sub Saharan Africa data set: \", SSA_2016_fullSet['ISO3'].count())"
   ]
  },
  {
   "cell_type": "markdown",
   "metadata": {},
   "source": [
    "<b>Visualizing where the missing data in this subset lies:</b>"
   ]
  },
  {
   "cell_type": "code",
   "execution_count": 51,
   "metadata": {
    "scrolled": true
   },
   "outputs": [
    {
     "data": {
      "text/plain": [
       "<matplotlib.axes._subplots.AxesSubplot at 0x1a1c6fa128>"
      ]
     },
     "execution_count": 51,
     "metadata": {},
     "output_type": "execute_result"
    },
    {
     "data": {
      "image/png": "[encoded data removed]",
      "text/plain": [
       "<Figure size 1800x720 with 2 Axes>"
      ]
     },
     "metadata": {},
     "output_type": "display_data"
    }
   ],
   "source": [
    "msno.matrix(SSA_2016_fullSet)"
   ]
  },
  {
   "cell_type": "markdown",
   "metadata": {},
   "source": [
    "The dataset is missing CPI Score,HIV Prevelance Rate, Percentage of Arable Land and ODA for a small set of countries, as shown by the white spaces in the otehrwise grey data. Since ODA is an important factor we are analyzing, that will need to be taken into account"
   ]
  },
  {
   "cell_type": "markdown",
   "metadata": {},
   "source": [
    "Let's view which countries have the missing data:"
   ]
  },
  {
   "cell_type": "code",
   "execution_count": 52,
   "metadata": {},
   "outputs": [
    {
     "data": {
      "text/html": [
       "<div>\n",
       "<style scoped>\n",
       "    .dataframe tbody tr th:only-of-type {\n",
       "        vertical-align: middle;\n",
       "    }\n",
       "\n",
       "    .dataframe tbody tr th {\n",
       "        vertical-align: top;\n",
       "    }\n",
       "\n",
       "    .dataframe thead th {\n",
       "        text-align: right;\n",
       "    }\n",
       "</style>\n",
       "<table border=\"1\" class=\"dataframe\">\n",
       "  <thead>\n",
       "    <tr style=\"text-align: right;\">\n",
       "      <th></th>\n",
       "      <th>ISO3</th>\n",
       "      <th>Country</th>\n",
       "      <th>Region</th>\n",
       "      <th>CPIScore2016</th>\n",
       "      <th>PoliticalFreedomStatus2016</th>\n",
       "      <th>HIVPrevelanceRate2016</th>\n",
       "      <th>PercentArableLand2016</th>\n",
       "      <th>PoliticalStability2016</th>\n",
       "      <th>LandLocked</th>\n",
       "      <th>ODAPerCapita2016</th>\n",
       "      <th>HDI2016</th>\n",
       "    </tr>\n",
       "  </thead>\n",
       "  <tbody>\n",
       "    <tr>\n",
       "      <th>61</th>\n",
       "      <td>SYC</td>\n",
       "      <td>Seychelles</td>\n",
       "      <td>SSA</td>\n",
       "      <td>NaN</td>\n",
       "      <td>PF</td>\n",
       "      <td>NaN</td>\n",
       "      <td>0.326087</td>\n",
       "      <td>71.904760</td>\n",
       "      <td>No</td>\n",
       "      <td>60.310318</td>\n",
       "      <td>0.793</td>\n",
       "    </tr>\n",
       "    <tr>\n",
       "      <th>64</th>\n",
       "      <td>MUS</td>\n",
       "      <td>Mauritius</td>\n",
       "      <td>SSA</td>\n",
       "      <td>54.0</td>\n",
       "      <td>F</td>\n",
       "      <td>NaN</td>\n",
       "      <td>36.453202</td>\n",
       "      <td>86.190480</td>\n",
       "      <td>No</td>\n",
       "      <td>33.534551</td>\n",
       "      <td>0.788</td>\n",
       "    </tr>\n",
       "    <tr>\n",
       "      <th>140</th>\n",
       "      <td>GNQ</td>\n",
       "      <td>Equatorial Guinea</td>\n",
       "      <td>SSA</td>\n",
       "      <td>NaN</td>\n",
       "      <td>NF</td>\n",
       "      <td>6.5</td>\n",
       "      <td>4.278075</td>\n",
       "      <td>40.476190</td>\n",
       "      <td>No</td>\n",
       "      <td>5.665212</td>\n",
       "      <td>0.593</td>\n",
       "    </tr>\n",
       "    <tr>\n",
       "      <th>142</th>\n",
       "      <td>STP</td>\n",
       "      <td>Sao Tome and Principe</td>\n",
       "      <td>SSA</td>\n",
       "      <td>46.0</td>\n",
       "      <td>F</td>\n",
       "      <td>NaN</td>\n",
       "      <td>9.062500</td>\n",
       "      <td>54.285710</td>\n",
       "      <td>No</td>\n",
       "      <td>235.255865</td>\n",
       "      <td>0.584</td>\n",
       "    </tr>\n",
       "    <tr>\n",
       "      <th>143</th>\n",
       "      <td>SWZ</td>\n",
       "      <td>Eswatini (Kingdom of)</td>\n",
       "      <td>SSA</td>\n",
       "      <td>NaN</td>\n",
       "      <td>NF</td>\n",
       "      <td>27.9</td>\n",
       "      <td>10.174419</td>\n",
       "      <td>27.619050</td>\n",
       "      <td>Yes</td>\n",
       "      <td>109.783500</td>\n",
       "      <td>0.586</td>\n",
       "    </tr>\n",
       "    <tr>\n",
       "      <th>166</th>\n",
       "      <td>SDN</td>\n",
       "      <td>Sudan</td>\n",
       "      <td>SSA</td>\n",
       "      <td>14.0</td>\n",
       "      <td>NF</td>\n",
       "      <td>0.2</td>\n",
       "      <td>8.343081</td>\n",
       "      <td>2.857143</td>\n",
       "      <td>No</td>\n",
       "      <td>NaN</td>\n",
       "      <td>0.499</td>\n",
       "    </tr>\n",
       "    <tr>\n",
       "      <th>178</th>\n",
       "      <td>ERI</td>\n",
       "      <td>Eritrea</td>\n",
       "      <td>SSA</td>\n",
       "      <td>18.0</td>\n",
       "      <td>NF</td>\n",
       "      <td>0.6</td>\n",
       "      <td>6.831683</td>\n",
       "      <td>22.857140</td>\n",
       "      <td>No</td>\n",
       "      <td>NaN</td>\n",
       "      <td>0.436</td>\n",
       "    </tr>\n",
       "    <tr>\n",
       "      <th>186</th>\n",
       "      <td>SSD</td>\n",
       "      <td>South Sudan</td>\n",
       "      <td>SSA</td>\n",
       "      <td>11.0</td>\n",
       "      <td>NF</td>\n",
       "      <td>2.5</td>\n",
       "      <td>NaN</td>\n",
       "      <td>1.904762</td>\n",
       "      <td>Yes</td>\n",
       "      <td>130.008593</td>\n",
       "      <td>0.394</td>\n",
       "    </tr>\n",
       "  </tbody>\n",
       "</table>\n",
       "</div>"
      ],
      "text/plain": [
       "    ISO3                Country Region  CPIScore2016  \\\n",
       "61   SYC             Seychelles    SSA           NaN   \n",
       "64   MUS              Mauritius    SSA          54.0   \n",
       "140  GNQ      Equatorial Guinea    SSA           NaN   \n",
       "142  STP  Sao Tome and Principe    SSA          46.0   \n",
       "143  SWZ  Eswatini (Kingdom of)    SSA           NaN   \n",
       "166  SDN                  Sudan    SSA          14.0   \n",
       "178  ERI                Eritrea    SSA          18.0   \n",
       "186  SSD            South Sudan    SSA          11.0   \n",
       "\n",
       "    PoliticalFreedomStatus2016  HIVPrevelanceRate2016  PercentArableLand2016  \\\n",
       "61                          PF                    NaN               0.326087   \n",
       "64                           F                    NaN              36.453202   \n",
       "140                         NF                    6.5               4.278075   \n",
       "142                          F                    NaN               9.062500   \n",
       "143                         NF                   27.9              10.174419   \n",
       "166                         NF                    0.2               8.343081   \n",
       "178                         NF                    0.6               6.831683   \n",
       "186                         NF                    2.5                    NaN   \n",
       "\n",
       "     PoliticalStability2016 LandLocked  ODAPerCapita2016  HDI2016  \n",
       "61                71.904760         No         60.310318    0.793  \n",
       "64                86.190480         No         33.534551    0.788  \n",
       "140               40.476190         No          5.665212    0.593  \n",
       "142               54.285710         No        235.255865    0.584  \n",
       "143               27.619050        Yes        109.783500    0.586  \n",
       "166                2.857143         No               NaN    0.499  \n",
       "178               22.857140         No               NaN    0.436  \n",
       "186                1.904762        Yes        130.008593    0.394  "
      ]
     },
     "execution_count": 52,
     "metadata": {},
     "output_type": "execute_result"
    }
   ],
   "source": [
    "SSA_2016_fullSet[SSA_2016_fullSet.isnull().any(axis=1)]"
   ]
  },
  {
   "cell_type": "markdown",
   "metadata": {},
   "source": [
    "While it is 16% of the data, it would still be better to remove these 8 countries so that they do not skew the relationships that we are trying to observe. So I will create a subset of the SSA countries with no nulll data."
   ]
  },
  {
   "cell_type": "code",
   "execution_count": 53,
   "metadata": {},
   "outputs": [
    {
     "name": "stdout",
     "output_type": "stream",
     "text": [
      "Removing the nulls, leaves us with  40 countries out of the original 48.\n"
     ]
    }
   ],
   "source": [
    "SSA_2016= SSA_2016_fullSet.dropna()\n",
    "print(\"Removing the nulls, leaves us with \", SSA_2016['ISO3'].count(), \"countries out of the original 48.\")"
   ]
  },
  {
   "cell_type": "markdown",
   "metadata": {},
   "source": [
    "Now I will focus on exploring which of the 6 factors (Corruption Perception Index, Political Freedom Status, HIV Prevelance Rate, Percentage Arable Land, Political Stability, Land Locked Status and ODA per capita) have the most impact on the Human Development Index recorded for 2016 for these 40 countries in Sub-Saharan Africa."
   ]
  },
  {
   "cell_type": "markdown",
   "metadata": {},
   "source": [
    "<b>Seperate the numeric features:</b>"
   ]
  },
  {
   "cell_type": "code",
   "execution_count": 54,
   "metadata": {},
   "outputs": [
    {
     "data": {
      "text/plain": [
       "Index(['CPIScore2016', 'HIVPrevelanceRate2016', 'PercentArableLand2016',\n",
       "       'PoliticalStability2016', 'ODAPerCapita2016', 'HDI2016'],\n",
       "      dtype='object')"
      ]
     },
     "execution_count": 54,
     "metadata": {},
     "output_type": "execute_result"
    }
   ],
   "source": [
    "numeric_features = SSA_2016.select_dtypes(include=[np.number])\n",
    "numeric_features.columns"
   ]
  },
  {
   "cell_type": "markdown",
   "metadata": {},
   "source": [
    "<b>Seperate the categorical features:</b>"
   ]
  },
  {
   "cell_type": "code",
   "execution_count": 55,
   "metadata": {},
   "outputs": [
    {
     "data": {
      "text/plain": [
       "Index(['ISO3', 'Country', 'Region', 'PoliticalFreedomStatus2016',\n",
       "       'LandLocked'],\n",
       "      dtype='object')"
      ]
     },
     "execution_count": 55,
     "metadata": {},
     "output_type": "execute_result"
    }
   ],
   "source": [
    "categorical_features = SSA_2016.select_dtypes(include=[np.object])\n",
    "categorical_features.columns"
   ]
  },
  {
   "cell_type": "markdown",
   "metadata": {},
   "source": [
    "<h3>Correlation</h3>\n",
    "Finding Correlation coefficients between numeric features and Human Development Index"
   ]
  },
  {
   "cell_type": "code",
   "execution_count": 56,
   "metadata": {},
   "outputs": [
    {
     "data": {
      "text/html": [
       "<style  type=\"text/css\" >\n",
       "    #T_74acefcc_4374_11e9_a45e_520080ba0101 th {\n",
       "          font-size: 7pt;\n",
       "    }    #T_74acefcc_4374_11e9_a45e_520080ba0101 td {\n",
       "          padding: 0em 0em;\n",
       "    }    #T_74acefcc_4374_11e9_a45e_520080ba0101 th:hover {\n",
       "          font-size: 12pt;\n",
       "    }    #T_74acefcc_4374_11e9_a45e_520080ba0101 tr:hover td:hover {\n",
       "          max-width: 200px;\n",
       "          font-size: 12pt;\n",
       "    }    #T_74acefcc_4374_11e9_a45e_520080ba0101row0_col0 {\n",
       "            background-color:  #4479bb;\n",
       "            max-width:  80px;\n",
       "            font-size:  10pt;\n",
       "        }    #T_74acefcc_4374_11e9_a45e_520080ba0101row0_col1 {\n",
       "            background-color:  #f1b8c3;\n",
       "            max-width:  80px;\n",
       "            font-size:  10pt;\n",
       "        }    #T_74acefcc_4374_11e9_a45e_520080ba0101row0_col2 {\n",
       "            background-color:  #d73c5b;\n",
       "            max-width:  80px;\n",
       "            font-size:  10pt;\n",
       "        }    #T_74acefcc_4374_11e9_a45e_520080ba0101row0_col3 {\n",
       "            background-color:  #aec5e1;\n",
       "            max-width:  80px;\n",
       "            font-size:  10pt;\n",
       "        }    #T_74acefcc_4374_11e9_a45e_520080ba0101row0_col4 {\n",
       "            background-color:  #ea96a7;\n",
       "            max-width:  80px;\n",
       "            font-size:  10pt;\n",
       "        }    #T_74acefcc_4374_11e9_a45e_520080ba0101row0_col5 {\n",
       "            background-color:  #f2f2f2;\n",
       "            max-width:  80px;\n",
       "            font-size:  10pt;\n",
       "        }    #T_74acefcc_4374_11e9_a45e_520080ba0101row1_col0 {\n",
       "            background-color:  #f9e2e6;\n",
       "            max-width:  80px;\n",
       "            font-size:  10pt;\n",
       "        }    #T_74acefcc_4374_11e9_a45e_520080ba0101row1_col1 {\n",
       "            background-color:  #4479bb;\n",
       "            max-width:  80px;\n",
       "            font-size:  10pt;\n",
       "        }    #T_74acefcc_4374_11e9_a45e_520080ba0101row1_col2 {\n",
       "            background-color:  #d73c5b;\n",
       "            max-width:  80px;\n",
       "            font-size:  10pt;\n",
       "        }    #T_74acefcc_4374_11e9_a45e_520080ba0101row1_col3 {\n",
       "            background-color:  #f2f2f2;\n",
       "            max-width:  80px;\n",
       "            font-size:  10pt;\n",
       "        }    #T_74acefcc_4374_11e9_a45e_520080ba0101row1_col4 {\n",
       "            background-color:  #d94764;\n",
       "            max-width:  80px;\n",
       "            font-size:  10pt;\n",
       "        }    #T_74acefcc_4374_11e9_a45e_520080ba0101row1_col5 {\n",
       "            background-color:  #e0e9f4;\n",
       "            max-width:  80px;\n",
       "            font-size:  10pt;\n",
       "        }    #T_74acefcc_4374_11e9_a45e_520080ba0101row2_col0 {\n",
       "            background-color:  #e47a90;\n",
       "            max-width:  80px;\n",
       "            font-size:  10pt;\n",
       "        }    #T_74acefcc_4374_11e9_a45e_520080ba0101row2_col1 {\n",
       "            background-color:  #d73d5c;\n",
       "            max-width:  80px;\n",
       "            font-size:  10pt;\n",
       "        }    #T_74acefcc_4374_11e9_a45e_520080ba0101row2_col2 {\n",
       "            background-color:  #4479bb;\n",
       "            max-width:  80px;\n",
       "            font-size:  10pt;\n",
       "        }    #T_74acefcc_4374_11e9_a45e_520080ba0101row2_col3 {\n",
       "            background-color:  #e3788d;\n",
       "            max-width:  80px;\n",
       "            font-size:  10pt;\n",
       "        }    #T_74acefcc_4374_11e9_a45e_520080ba0101row2_col4 {\n",
       "            background-color:  #df627b;\n",
       "            max-width:  80px;\n",
       "            font-size:  10pt;\n",
       "        }    #T_74acefcc_4374_11e9_a45e_520080ba0101row2_col5 {\n",
       "            background-color:  #d73c5b;\n",
       "            max-width:  80px;\n",
       "            font-size:  10pt;\n",
       "        }    #T_74acefcc_4374_11e9_a45e_520080ba0101row3_col0 {\n",
       "            background-color:  #aec5e1;\n",
       "            max-width:  80px;\n",
       "            font-size:  10pt;\n",
       "        }    #T_74acefcc_4374_11e9_a45e_520080ba0101row3_col1 {\n",
       "            background-color:  #f4c9d2;\n",
       "            max-width:  80px;\n",
       "            font-size:  10pt;\n",
       "        }    #T_74acefcc_4374_11e9_a45e_520080ba0101row3_col2 {\n",
       "            background-color:  #d73c5b;\n",
       "            max-width:  80px;\n",
       "            font-size:  10pt;\n",
       "        }    #T_74acefcc_4374_11e9_a45e_520080ba0101row3_col3 {\n",
       "            background-color:  #4479bb;\n",
       "            max-width:  80px;\n",
       "            font-size:  10pt;\n",
       "        }    #T_74acefcc_4374_11e9_a45e_520080ba0101row3_col4 {\n",
       "            background-color:  #e88ea0;\n",
       "            max-width:  80px;\n",
       "            font-size:  10pt;\n",
       "        }    #T_74acefcc_4374_11e9_a45e_520080ba0101row3_col5 {\n",
       "            background-color:  #bdd0e7;\n",
       "            max-width:  80px;\n",
       "            font-size:  10pt;\n",
       "        }    #T_74acefcc_4374_11e9_a45e_520080ba0101row4_col0 {\n",
       "            background-color:  #f2bdc8;\n",
       "            max-width:  80px;\n",
       "            font-size:  10pt;\n",
       "        }    #T_74acefcc_4374_11e9_a45e_520080ba0101row4_col1 {\n",
       "            background-color:  #d73d5c;\n",
       "            max-width:  80px;\n",
       "            font-size:  10pt;\n",
       "        }    #T_74acefcc_4374_11e9_a45e_520080ba0101row4_col2 {\n",
       "            background-color:  #dc5570;\n",
       "            max-width:  80px;\n",
       "            font-size:  10pt;\n",
       "        }    #T_74acefcc_4374_11e9_a45e_520080ba0101row4_col3 {\n",
       "            background-color:  #f0b5c1;\n",
       "            max-width:  80px;\n",
       "            font-size:  10pt;\n",
       "        }    #T_74acefcc_4374_11e9_a45e_520080ba0101row4_col4 {\n",
       "            background-color:  #4479bb;\n",
       "            max-width:  80px;\n",
       "            font-size:  10pt;\n",
       "        }    #T_74acefcc_4374_11e9_a45e_520080ba0101row4_col5 {\n",
       "            background-color:  #d73c5b;\n",
       "            max-width:  80px;\n",
       "            font-size:  10pt;\n",
       "        }    #T_74acefcc_4374_11e9_a45e_520080ba0101row5_col0 {\n",
       "            background-color:  #d9e4f1;\n",
       "            max-width:  80px;\n",
       "            font-size:  10pt;\n",
       "        }    #T_74acefcc_4374_11e9_a45e_520080ba0101row5_col1 {\n",
       "            background-color:  #e0e9f4;\n",
       "            max-width:  80px;\n",
       "            font-size:  10pt;\n",
       "        }    #T_74acefcc_4374_11e9_a45e_520080ba0101row5_col2 {\n",
       "            background-color:  #d73c5b;\n",
       "            max-width:  80px;\n",
       "            font-size:  10pt;\n",
       "        }    #T_74acefcc_4374_11e9_a45e_520080ba0101row5_col3 {\n",
       "            background-color:  #a9c1e0;\n",
       "            max-width:  80px;\n",
       "            font-size:  10pt;\n",
       "        }    #T_74acefcc_4374_11e9_a45e_520080ba0101row5_col4 {\n",
       "            background-color:  #d94764;\n",
       "            max-width:  80px;\n",
       "            font-size:  10pt;\n",
       "        }    #T_74acefcc_4374_11e9_a45e_520080ba0101row5_col5 {\n",
       "            background-color:  #4479bb;\n",
       "            max-width:  80px;\n",
       "            font-size:  10pt;\n",
       "        }</style>  \n",
       "<table id=\"T_74acefcc_4374_11e9_a45e_520080ba0101\" ><caption>Hover to magify</caption> \n",
       "<thead>    <tr> \n",
       "        <th class=\"blank level0\" ></th> \n",
       "        <th class=\"col_heading level0 col0\" >CPIScore2016</th> \n",
       "        <th class=\"col_heading level0 col1\" >HIVPrevelanceRate2016</th> \n",
       "        <th class=\"col_heading level0 col2\" >PercentArableLand2016</th> \n",
       "        <th class=\"col_heading level0 col3\" >PoliticalStability2016</th> \n",
       "        <th class=\"col_heading level0 col4\" >ODAPerCapita2016</th> \n",
       "        <th class=\"col_heading level0 col5\" >HDI2016</th> \n",
       "    </tr></thead> \n",
       "<tbody>    <tr> \n",
       "        <th id=\"T_74acefcc_4374_11e9_a45e_520080ba0101level0_row0\" class=\"row_heading level0 row0\" >CPIScore2016</th> \n",
       "        <td id=\"T_74acefcc_4374_11e9_a45e_520080ba0101row0_col0\" class=\"data row0 col0\" >1</td> \n",
       "        <td id=\"T_74acefcc_4374_11e9_a45e_520080ba0101row0_col1\" class=\"data row0 col1\" >0.34</td> \n",
       "        <td id=\"T_74acefcc_4374_11e9_a45e_520080ba0101row0_col2\" class=\"data row0 col2\" >-0.005</td> \n",
       "        <td id=\"T_74acefcc_4374_11e9_a45e_520080ba0101row0_col3\" class=\"data row0 col3\" >0.69</td> \n",
       "        <td id=\"T_74acefcc_4374_11e9_a45e_520080ba0101row0_col4\" class=\"data row0 col4\" >0.25</td> \n",
       "        <td id=\"T_74acefcc_4374_11e9_a45e_520080ba0101row0_col5\" class=\"data row0 col5\" >0.49</td> \n",
       "    </tr>    <tr> \n",
       "        <th id=\"T_74acefcc_4374_11e9_a45e_520080ba0101level0_row1\" class=\"row_heading level0 row1\" >HIVPrevelanceRate2016</th> \n",
       "        <td id=\"T_74acefcc_4374_11e9_a45e_520080ba0101row1_col0\" class=\"data row1 col0\" >0.34</td> \n",
       "        <td id=\"T_74acefcc_4374_11e9_a45e_520080ba0101row1_col1\" class=\"data row1 col1\" >1</td> \n",
       "        <td id=\"T_74acefcc_4374_11e9_a45e_520080ba0101row1_col2\" class=\"data row1 col2\" >-0.21</td> \n",
       "        <td id=\"T_74acefcc_4374_11e9_a45e_520080ba0101row1_col3\" class=\"data row1 col3\" >0.38</td> \n",
       "        <td id=\"T_74acefcc_4374_11e9_a45e_520080ba0101row1_col4\" class=\"data row1 col4\" >-0.17</td> \n",
       "        <td id=\"T_74acefcc_4374_11e9_a45e_520080ba0101row1_col5\" class=\"data row1 col5\" >0.46</td> \n",
       "    </tr>    <tr> \n",
       "        <th id=\"T_74acefcc_4374_11e9_a45e_520080ba0101level0_row2\" class=\"row_heading level0 row2\" >PercentArableLand2016</th> \n",
       "        <td id=\"T_74acefcc_4374_11e9_a45e_520080ba0101row2_col0\" class=\"data row2 col0\" >-0.005</td> \n",
       "        <td id=\"T_74acefcc_4374_11e9_a45e_520080ba0101row2_col1\" class=\"data row2 col1\" >-0.21</td> \n",
       "        <td id=\"T_74acefcc_4374_11e9_a45e_520080ba0101row2_col2\" class=\"data row2 col2\" >1</td> \n",
       "        <td id=\"T_74acefcc_4374_11e9_a45e_520080ba0101row2_col3\" class=\"data row2 col3\" >-0.014</td> \n",
       "        <td id=\"T_74acefcc_4374_11e9_a45e_520080ba0101row2_col4\" class=\"data row2 col4\" >-0.087</td> \n",
       "        <td id=\"T_74acefcc_4374_11e9_a45e_520080ba0101row2_col5\" class=\"data row2 col5\" >-0.22</td> \n",
       "    </tr>    <tr> \n",
       "        <th id=\"T_74acefcc_4374_11e9_a45e_520080ba0101level0_row3\" class=\"row_heading level0 row3\" >PoliticalStability2016</th> \n",
       "        <td id=\"T_74acefcc_4374_11e9_a45e_520080ba0101row3_col0\" class=\"data row3 col0\" >0.69</td> \n",
       "        <td id=\"T_74acefcc_4374_11e9_a45e_520080ba0101row3_col1\" class=\"data row3 col1\" >0.38</td> \n",
       "        <td id=\"T_74acefcc_4374_11e9_a45e_520080ba0101row3_col2\" class=\"data row3 col2\" >-0.014</td> \n",
       "        <td id=\"T_74acefcc_4374_11e9_a45e_520080ba0101row3_col3\" class=\"data row3 col3\" >1</td> \n",
       "        <td id=\"T_74acefcc_4374_11e9_a45e_520080ba0101row3_col4\" class=\"data row3 col4\" >0.22</td> \n",
       "        <td id=\"T_74acefcc_4374_11e9_a45e_520080ba0101row3_col5\" class=\"data row3 col5\" >0.65</td> \n",
       "    </tr>    <tr> \n",
       "        <th id=\"T_74acefcc_4374_11e9_a45e_520080ba0101level0_row4\" class=\"row_heading level0 row4\" >ODAPerCapita2016</th> \n",
       "        <td id=\"T_74acefcc_4374_11e9_a45e_520080ba0101row4_col0\" class=\"data row4 col0\" >0.25</td> \n",
       "        <td id=\"T_74acefcc_4374_11e9_a45e_520080ba0101row4_col1\" class=\"data row4 col1\" >-0.17</td> \n",
       "        <td id=\"T_74acefcc_4374_11e9_a45e_520080ba0101row4_col2\" class=\"data row4 col2\" >-0.087</td> \n",
       "        <td id=\"T_74acefcc_4374_11e9_a45e_520080ba0101row4_col3\" class=\"data row4 col3\" >0.22</td> \n",
       "        <td id=\"T_74acefcc_4374_11e9_a45e_520080ba0101row4_col4\" class=\"data row4 col4\" >1</td> \n",
       "        <td id=\"T_74acefcc_4374_11e9_a45e_520080ba0101row4_col5\" class=\"data row4 col5\" >-0.17</td> \n",
       "    </tr>    <tr> \n",
       "        <th id=\"T_74acefcc_4374_11e9_a45e_520080ba0101level0_row5\" class=\"row_heading level0 row5\" >HDI2016</th> \n",
       "        <td id=\"T_74acefcc_4374_11e9_a45e_520080ba0101row5_col0\" class=\"data row5 col0\" >0.49</td> \n",
       "        <td id=\"T_74acefcc_4374_11e9_a45e_520080ba0101row5_col1\" class=\"data row5 col1\" >0.46</td> \n",
       "        <td id=\"T_74acefcc_4374_11e9_a45e_520080ba0101row5_col2\" class=\"data row5 col2\" >-0.22</td> \n",
       "        <td id=\"T_74acefcc_4374_11e9_a45e_520080ba0101row5_col3\" class=\"data row5 col3\" >0.65</td> \n",
       "        <td id=\"T_74acefcc_4374_11e9_a45e_520080ba0101row5_col4\" class=\"data row5 col4\" >-0.17</td> \n",
       "        <td id=\"T_74acefcc_4374_11e9_a45e_520080ba0101row5_col5\" class=\"data row5 col5\" >1</td> \n",
       "    </tr></tbody> \n",
       "</table> "
      ],
      "text/plain": [
       "<pandas.io.formats.style.Styler at 0x1a1c61f278>"
      ]
     },
     "execution_count": 56,
     "metadata": {},
     "output_type": "execute_result"
    }
   ],
   "source": [
    "correlationSSA = numeric_features.corr()\n",
    "\n",
    "cmap = cmap=sns.diverging_palette(5, 250, as_cmap=True)\n",
    "\n",
    "def magnify():\n",
    "    return [dict(selector=\"th\",\n",
    "                 props=[(\"font-size\", \"7pt\")]),\n",
    "            dict(selector=\"td\",\n",
    "                 props=[('padding', \"0em 0em\")]),\n",
    "            dict(selector=\"th:hover\",\n",
    "                 props=[(\"font-size\", \"12pt\")]),\n",
    "            dict(selector=\"tr:hover td:hover\",\n",
    "                 props=[('max-width', '200px'),\n",
    "                        ('font-size', '12pt')])\n",
    "]\n",
    "\n",
    "correlationSSA.style.background_gradient(cmap, axis=1)\\\n",
    "    .set_properties(**{'max-width': '80px', 'font-size': '10pt'})\\\n",
    "    .set_caption(\"Hover to magify\")\\\n",
    "    .set_precision(2)\\\n",
    "    .set_table_styles(magnify())"
   ]
  },
  {
   "cell_type": "code",
   "execution_count": 57,
   "metadata": {},
   "outputs": [
    {
     "name": "stdout",
     "output_type": "stream",
     "text": [
      "HDI2016                   1.000000\n",
      "PoliticalStability2016    0.648938\n",
      "CPIScore2016              0.485670\n",
      "HIVPrevelanceRate2016     0.461405\n",
      "ODAPerCapita2016         -0.173561\n",
      "PercentArableLand2016    -0.215777\n",
      "Name: HDI2016, dtype: float64 \n",
      "\n"
     ]
    }
   ],
   "source": [
    "print(correlationSSA['HDI2016'].sort_values(ascending = False),'\\n')"
   ]
  },
  {
   "cell_type": "markdown",
   "metadata": {},
   "source": [
    "The data shows that for 2016, the Human Development Index(HDI) has a  <b><font color=\"green\">positive</font> correlation</b> to the Political Stability Score, CPI Score and HIV Prevelance Rate of the country. On the other hand per the co-relation table, the Official Development Aid received per capita as well as the Percentage of Arable Land has a small <b><font color=\"maroon\">negative</font> correlation</b> to the Human Development Index in 2016. "
   ]
  },
  {
   "cell_type": "markdown",
   "metadata": {},
   "source": [
    "<h3>Performing the T-test</h3>\n",
    "\n",
    "In order to see if the relationship of these 5 variables to the Human Development Index is statistically significant, I will use Seaborn's jointplot to visualize the relationship and view the p-values."
   ]
  },
  {
   "cell_type": "markdown",
   "metadata": {},
   "source": [
    "<h4>HDI vs Political Stability (2016)</h4>"
   ]
  },
  {
   "cell_type": "code",
   "execution_count": 58,
   "metadata": {},
   "outputs": [
    {
     "data": {
      "image/png": "[encoded data removed]",
      "text/plain": [
       "<Figure size 432x432 with 3 Axes>"
      ]
     },
     "metadata": {},
     "output_type": "display_data"
    }
   ],
   "source": [
    "import pandas as pd\n",
    "import seaborn as sns\n",
    "from matplotlib import pyplot as plt\n",
    "df = SSA_2016\n",
    "sns.jointplot(x = 'HDI2016',y = 'PoliticalStability2016',data = df, kind='reg')\n",
    "plt.show()"
   ]
  },
  {
   "cell_type": "markdown",
   "metadata": {},
   "source": [
    "The Political Stability of the SSA countries in 2016 was positively co-related to Human Development Index for 2016. <b>(Correlatin value = 0.648938)</b>. The p-value of through Seaborn's jointplot is found to be 5.9e-06, i.e. definetly lower than the threshold of 0.05. <b>Thus the correlation between these Political Stability 2016 and Human Development Index 2016 is statistically significant.</b>"
   ]
  },
  {
   "cell_type": "markdown",
   "metadata": {},
   "source": [
    "<h4>HDI vs Corruption Perception Index Score and HIV Prevelance Rate (2016)</h4>"
   ]
  },
  {
   "cell_type": "code",
   "execution_count": 59,
   "metadata": {},
   "outputs": [
    {
     "data": {
      "image/png": "[encoded data removed]",
      "text/plain": [
       "<Figure size 432x432 with 3 Axes>"
      ]
     },
     "metadata": {},
     "output_type": "display_data"
    },
    {
     "data": {
      "image/png": "[encoded data removed]",
      "text/plain": [
       "<Figure size 432x432 with 3 Axes>"
      ]
     },
     "metadata": {},
     "output_type": "display_data"
    }
   ],
   "source": [
    "import pandas as pd\n",
    "import seaborn as sns\n",
    "from matplotlib import pyplot as plt\n",
    "df = SSA_2016\n",
    "sns.jointplot(x = 'HDI2016',y = 'CPIScore2016',data = df, kind='reg')\n",
    "plt.show()\n",
    "\n",
    "sns.jointplot(x = 'HDI2016',y = 'HIVPrevelanceRate2016',data = df, kind='reg')\n",
    "plt.show()"
   ]
  },
  {
   "cell_type": "markdown",
   "metadata": {},
   "source": [
    "The Corruption Perception Index (CPI) score and the HIV Prevelance Rate of the SSA countries in 2016 were both positively co-related to Human Development Index for 2016. \n",
    "- Correlation value = 0.485670 between CPI2016 and HDI2016. p-value found to be 3.5e-05\n",
    "- Correlation value = 0.461405 between HIVPrevelanceRate2016 & HDI2016. p-value found to be 0.0012\n",
    "\n",
    "The p-values are lower than the threshold of 0.05. <b>Thus the correlation between these two variables and Human Development Index 2016 is still statistically significant.</b>"
   ]
  },
  {
   "cell_type": "markdown",
   "metadata": {},
   "source": [
    "<h4>HDI vs Official Development Aid (ODA) per capita and Percentage of Arable Land (2016)</h4>"
   ]
  },
  {
   "cell_type": "code",
   "execution_count": 60,
   "metadata": {},
   "outputs": [
    {
     "data": {
      "image/png": "[encoded data removed]",
      "text/plain": [
       "<Figure size 432x432 with 3 Axes>"
      ]
     },
     "metadata": {},
     "output_type": "display_data"
    },
    {
     "data": {
      "image/png": "[encoded data removed]",
      "text/plain": [
       "<Figure size 432x432 with 3 Axes>"
      ]
     },
     "metadata": {},
     "output_type": "display_data"
    }
   ],
   "source": [
    "import pandas as pd\n",
    "import seaborn as sns\n",
    "from matplotlib import pyplot as plt\n",
    "df = SSA_2016\n",
    "sns.jointplot(x = 'HDI2016',y = 'ODAPerCapita2016',data = df, kind='hex')\n",
    "plt.show()\n",
    "\n",
    "sns.jointplot(x = 'HDI2016',y = 'PercentArableLand2016',data = df, kind='hex')\n",
    "plt.show()"
   ]
  },
  {
   "cell_type": "markdown",
   "metadata": {},
   "source": [
    "The Official Development Aid (ODA) per capita and Percentage of Arable Land of the SSA countries in 2016 were both <i>negatively</i> co-related to Human Development Index for 2016. \n",
    "- Correlation value = -0.173561 between ODAPerCapita2016 and HDO2016. p-value found to be 0.28\n",
    "- Correlation value = -0.215777 between PercentArableLand2016 & CPI2016. p-value found to be 0.18\n",
    "\n",
    "The p-values for these 2 variables are higher than the threshold of 0.05. <b>Thus the correlation between these two variables (ODA per capita and Percentage of Arable Land) and Human Development Index 2016 is actually <u>not statistically significant.</u></b>"
   ]
  },
  {
   "cell_type": "markdown",
   "metadata": {},
   "source": [
    "<h3>Observing the relationship between the categorical variables and HDI 2016</h3>\n",
    "\n",
    "The categorical variables in this data set are:\n",
    "- PoliticalFreedomStatus2016: Free, Partially Free or Not Free status. \n",
    "- LandLocked (Yes/ No): Indicates if the country has a coastline that can give it a geographical boost as opposed to its neighbors that are land-locked. \n",
    "\n",
    "Trim the data set to focus on the dependent variable HDI2016 and the categorical variables:"
   ]
  },
  {
   "cell_type": "code",
   "execution_count": 61,
   "metadata": {},
   "outputs": [
    {
     "data": {
      "text/html": [
       "<div>\n",
       "<style scoped>\n",
       "    .dataframe tbody tr th:only-of-type {\n",
       "        vertical-align: middle;\n",
       "    }\n",
       "\n",
       "    .dataframe tbody tr th {\n",
       "        vertical-align: top;\n",
       "    }\n",
       "\n",
       "    .dataframe thead th {\n",
       "        text-align: right;\n",
       "    }\n",
       "</style>\n",
       "<table border=\"1\" class=\"dataframe\">\n",
       "  <thead>\n",
       "    <tr style=\"text-align: right;\">\n",
       "      <th></th>\n",
       "      <th>PoliticalFreedomStatus2016</th>\n",
       "      <th>LandLocked</th>\n",
       "      <th>HDI2016</th>\n",
       "    </tr>\n",
       "  </thead>\n",
       "  <tbody>\n",
       "    <tr>\n",
       "      <th>100</th>\n",
       "      <td>F</td>\n",
       "      <td>Yes</td>\n",
       "      <td>0.712</td>\n",
       "    </tr>\n",
       "    <tr>\n",
       "      <th>109</th>\n",
       "      <td>NF</td>\n",
       "      <td>No</td>\n",
       "      <td>0.698</td>\n",
       "    </tr>\n",
       "    <tr>\n",
       "      <th>113</th>\n",
       "      <td>F</td>\n",
       "      <td>No</td>\n",
       "      <td>0.696</td>\n",
       "    </tr>\n",
       "    <tr>\n",
       "      <th>124</th>\n",
       "      <td>F</td>\n",
       "      <td>No</td>\n",
       "      <td>0.652</td>\n",
       "    </tr>\n",
       "    <tr>\n",
       "      <th>128</th>\n",
       "      <td>F</td>\n",
       "      <td>No</td>\n",
       "      <td>0.645</td>\n",
       "    </tr>\n",
       "  </tbody>\n",
       "</table>\n",
       "</div>"
      ],
      "text/plain": [
       "    PoliticalFreedomStatus2016 LandLocked  HDI2016\n",
       "100                          F        Yes    0.712\n",
       "109                         NF         No    0.698\n",
       "113                          F         No    0.696\n",
       "124                          F         No    0.652\n",
       "128                          F         No    0.645"
      ]
     },
     "execution_count": 61,
     "metadata": {},
     "output_type": "execute_result"
    }
   ],
   "source": [
    "categorical_features = SSA_2016[['PoliticalFreedomStatus2016', 'LandLocked', 'HDI2016']]\n",
    "categorical_features.head()"
   ]
  },
  {
   "cell_type": "markdown",
   "metadata": {},
   "source": [
    "In order to see if the Political Freedom Status and Land Locked status are related to Human Development Index 2016 and if the relationship is statistically significant, I will perform the chi-squared test. \n",
    "\n",
    "As a first step in that process, I will convert my Depenedent Variable HDI2016 to categorical. "
   ]
  },
  {
   "cell_type": "code",
   "execution_count": 62,
   "metadata": {},
   "outputs": [
    {
     "data": {
      "text/html": [
       "<div>\n",
       "<style scoped>\n",
       "    .dataframe tbody tr th:only-of-type {\n",
       "        vertical-align: middle;\n",
       "    }\n",
       "\n",
       "    .dataframe tbody tr th {\n",
       "        vertical-align: top;\n",
       "    }\n",
       "\n",
       "    .dataframe thead th {\n",
       "        text-align: right;\n",
       "    }\n",
       "</style>\n",
       "<table border=\"1\" class=\"dataframe\">\n",
       "  <thead>\n",
       "    <tr style=\"text-align: right;\">\n",
       "      <th></th>\n",
       "      <th>HDI2016</th>\n",
       "    </tr>\n",
       "  </thead>\n",
       "  <tbody>\n",
       "    <tr>\n",
       "      <th>count</th>\n",
       "      <td>40.000000</td>\n",
       "    </tr>\n",
       "    <tr>\n",
       "      <th>mean</th>\n",
       "      <td>0.511200</td>\n",
       "    </tr>\n",
       "    <tr>\n",
       "      <th>std</th>\n",
       "      <td>0.088891</td>\n",
       "    </tr>\n",
       "    <tr>\n",
       "      <th>min</th>\n",
       "      <td>0.351000</td>\n",
       "    </tr>\n",
       "    <tr>\n",
       "      <th>25%</th>\n",
       "      <td>0.451250</td>\n",
       "    </tr>\n",
       "    <tr>\n",
       "      <th>50%</th>\n",
       "      <td>0.505000</td>\n",
       "    </tr>\n",
       "    <tr>\n",
       "      <th>75%</th>\n",
       "      <td>0.559000</td>\n",
       "    </tr>\n",
       "    <tr>\n",
       "      <th>max</th>\n",
       "      <td>0.712000</td>\n",
       "    </tr>\n",
       "  </tbody>\n",
       "</table>\n",
       "</div>"
      ],
      "text/plain": [
       "         HDI2016\n",
       "count  40.000000\n",
       "mean    0.511200\n",
       "std     0.088891\n",
       "min     0.351000\n",
       "25%     0.451250\n",
       "50%     0.505000\n",
       "75%     0.559000\n",
       "max     0.712000"
      ]
     },
     "execution_count": 62,
     "metadata": {},
     "output_type": "execute_result"
    }
   ],
   "source": [
    "categorical_features.describe()"
   ]
  },
  {
   "cell_type": "markdown",
   "metadata": {},
   "source": [
    "The HDI2016 spans from 0.351 to 0.793"
   ]
  },
  {
   "cell_type": "code",
   "execution_count": 63,
   "metadata": {},
   "outputs": [
    {
     "data": {
      "text/plain": [
       "100    (0.64, 0.712]\n",
       "109    (0.64, 0.712]\n",
       "113    (0.64, 0.712]\n",
       "124    (0.64, 0.712]\n",
       "128    (0.64, 0.712]\n",
       "Name: HDI2016, dtype: category\n",
       "Categories (5, interval[float64]): [(0.351, 0.423] < (0.423, 0.495] < (0.495, 0.568] < (0.568, 0.64] < (0.64, 0.712]]"
      ]
     },
     "execution_count": 63,
     "metadata": {},
     "output_type": "execute_result"
    }
   ],
   "source": [
    "pd.cut(categorical_features['HDI2016'],5).head()"
   ]
  },
  {
   "cell_type": "markdown",
   "metadata": {},
   "source": [
    "Created 5 itervals for Human Development Index 2016."
   ]
  },
  {
   "cell_type": "code",
   "execution_count": 64,
   "metadata": {},
   "outputs": [
    {
     "data": {
      "text/html": [
       "<div>\n",
       "<style scoped>\n",
       "    .dataframe tbody tr th:only-of-type {\n",
       "        vertical-align: middle;\n",
       "    }\n",
       "\n",
       "    .dataframe tbody tr th {\n",
       "        vertical-align: top;\n",
       "    }\n",
       "\n",
       "    .dataframe thead th {\n",
       "        text-align: right;\n",
       "    }\n",
       "</style>\n",
       "<table border=\"1\" class=\"dataframe\">\n",
       "  <thead>\n",
       "    <tr style=\"text-align: right;\">\n",
       "      <th></th>\n",
       "      <th>PoliticalFreedomStatus2016</th>\n",
       "      <th>LandLocked</th>\n",
       "      <th>BinnedHDI2016</th>\n",
       "    </tr>\n",
       "  </thead>\n",
       "  <tbody>\n",
       "    <tr>\n",
       "      <th>100</th>\n",
       "      <td>F</td>\n",
       "      <td>Yes</td>\n",
       "      <td>(0.64, 0.712]</td>\n",
       "    </tr>\n",
       "    <tr>\n",
       "      <th>109</th>\n",
       "      <td>NF</td>\n",
       "      <td>No</td>\n",
       "      <td>(0.64, 0.712]</td>\n",
       "    </tr>\n",
       "    <tr>\n",
       "      <th>113</th>\n",
       "      <td>F</td>\n",
       "      <td>No</td>\n",
       "      <td>(0.64, 0.712]</td>\n",
       "    </tr>\n",
       "    <tr>\n",
       "      <th>124</th>\n",
       "      <td>F</td>\n",
       "      <td>No</td>\n",
       "      <td>(0.64, 0.712]</td>\n",
       "    </tr>\n",
       "    <tr>\n",
       "      <th>128</th>\n",
       "      <td>F</td>\n",
       "      <td>No</td>\n",
       "      <td>(0.64, 0.712]</td>\n",
       "    </tr>\n",
       "  </tbody>\n",
       "</table>\n",
       "</div>"
      ],
      "text/plain": [
       "    PoliticalFreedomStatus2016 LandLocked  BinnedHDI2016\n",
       "100                          F        Yes  (0.64, 0.712]\n",
       "109                         NF         No  (0.64, 0.712]\n",
       "113                          F         No  (0.64, 0.712]\n",
       "124                          F         No  (0.64, 0.712]\n",
       "128                          F         No  (0.64, 0.712]"
      ]
     },
     "execution_count": 64,
     "metadata": {},
     "output_type": "execute_result"
    }
   ],
   "source": [
    "import pandas as pd\n",
    "test= pd.cut(categorical_features['HDI2016'],5)\n",
    "categorical_features['BinnedHDI2016']=test\n",
    "categorical_features=categorical_features.drop(columns=['HDI2016'])\n",
    "categorical_features.head()"
   ]
  },
  {
   "cell_type": "code",
   "execution_count": 65,
   "metadata": {},
   "outputs": [
    {
     "data": {
      "text/html": [
       "<div>\n",
       "<style scoped>\n",
       "    .dataframe tbody tr th:only-of-type {\n",
       "        vertical-align: middle;\n",
       "    }\n",
       "\n",
       "    .dataframe tbody tr th {\n",
       "        vertical-align: top;\n",
       "    }\n",
       "\n",
       "    .dataframe thead th {\n",
       "        text-align: right;\n",
       "    }\n",
       "</style>\n",
       "<table border=\"1\" class=\"dataframe\">\n",
       "  <thead>\n",
       "    <tr style=\"text-align: right;\">\n",
       "      <th>BinnedHDI2016</th>\n",
       "      <th>(0.351, 0.423]</th>\n",
       "      <th>(0.423, 0.495]</th>\n",
       "      <th>(0.495, 0.568]</th>\n",
       "      <th>(0.568, 0.64]</th>\n",
       "      <th>(0.64, 0.712]</th>\n",
       "    </tr>\n",
       "    <tr>\n",
       "      <th>PoliticalFreedomStatus2016</th>\n",
       "      <th></th>\n",
       "      <th></th>\n",
       "      <th></th>\n",
       "      <th></th>\n",
       "      <th></th>\n",
       "    </tr>\n",
       "  </thead>\n",
       "  <tbody>\n",
       "    <tr>\n",
       "      <th>F</th>\n",
       "      <td>4</td>\n",
       "      <td>1</td>\n",
       "      <td>2</td>\n",
       "      <td>0</td>\n",
       "      <td>0</td>\n",
       "    </tr>\n",
       "    <tr>\n",
       "      <th>NF</th>\n",
       "      <td>1</td>\n",
       "      <td>2</td>\n",
       "      <td>4</td>\n",
       "      <td>4</td>\n",
       "      <td>3</td>\n",
       "    </tr>\n",
       "    <tr>\n",
       "      <th>PF</th>\n",
       "      <td>0</td>\n",
       "      <td>2</td>\n",
       "      <td>7</td>\n",
       "      <td>6</td>\n",
       "      <td>4</td>\n",
       "    </tr>\n",
       "  </tbody>\n",
       "</table>\n",
       "</div>"
      ],
      "text/plain": [
       "BinnedHDI2016               (0.351, 0.423]  (0.423, 0.495]  (0.495, 0.568]  \\\n",
       "PoliticalFreedomStatus2016                                                   \n",
       "F                                        4               1               2   \n",
       "NF                                       1               2               4   \n",
       "PF                                       0               2               7   \n",
       "\n",
       "BinnedHDI2016               (0.568, 0.64]  (0.64, 0.712]  \n",
       "PoliticalFreedomStatus2016                                \n",
       "F                                       0              0  \n",
       "NF                                      4              3  \n",
       "PF                                      6              4  "
      ]
     },
     "execution_count": 65,
     "metadata": {},
     "output_type": "execute_result"
    }
   ],
   "source": [
    "#Creating the contingency table:\n",
    "PF_HDI_crosstab = pd.crosstab(categorical_features['PoliticalFreedomStatus2016'], \n",
    "                                    categorical_features['BinnedHDI2016'], margins = False) \n",
    "PF_HDI_crosstab"
   ]
  },
  {
   "cell_type": "code",
   "execution_count": 66,
   "metadata": {},
   "outputs": [
    {
     "name": "stdout",
     "output_type": "stream",
     "text": [
      "dof=8\n",
      "[[0.875 0.875 2.275 1.75  1.225]\n",
      " [1.75  1.75  4.55  3.5   2.45 ]\n",
      " [2.375 2.375 6.175 4.75  3.325]]\n",
      "probability=0.950, critical=15.507, stat=17.816\n",
      "Dependent (reject H0)\n",
      "significance=0.050, p=0.023\n",
      "Dependent (reject H0)\n"
     ]
    }
   ],
   "source": [
    "#Performing the Pearson Chi-Squared test\n",
    "from scipy.stats import chi2_contingency\n",
    "from scipy.stats import chi2\n",
    "stat, p, dof, expected = chi2_contingency(PF_HDI_crosstab)\n",
    "print('dof=%d' % dof)\n",
    "print(expected)\n",
    "# interpret test-statistic\n",
    "prob = 0.95\n",
    "critical = chi2.ppf(prob, dof)\n",
    "print('probability=%.3f, critical=%.3f, stat=%.3f' % (prob, critical, stat))\n",
    "if abs(stat) >= critical:\n",
    "\tprint('Dependent (reject H0)')\n",
    "else:\n",
    "\tprint('Independent (fail to reject H0)')\n",
    "# interpret p-value\n",
    "alpha = 1.0 - prob\n",
    "print('significance=%.3f, p=%.3f' % (alpha, p))\n",
    "if p <= alpha:\n",
    "\tprint('Dependent (reject H0)')\n",
    "else:\n",
    "\tprint('Independent (fail to reject H0)')"
   ]
  },
  {
   "cell_type": "markdown",
   "metadata": {},
   "source": [
    "<b>So it appears in the 2016 SSA data set, the Political Freedom Status's relationship to the Human Development Index IS significant. </b>"
   ]
  },
  {
   "cell_type": "code",
   "execution_count": 67,
   "metadata": {},
   "outputs": [
    {
     "data": {
      "text/html": [
       "<div>\n",
       "<style scoped>\n",
       "    .dataframe tbody tr th:only-of-type {\n",
       "        vertical-align: middle;\n",
       "    }\n",
       "\n",
       "    .dataframe tbody tr th {\n",
       "        vertical-align: top;\n",
       "    }\n",
       "\n",
       "    .dataframe thead th {\n",
       "        text-align: right;\n",
       "    }\n",
       "</style>\n",
       "<table border=\"1\" class=\"dataframe\">\n",
       "  <thead>\n",
       "    <tr style=\"text-align: right;\">\n",
       "      <th>BinnedHDI2016</th>\n",
       "      <th>(0.351, 0.423]</th>\n",
       "      <th>(0.423, 0.495]</th>\n",
       "      <th>(0.495, 0.568]</th>\n",
       "      <th>(0.568, 0.64]</th>\n",
       "      <th>(0.64, 0.712]</th>\n",
       "    </tr>\n",
       "    <tr>\n",
       "      <th>LandLocked</th>\n",
       "      <th></th>\n",
       "      <th></th>\n",
       "      <th></th>\n",
       "      <th></th>\n",
       "      <th></th>\n",
       "    </tr>\n",
       "  </thead>\n",
       "  <tbody>\n",
       "    <tr>\n",
       "      <th>No</th>\n",
       "      <td>4</td>\n",
       "      <td>4</td>\n",
       "      <td>9</td>\n",
       "      <td>8</td>\n",
       "      <td>1</td>\n",
       "    </tr>\n",
       "    <tr>\n",
       "      <th>Yes</th>\n",
       "      <td>1</td>\n",
       "      <td>1</td>\n",
       "      <td>4</td>\n",
       "      <td>2</td>\n",
       "      <td>6</td>\n",
       "    </tr>\n",
       "  </tbody>\n",
       "</table>\n",
       "</div>"
      ],
      "text/plain": [
       "BinnedHDI2016  (0.351, 0.423]  (0.423, 0.495]  (0.495, 0.568]  (0.568, 0.64]  \\\n",
       "LandLocked                                                                     \n",
       "No                          4               4               9              8   \n",
       "Yes                         1               1               4              2   \n",
       "\n",
       "BinnedHDI2016  (0.64, 0.712]  \n",
       "LandLocked                    \n",
       "No                         1  \n",
       "Yes                        6  "
      ]
     },
     "execution_count": 67,
     "metadata": {},
     "output_type": "execute_result"
    }
   ],
   "source": [
    "#Creating the contingency table:\n",
    "LL_HDI_crosstab = pd.crosstab(categorical_features['LandLocked'], \n",
    "                                    categorical_features['BinnedHDI2016'], margins = False) \n",
    "LL_HDI_crosstab"
   ]
  },
  {
   "cell_type": "code",
   "execution_count": 68,
   "metadata": {},
   "outputs": [
    {
     "name": "stdout",
     "output_type": "stream",
     "text": [
      "dof=4\n",
      "[[3.25 3.25 8.45 6.5  4.55]\n",
      " [1.75 1.75 4.55 3.5  2.45]]\n",
      "probability=0.950, critical=9.488, stat=9.994\n",
      "Dependent (reject H0)\n",
      "significance=0.050, p=0.041\n",
      "Dependent (reject H0)\n"
     ]
    }
   ],
   "source": [
    "#Performing the Pearson Chi-Squared test\n",
    "from scipy.stats import chi2_contingency\n",
    "from scipy.stats import chi2\n",
    "stat, p, dof, expected = chi2_contingency(LL_HDI_crosstab)\n",
    "print('dof=%d' % dof)\n",
    "print(expected)\n",
    "# interpret test-statistic\n",
    "prob = 0.95\n",
    "critical = chi2.ppf(prob, dof)\n",
    "print('probability=%.3f, critical=%.3f, stat=%.3f' % (prob, critical, stat))\n",
    "if abs(stat) >= critical:\n",
    "\tprint('Dependent (reject H0)')\n",
    "else:\n",
    "\tprint('Independent (fail to reject H0)')\n",
    "# interpret p-value\n",
    "alpha = 1.0 - prob\n",
    "print('significance=%.3f, p=%.3f' % (alpha, p))\n",
    "if p <= alpha:\n",
    "\tprint('Dependent (reject H0)')\n",
    "else:\n",
    "\tprint('Independent (fail to reject H0)')"
   ]
  },
  {
   "cell_type": "markdown",
   "metadata": {},
   "source": [
    "<b>Thus the Land Locked Status has a <u>significant coorelation</u> to the Human Development Index in the 2016 SSA countries data set. </b>"
   ]
  },
  {
   "cell_type": "markdown",
   "metadata": {},
   "source": [
    "<H1>Conclusions from EDA</H1>"
   ]
  },
  {
   "cell_type": "markdown",
   "metadata": {},
   "source": [
    "<h3>Let's gather the findings:</h3>"
   ]
  },
  {
   "cell_type": "code",
   "execution_count": 69,
   "metadata": {},
   "outputs": [
    {
     "name": "stdout",
     "output_type": "stream",
     "text": [
      "HDI2016                   1.000000\n",
      "PoliticalStability2016    0.648938\n",
      "CPIScore2016              0.485670\n",
      "HIVPrevelanceRate2016     0.461405\n",
      "ODAPerCapita2016         -0.173561\n",
      "PercentArableLand2016    -0.215777\n",
      "Name: HDI2016, dtype: float64 \n",
      "\n"
     ]
    }
   ],
   "source": [
    "print(correlationSSA['HDI2016'].sort_values(ascending = False),'\\n')"
   ]
  },
  {
   "cell_type": "markdown",
   "metadata": {},
   "source": [
    "<b>Of the above the following correlations are statistically significant:</b>\n",
    "- The correlation between Political Stability 2016 and Human Development Index 2016\n",
    "- The correlation between Corruption Perception Index (CPI) score for 2016 and Human Development Index 2016\n",
    "- The correlation between HIV Prevelance Rate 2016 and Human Development Index 2016\n",
    "\n",
    "It makes sense that the <b>Human Development Index(HDI)</b> has a <b>positive correlation</b> to the <b>Political Stability Score</b> and the <b>Corruption Perceived Index Score</b>. It is harder to understand at a first glance, how a <b>higher HIV Prevelance Rate</b> could lead to <b>higher Human Development Index</b>. This can however be explained by the fact that the countries with the most HIV Prevelance Rate have been getting the most dedicated international aid to combat this problem. This has lead to improvements (however big or small) in the medical attention received by the individuals suffering from HIV. This is turn tends to bump the Human Development Index scores. \n",
    "\n",
    "<b> The following correlations are NOT statistically significant:</b>\n",
    "- Official Development Aid per capita 2016 and Human Development Index 2016\n",
    "- Percentage of Arable Land 2016 and Human Development Index 2016\n",
    "\n",
    "It is interesting to note that the Official Development Aid and the Percentage of Arable Land are actually negatively correlated to the Human Development Index of 2016. This matches up to the analysis made by prominent economists such as Angus Deaton, that higher foreign aid received by the less developed countries do not necessarily lead to higher Human Development Index. Their reasoning is that higher influx of foreign cash, makes a government less accountable to their citizens and thus they do far less to raise the Human Development Index of their country, than they would do if all the money came only from tax-paying citizens. <b>However my analysis shows that, at least in the case of these 40 Sub Saharan Countries in 2016, the correlation between the Official Development Aid and Percentage Arable Land to the Human Development, <u>is not statistically significant</u>.</b> In other words, these two factors should not affect the Human Development one or the other."
   ]
  },
  {
   "cell_type": "markdown",
   "metadata": {},
   "source": [
    "<b>Of the categorical independent variables, it appears both of them have significant relationship to the dependent variable HDI 2016 and cannot be ignored</b>:\n",
    "- Political Freedom Status 2016 positive correlation to the Human Development Index IS significant\n",
    "- Land Locked Status 2016 has a significant positive coorelation to the Human Development Index 2016\n",
    "\n",
    "Political Freedom's relationshio to Human Development index is understable, as higher Political Freedom has shown to lead higher quality of life. Land Locked Status's positive correlation can be a result of the higher inter country trade and it's possible that the advantage of coast line with the ability to launch a navy are not what are important to the Human Development Index in the current time as trade is hardly limited to having a coastline anymore. "
   ]
  },
  {
   "cell_type": "markdown",
   "metadata": {},
   "source": [
    "<H1>Next Steps</H1>"
   ]
  },
  {
   "cell_type": "markdown",
   "metadata": {},
   "source": [
    "As a natural next step to this capstone project, my next project will focus on predicting the human development index based on the analysis conducted in this project."
   ]
  },
  {
   "cell_type": "markdown",
   "metadata": {},
   "source": [
    "<h2>References:</h2>\n",
    "- https://stars.library.ucf.edu/cgi/viewcontent.cgi?referer=https://www.google.com/&httpsredir=1&article=3040&context=etd.\n",
    "- https://en.wikipedia.org/wiki/Human_Development_Index\n",
    "- https://www.transparency.org/news/feature/corruption_perceptions_index_2017\n",
    "- https://freedomhouse.org/report-types/freedom-world\n",
    "- https://data.worldbank.org/indicator?tab=all\n",
    "- https://en.wikipedia.org/wiki/Landlocked_country#List_of_landlocked_countries_and_territories\n",
    "- http://www.oecd.org/"
   ]
  },
  {
   "cell_type": "code",
   "execution_count": null,
   "metadata": {},
   "outputs": [],
   "source": []
  }
 ],
 "metadata": {
  "kernelspec": {
   "display_name": "Python 3",
   "language": "python",
   "name": "python3"
  },
  "language_info": {
   "codemirror_mode": {
    "name": "ipython",
    "version": 3
   },
   "file_extension": ".py",
   "mimetype": "text/x-python",
   "name": "python",
   "nbconvert_exporter": "python",
   "pygments_lexer": "ipython3",
   "version": "3.6.5"
  }
 },
 "nbformat": 4,
 "nbformat_minor": 2
}
