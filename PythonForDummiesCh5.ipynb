{
 "cells": [
  {
   "cell_type": "markdown",
   "metadata": {},
   "source": [
    "# Loading and reading a CSV file:"
   ]
  },
  {
   "cell_type": "code",
   "execution_count": 15,
   "metadata": {},
   "outputs": [
    {
     "name": "stdout",
     "output_type": "stream",
     "text": [
      "Titanic content: \n",
      "﻿,pclass,survived,sex,age,sibsp,parch\n",
      "1,1st,survived,female,29,0,0\n",
      "2,1st,survived,male,0.916700006,1,2\n",
      "3,1st,died,female,2,1,2\n",
      "4,1st,died,male,30,1,2\n",
      "5,1st,died,female,25,1,2\n",
      "6,1st,survived,male,48,0,0\n",
      "7,1st,survived,female,63,1,0\n",
      "8,1st,died,male,39,0,0\n",
      "9,1st,survived,female,53,2,0\n",
      "10,1st,died,male,71,0,0\n"
     ]
    }
   ],
   "source": [
    "with open(\"titanic.csv\", 'r') as open_file:\n",
    "    print ('Titanic content: \\n' + open_file.read())"
   ]
  },
  {
   "cell_type": "markdown",
   "metadata": {},
   "source": [
    "Streaming the data one observation at a time"
   ]
  },
  {
   "cell_type": "code",
   "execution_count": 16,
   "metadata": {},
   "outputs": [
    {
     "name": "stdout",
     "output_type": "stream",
     "text": [
      "Reading data: \n",
      "﻿,pclass,survived,sex,age,sibsp,parch\n",
      "\n",
      "Reading data: \n",
      "1,1st,survived,female,29,0,0\n",
      "\n",
      "Reading data: \n",
      "2,1st,survived,male,0.916700006,1,2\n",
      "\n",
      "Reading data: \n",
      "3,1st,died,female,2,1,2\n",
      "\n",
      "Reading data: \n",
      "4,1st,died,male,30,1,2\n",
      "\n",
      "Reading data: \n",
      "5,1st,died,female,25,1,2\n",
      "\n",
      "Reading data: \n",
      "6,1st,survived,male,48,0,0\n",
      "\n",
      "Reading data: \n",
      "7,1st,survived,female,63,1,0\n",
      "\n",
      "Reading data: \n",
      "8,1st,died,male,39,0,0\n",
      "\n",
      "Reading data: \n",
      "9,1st,survived,female,53,2,0\n",
      "\n",
      "Reading data: \n",
      "10,1st,died,male,71,0,0\n"
     ]
    }
   ],
   "source": [
    "with open(\"titanic.csv\", 'r') as open_file:\n",
    "    for observation in open_file:\n",
    "        print ('Reading data: \\n' + observation)"
   ]
  },
  {
   "cell_type": "markdown",
   "metadata": {},
   "source": [
    "Reading every 5th observation, a.k.a Sampling"
   ]
  },
  {
   "cell_type": "code",
   "execution_count": 17,
   "metadata": {},
   "outputs": [
    {
     "name": "stdout",
     "output_type": "stream",
     "text": [
      "Reading line: 0 Content: ﻿,pclass,survived,sex,age,sibsp,parch\n",
      "\n",
      "Reading line: 5 Content: 5,1st,died,female,25,1,2\n",
      "\n",
      "Reading line: 10 Content: 10,1st,died,male,71,0,0\n"
     ]
    }
   ],
   "source": [
    "n=5\n",
    "with open(\"titanic.csv\", 'r') as open_file:\n",
    "    for j , observation in enumerate(open_file):\n",
    "        if j%n==0:\n",
    "            print('Reading line: '+str(j)+' Content: ' + observation)"
   ]
  },
  {
   "cell_type": "markdown",
   "metadata": {},
   "source": [
    "Random Sampling:"
   ]
  },
  {
   "cell_type": "code",
   "execution_count": 18,
   "metadata": {},
   "outputs": [
    {
     "name": "stdout",
     "output_type": "stream",
     "text": [
      "Reading line: 0 Content: ﻿,pclass,survived,sex,age,sibsp,parch\n",
      "\n",
      "Reading line: 1 Content: 1,1st,survived,female,29,0,0\n",
      "\n",
      "Reading line: 8 Content: 8,1st,died,male,39,0,0\n",
      "\n",
      "Reading line: 9 Content: 9,1st,survived,female,53,2,0\n",
      "\n"
     ]
    }
   ],
   "source": [
    "from random import random\n",
    "sample_size=0.25 \n",
    "with open(\"titanic.csv\", 'r') as open_file:\n",
    "    for j , observation in enumerate(open_file):\n",
    "        if random()<=sample_size:\n",
    "            print('Reading line: '+str(j)+' Content: ' + observation)"
   ]
  },
  {
   "cell_type": "markdown",
   "metadata": {},
   "source": [
    "# Pandas"
   ]
  },
  {
   "cell_type": "markdown",
   "metadata": {},
   "source": [
    "Using Pandas to parse and read files\n",
    "</br>\n",
    "<h4>1. Reading a Text File<h4>"
   ]
  },
  {
   "cell_type": "code",
   "execution_count": 19,
   "metadata": {},
   "outputs": [
    {
     "name": "stdout",
     "output_type": "stream",
     "text": [
      "    Color  Value\n",
      "0     Red      1\n",
      "1  Orange      2\n",
      "2  Yellow      3\n",
      "3   Green      4\n",
      "4    Blue      5\n",
      "5  Purple      6\n",
      "6   Black      7\n",
      "7   White      8\n"
     ]
    }
   ],
   "source": [
    "#using Pandas\n",
    "import pandas as pd\n",
    "color_table = pd.io.parsers.read_table(\"Colors.txt\")\n",
    "print(color_table)"
   ]
  },
  {
   "cell_type": "markdown",
   "metadata": {},
   "source": [
    "<h4>2. Reading a CSV file<h4>"
   ]
  },
  {
   "cell_type": "code",
   "execution_count": 20,
   "metadata": {},
   "outputs": [
    {
     "name": "stdout",
     "output_type": "stream",
     "text": [
      "       age\n",
      "0  29.0000\n",
      "1   0.9167\n",
      "2   2.0000\n",
      "3  30.0000\n",
      "4  25.0000\n",
      "5  48.0000\n",
      "6  63.0000\n",
      "7  39.0000\n",
      "8  53.0000\n",
      "9  71.0000\n"
     ]
    }
   ],
   "source": [
    "#Reading the titanic file using Pandas\n",
    "import pandas as pd\n",
    "titanic = pd.io.parsers.read_csv(\"Titanic.csv\")\n",
    "X = titanic[['age']]\n",
    "print(X)"
   ]
  },
  {
   "cell_type": "code",
   "execution_count": 21,
   "metadata": {},
   "outputs": [
    {
     "name": "stdout",
     "output_type": "stream",
     "text": [
      "[[29.        ]\n",
      " [ 0.91670001]\n",
      " [ 2.        ]\n",
      " [30.        ]\n",
      " [25.        ]\n",
      " [48.        ]\n",
      " [63.        ]\n",
      " [39.        ]\n",
      " [53.        ]\n",
      " [71.        ]]\n"
     ]
    }
   ],
   "source": [
    "#Making the ages from the Titanic into a list:\n",
    "titanicAges = titanic[['age']].values\n",
    "print(titanicAges)"
   ]
  },
  {
   "cell_type": "markdown",
   "metadata": {},
   "source": [
    "<h4>3. Reading Excel files<h4>"
   ]
  },
  {
   "cell_type": "code",
   "execution_count": 22,
   "metadata": {},
   "outputs": [
    {
     "data": {
      "text/html": [
       "<div>\n",
       "<style scoped>\n",
       "    .dataframe tbody tr th:only-of-type {\n",
       "        vertical-align: middle;\n",
       "    }\n",
       "\n",
       "    .dataframe tbody tr th {\n",
       "        vertical-align: top;\n",
       "    }\n",
       "\n",
       "    .dataframe thead th {\n",
       "        text-align: right;\n",
       "    }\n",
       "</style>\n",
       "<table border=\"1\" class=\"dataframe\">\n",
       "  <thead>\n",
       "    <tr style=\"text-align: right;\">\n",
       "      <th></th>\n",
       "      <th>Angle (Degrees)</th>\n",
       "      <th>Sine</th>\n",
       "      <th>Cosine</th>\n",
       "      <th>Tangent</th>\n",
       "    </tr>\n",
       "  </thead>\n",
       "  <tbody>\n",
       "    <tr>\n",
       "      <th>0</th>\n",
       "      <td>215.725145</td>\n",
       "      <td>-0.583898</td>\n",
       "      <td>-0.811827</td>\n",
       "      <td>0.719239</td>\n",
       "    </tr>\n",
       "    <tr>\n",
       "      <th>1</th>\n",
       "      <td>131.197814</td>\n",
       "      <td>0.752440</td>\n",
       "      <td>-0.658661</td>\n",
       "      <td>-1.142379</td>\n",
       "    </tr>\n",
       "    <tr>\n",
       "      <th>2</th>\n",
       "      <td>245.415949</td>\n",
       "      <td>-0.909352</td>\n",
       "      <td>-0.416028</td>\n",
       "      <td>2.185797</td>\n",
       "    </tr>\n",
       "    <tr>\n",
       "      <th>3</th>\n",
       "      <td>203.388331</td>\n",
       "      <td>-0.396961</td>\n",
       "      <td>-0.917835</td>\n",
       "      <td>0.432497</td>\n",
       "    </tr>\n",
       "    <tr>\n",
       "      <th>4</th>\n",
       "      <td>243.669397</td>\n",
       "      <td>-0.896250</td>\n",
       "      <td>-0.443550</td>\n",
       "      <td>2.020628</td>\n",
       "    </tr>\n",
       "    <tr>\n",
       "      <th>5</th>\n",
       "      <td>86.756457</td>\n",
       "      <td>0.998398</td>\n",
       "      <td>0.056580</td>\n",
       "      <td>17.645693</td>\n",
       "    </tr>\n",
       "    <tr>\n",
       "      <th>6</th>\n",
       "      <td>261.095879</td>\n",
       "      <td>-0.987949</td>\n",
       "      <td>-0.154781</td>\n",
       "      <td>6.382863</td>\n",
       "    </tr>\n",
       "    <tr>\n",
       "      <th>7</th>\n",
       "      <td>273.155215</td>\n",
       "      <td>-0.998484</td>\n",
       "      <td>0.055041</td>\n",
       "      <td>-18.140713</td>\n",
       "    </tr>\n",
       "    <tr>\n",
       "      <th>8</th>\n",
       "      <td>264.793115</td>\n",
       "      <td>-0.995874</td>\n",
       "      <td>-0.090752</td>\n",
       "      <td>10.973541</td>\n",
       "    </tr>\n",
       "    <tr>\n",
       "      <th>9</th>\n",
       "      <td>80.262016</td>\n",
       "      <td>0.985592</td>\n",
       "      <td>0.169143</td>\n",
       "      <td>5.826979</td>\n",
       "    </tr>\n",
       "    <tr>\n",
       "      <th>10</th>\n",
       "      <td>304.483704</td>\n",
       "      <td>-0.824287</td>\n",
       "      <td>0.566172</td>\n",
       "      <td>-1.455896</td>\n",
       "    </tr>\n",
       "    <tr>\n",
       "      <th>11</th>\n",
       "      <td>196.451760</td>\n",
       "      <td>-0.283208</td>\n",
       "      <td>-0.959059</td>\n",
       "      <td>0.295298</td>\n",
       "    </tr>\n",
       "    <tr>\n",
       "      <th>12</th>\n",
       "      <td>181.387987</td>\n",
       "      <td>-0.024223</td>\n",
       "      <td>-0.999707</td>\n",
       "      <td>0.024230</td>\n",
       "    </tr>\n",
       "    <tr>\n",
       "      <th>13</th>\n",
       "      <td>30.862153</td>\n",
       "      <td>0.512974</td>\n",
       "      <td>0.858404</td>\n",
       "      <td>0.597591</td>\n",
       "    </tr>\n",
       "  </tbody>\n",
       "</table>\n",
       "</div>"
      ],
      "text/plain": [
       "    Angle (Degrees)      Sine    Cosine    Tangent\n",
       "0        215.725145 -0.583898 -0.811827   0.719239\n",
       "1        131.197814  0.752440 -0.658661  -1.142379\n",
       "2        245.415949 -0.909352 -0.416028   2.185797\n",
       "3        203.388331 -0.396961 -0.917835   0.432497\n",
       "4        243.669397 -0.896250 -0.443550   2.020628\n",
       "5         86.756457  0.998398  0.056580  17.645693\n",
       "6        261.095879 -0.987949 -0.154781   6.382863\n",
       "7        273.155215 -0.998484  0.055041 -18.140713\n",
       "8        264.793115 -0.995874 -0.090752  10.973541\n",
       "9         80.262016  0.985592  0.169143   5.826979\n",
       "10       304.483704 -0.824287  0.566172  -1.455896\n",
       "11       196.451760 -0.283208 -0.959059   0.295298\n",
       "12       181.387987 -0.024223 -0.999707   0.024230\n",
       "13        30.862153  0.512974  0.858404   0.597591"
      ]
     },
     "execution_count": 22,
     "metadata": {},
     "output_type": "execute_result"
    }
   ],
   "source": [
    "# Reading an excel file\n",
    "trig_values = pd.read_excel(\"Values.xls\", 'Sheet1', index_col=None, na_values=['NA'])\n",
    "trig_values"
   ]
  },
  {
   "cell_type": "code",
   "execution_count": 23,
   "metadata": {},
   "outputs": [
    {
     "data": {
      "text/html": [
       "<div>\n",
       "<style scoped>\n",
       "    .dataframe tbody tr th:only-of-type {\n",
       "        vertical-align: middle;\n",
       "    }\n",
       "\n",
       "    .dataframe tbody tr th {\n",
       "        vertical-align: top;\n",
       "    }\n",
       "\n",
       "    .dataframe thead th {\n",
       "        text-align: right;\n",
       "    }\n",
       "</style>\n",
       "<table border=\"1\" class=\"dataframe\">\n",
       "  <thead>\n",
       "    <tr style=\"text-align: right;\">\n",
       "      <th></th>\n",
       "      <th>Angle (Degrees)</th>\n",
       "      <th>Sine</th>\n",
       "      <th>Cosine</th>\n",
       "      <th>Tangent</th>\n",
       "    </tr>\n",
       "  </thead>\n",
       "  <tbody>\n",
       "    <tr>\n",
       "      <th>0</th>\n",
       "      <td>215.725145</td>\n",
       "      <td>-0.583898</td>\n",
       "      <td>-0.811827</td>\n",
       "      <td>0.719239</td>\n",
       "    </tr>\n",
       "    <tr>\n",
       "      <th>1</th>\n",
       "      <td>131.197814</td>\n",
       "      <td>0.752440</td>\n",
       "      <td>-0.658661</td>\n",
       "      <td>-1.142379</td>\n",
       "    </tr>\n",
       "    <tr>\n",
       "      <th>2</th>\n",
       "      <td>245.415949</td>\n",
       "      <td>-0.909352</td>\n",
       "      <td>-0.416028</td>\n",
       "      <td>2.185797</td>\n",
       "    </tr>\n",
       "    <tr>\n",
       "      <th>3</th>\n",
       "      <td>203.388331</td>\n",
       "      <td>-0.396961</td>\n",
       "      <td>-0.917835</td>\n",
       "      <td>0.432497</td>\n",
       "    </tr>\n",
       "    <tr>\n",
       "      <th>4</th>\n",
       "      <td>243.669397</td>\n",
       "      <td>-0.896250</td>\n",
       "      <td>-0.443550</td>\n",
       "      <td>2.020628</td>\n",
       "    </tr>\n",
       "    <tr>\n",
       "      <th>5</th>\n",
       "      <td>86.756457</td>\n",
       "      <td>0.998398</td>\n",
       "      <td>0.056580</td>\n",
       "      <td>17.645693</td>\n",
       "    </tr>\n",
       "    <tr>\n",
       "      <th>6</th>\n",
       "      <td>261.095879</td>\n",
       "      <td>-0.987949</td>\n",
       "      <td>-0.154781</td>\n",
       "      <td>6.382863</td>\n",
       "    </tr>\n",
       "    <tr>\n",
       "      <th>7</th>\n",
       "      <td>273.155215</td>\n",
       "      <td>-0.998484</td>\n",
       "      <td>0.055041</td>\n",
       "      <td>-18.140713</td>\n",
       "    </tr>\n",
       "    <tr>\n",
       "      <th>8</th>\n",
       "      <td>264.793115</td>\n",
       "      <td>-0.995874</td>\n",
       "      <td>-0.090752</td>\n",
       "      <td>10.973541</td>\n",
       "    </tr>\n",
       "    <tr>\n",
       "      <th>9</th>\n",
       "      <td>80.262016</td>\n",
       "      <td>0.985592</td>\n",
       "      <td>0.169143</td>\n",
       "      <td>5.826979</td>\n",
       "    </tr>\n",
       "    <tr>\n",
       "      <th>10</th>\n",
       "      <td>304.483704</td>\n",
       "      <td>-0.824287</td>\n",
       "      <td>0.566172</td>\n",
       "      <td>-1.455896</td>\n",
       "    </tr>\n",
       "    <tr>\n",
       "      <th>11</th>\n",
       "      <td>196.451760</td>\n",
       "      <td>-0.283208</td>\n",
       "      <td>-0.959059</td>\n",
       "      <td>0.295298</td>\n",
       "    </tr>\n",
       "    <tr>\n",
       "      <th>12</th>\n",
       "      <td>181.387987</td>\n",
       "      <td>-0.024223</td>\n",
       "      <td>-0.999707</td>\n",
       "      <td>0.024230</td>\n",
       "    </tr>\n",
       "    <tr>\n",
       "      <th>13</th>\n",
       "      <td>30.862153</td>\n",
       "      <td>0.512974</td>\n",
       "      <td>0.858404</td>\n",
       "      <td>0.597591</td>\n",
       "    </tr>\n",
       "  </tbody>\n",
       "</table>\n",
       "</div>"
      ],
      "text/plain": [
       "    Angle (Degrees)      Sine    Cosine    Tangent\n",
       "0        215.725145 -0.583898 -0.811827   0.719239\n",
       "1        131.197814  0.752440 -0.658661  -1.142379\n",
       "2        245.415949 -0.909352 -0.416028   2.185797\n",
       "3        203.388331 -0.396961 -0.917835   0.432497\n",
       "4        243.669397 -0.896250 -0.443550   2.020628\n",
       "5         86.756457  0.998398  0.056580  17.645693\n",
       "6        261.095879 -0.987949 -0.154781   6.382863\n",
       "7        273.155215 -0.998484  0.055041 -18.140713\n",
       "8        264.793115 -0.995874 -0.090752  10.973541\n",
       "9         80.262016  0.985592  0.169143   5.826979\n",
       "10       304.483704 -0.824287  0.566172  -1.455896\n",
       "11       196.451760 -0.283208 -0.959059   0.295298\n",
       "12       181.387987 -0.024223 -0.999707   0.024230\n",
       "13        30.862153  0.512974  0.858404   0.597591"
      ]
     },
     "execution_count": 23,
     "metadata": {},
     "output_type": "execute_result"
    }
   ],
   "source": [
    "#Reading excels with a file pointer\n",
    "\n",
    "xls=pd.ExcelFile(\"Values.xls\")\n",
    "trig_values=xls.parse('Sheet1', index_col=None, na_values=['NA'])\n",
    "trig_values"
   ]
  },
  {
   "cell_type": "markdown",
   "metadata": {},
   "source": [
    "<h4>4. Reading unstructured file formats, such as image files<h4>"
   ]
  },
  {
   "cell_type": "code",
   "execution_count": 24,
   "metadata": {},
   "outputs": [
    {
     "data": {
      "image/png": "[encoded data removed]",
      "text/plain": [
       "<Figure size 432x288 with 1 Axes>"
      ]
     },
     "metadata": {},
     "output_type": "display_data"
    }
   ],
   "source": [
    "# Reading the image of the dog from Wikipedia\n",
    "\n",
    "from skimage.io import imread\n",
    "from skimage.transform import resize\n",
    "from matplotlib import pyplot as plt\n",
    "import matplotlib.cm as cm\n",
    "\n",
    "example_file = (\"https://upload.wikimedia.org/\"+ \"wikipedia/commons/7/7d/Dog_face.png\")\n",
    "image = imread(example_file, as_grey=True)\n",
    "plt.imshow(image, cmap=cm.gray)\n",
    "plt.show()"
   ]
  },
  {
   "cell_type": "code",
   "execution_count": 25,
   "metadata": {},
   "outputs": [
    {
     "name": "stdout",
     "output_type": "stream",
     "text": [
      "data type: <class 'numpy.ndarray'>, shape: (90, 90)\n"
     ]
    }
   ],
   "source": [
    "print(\"data type: %s, shape: %s\" % (type(image), image.shape))"
   ]
  },
  {
   "cell_type": "code",
   "execution_count": 26,
   "metadata": {},
   "outputs": [
    {
     "data": {
      "image/png": "[encoded data removed]",
      "text/plain": [
       "<Figure size 432x288 with 1 Axes>"
      ]
     },
     "metadata": {},
     "output_type": "display_data"
    }
   ],
   "source": [
    "image_cropped=image[5:70, 0:70]\n",
    "plt.imshow(image_cropped, cmap=cm.gray)\n",
    "plt.show()"
   ]
  },
  {
   "cell_type": "code",
   "execution_count": 27,
   "metadata": {},
   "outputs": [
    {
     "name": "stdout",
     "output_type": "stream",
     "text": [
      "data type: <class 'numpy.ndarray'>, shape: (30, 30)\n"
     ]
    },
    {
     "data": {
      "image/png": "[encoded data removed]",
      "text/plain": [
       "<Figure size 432x288 with 1 Axes>"
      ]
     },
     "metadata": {},
     "output_type": "display_data"
    }
   ],
   "source": [
    "image_smaller = resize(image, (30,30), mode='symmetric')\n",
    "plt.imshow(image_smaller, cmap=cm.gray)\n",
    "print(\"data type: %s, shape: %s\" % (type(image_smaller), image_smaller.shape))"
   ]
  },
  {
   "cell_type": "markdown",
   "metadata": {},
   "source": [
    "<h4>5. Reading a XML file<h4>"
   ]
  },
  {
   "cell_type": "code",
   "execution_count": 28,
   "metadata": {},
   "outputs": [
    {
     "data": {
      "text/html": [
       "<div>\n",
       "<style scoped>\n",
       "    .dataframe tbody tr th:only-of-type {\n",
       "        vertical-align: middle;\n",
       "    }\n",
       "\n",
       "    .dataframe tbody tr th {\n",
       "        vertical-align: top;\n",
       "    }\n",
       "\n",
       "    .dataframe thead th {\n",
       "        text-align: right;\n",
       "    }\n",
       "</style>\n",
       "<table border=\"1\" class=\"dataframe\">\n",
       "  <thead>\n",
       "    <tr style=\"text-align: right;\">\n",
       "      <th></th>\n",
       "      <th>Number</th>\n",
       "      <th>String</th>\n",
       "      <th>Boolean</th>\n",
       "    </tr>\n",
       "  </thead>\n",
       "  <tbody>\n",
       "    <tr>\n",
       "      <th>0</th>\n",
       "      <td>1</td>\n",
       "      <td>First</td>\n",
       "      <td>True</td>\n",
       "    </tr>\n",
       "    <tr>\n",
       "      <th>1</th>\n",
       "      <td>2</td>\n",
       "      <td>Second</td>\n",
       "      <td>False</td>\n",
       "    </tr>\n",
       "    <tr>\n",
       "      <th>2</th>\n",
       "      <td>3</td>\n",
       "      <td>Third</td>\n",
       "      <td>True</td>\n",
       "    </tr>\n",
       "    <tr>\n",
       "      <th>3</th>\n",
       "      <td>4</td>\n",
       "      <td>Fourth</td>\n",
       "      <td>False</td>\n",
       "    </tr>\n",
       "  </tbody>\n",
       "</table>\n",
       "</div>"
      ],
      "text/plain": [
       "  Number  String Boolean\n",
       "0      1   First    True\n",
       "1      2  Second   False\n",
       "2      3   Third    True\n",
       "3      4  Fourth   False"
      ]
     },
     "execution_count": 28,
     "metadata": {},
     "output_type": "execute_result"
    }
   ],
   "source": [
    "from lxml import objectify as oj\n",
    "import pandas as pd\n",
    "\n",
    "xml = oj.parse(open('XMLData.xml'))\n",
    "root=xml.getroot()\n",
    "\n",
    "df=pd.DataFrame(columns=('Number', 'String', 'Boolean'))\n",
    "\n",
    "for i in range(0,4):\n",
    "    obj = root.getchildren()[i].getchildren()\n",
    "    row = dict(zip(['Number', 'String', 'Boolean'], \n",
    "                   [obj[0].text, obj[1].text, \n",
    "                    obj[2].text]))\n",
    "    row_s = pd.Series(row)\n",
    "    row_s.name = i\n",
    "    df = df.append(row_s)\n",
    "    \n",
    "df"
   ]
  },
  {
   "cell_type": "code",
   "execution_count": null,
   "metadata": {},
   "outputs": [],
   "source": []
  },
  {
   "cell_type": "code",
   "execution_count": null,
   "metadata": {},
   "outputs": [],
   "source": []
  },
  {
   "cell_type": "code",
   "execution_count": null,
   "metadata": {},
   "outputs": [],
   "source": []
  }
 ],
 "metadata": {
  "kernelspec": {
   "display_name": "Python 3",
   "language": "python",
   "name": "python3"
  },
  "language_info": {
   "codemirror_mode": {
    "name": "ipython",
    "version": 3
   },
   "file_extension": ".py",
   "mimetype": "text/x-python",
   "name": "python",
   "nbconvert_exporter": "python",
   "pygments_lexer": "ipython3",
   "version": "3.6.5"
  }
 },
 "nbformat": 4,
 "nbformat_minor": 2
}
