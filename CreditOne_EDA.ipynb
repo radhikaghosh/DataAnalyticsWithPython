{
 "cells": [
  {
   "cell_type": "markdown",
   "metadata": {},
   "source": [
    "# Exploratory Data Analysis of Credit One data"
   ]
  },
  {
   "cell_type": "code",
   "execution_count": 40,
   "metadata": {},
   "outputs": [],
   "source": [
    "#import necessary packages\n",
    "import numpy as np\n",
    "import pandas as pd\n",
    "from pandas import Series, DataFrame\n",
    "import matplotlib as mpl\n",
    "import matplotlib.pyplot as plt\n",
    "import seaborn as sns \n",
    "%matplotlib inline"
   ]
  },
  {
   "cell_type": "code",
   "execution_count": 2,
   "metadata": {},
   "outputs": [],
   "source": [
    "#read the cleaned data set\n",
    "creditOne = pd.read_csv('creditOne.csv')"
   ]
  },
  {
   "cell_type": "code",
   "execution_count": 4,
   "metadata": {},
   "outputs": [
    {
     "name": "stdout",
     "output_type": "stream",
     "text": [
      "Index(['ID', 'LIMIT_BAL', 'SEX', 'EDUCATION', 'MARRIAGE', 'AGE',\n",
      "       'REPAY_STATUS_SEPT', 'REPAY_STATUS_AUGUST', 'REPAY_STATUS_JULY',\n",
      "       'REPAY_STATUS_JUNE', 'REPAY_STATUS_MAY', 'REPAY_STATUS_APRIL',\n",
      "       'BILL_AMOUNT_SEPT', 'BILL_AMOUNT_AUGUST', 'BILL_AMOUNT_JULY',\n",
      "       'BILL_AMOUNT_JUNE', 'BILL_AMOUNT_MAY', 'BILL_AMOUNT_APRIL',\n",
      "       'AMOUNT_PAID_SEPT', 'AMOUNT_PAID_AUGUST', 'AMOUNT_PAID_JULY',\n",
      "       'AMOUNT_PAID_JUNE', 'AMOUNT_PAID_MAY', 'AMOUNT_PAID_APRIL', 'DEFAULT'],\n",
      "      dtype='object')\n"
     ]
    }
   ],
   "source": [
    "header = creditOne.dtypes.index\n",
    "print(header)"
   ]
  },
  {
   "cell_type": "code",
   "execution_count": 8,
   "metadata": {},
   "outputs": [
    {
     "name": "stdout",
     "output_type": "stream",
     "text": [
      "<class 'pandas.core.frame.DataFrame'>\n",
      "RangeIndex: 30000 entries, 0 to 29999\n",
      "Data columns (total 25 columns):\n",
      "ID                     30000 non-null int64\n",
      "LIMIT_BAL              30000 non-null int64\n",
      "SEX                    30000 non-null int64\n",
      "EDUCATION              30000 non-null int64\n",
      "MARRIAGE               30000 non-null int64\n",
      "AGE                    30000 non-null int64\n",
      "REPAY_STATUS_SEPT      30000 non-null int64\n",
      "REPAY_STATUS_AUGUST    30000 non-null int64\n",
      "REPAY_STATUS_JULY      30000 non-null int64\n",
      "REPAY_STATUS_JUNE      30000 non-null int64\n",
      "REPAY_STATUS_MAY       30000 non-null int64\n",
      "REPAY_STATUS_APRIL     30000 non-null int64\n",
      "BILL_AMOUNT_SEPT       30000 non-null int64\n",
      "BILL_AMOUNT_AUGUST     30000 non-null int64\n",
      "BILL_AMOUNT_JULY       30000 non-null int64\n",
      "BILL_AMOUNT_JUNE       30000 non-null int64\n",
      "BILL_AMOUNT_MAY        30000 non-null int64\n",
      "BILL_AMOUNT_APRIL      30000 non-null int64\n",
      "AMOUNT_PAID_SEPT       30000 non-null int64\n",
      "AMOUNT_PAID_AUGUST     30000 non-null int64\n",
      "AMOUNT_PAID_JULY       30000 non-null int64\n",
      "AMOUNT_PAID_JUNE       30000 non-null int64\n",
      "AMOUNT_PAID_MAY        30000 non-null int64\n",
      "AMOUNT_PAID_APRIL      30000 non-null int64\n",
      "DEFAULT                30000 non-null int64\n",
      "dtypes: int64(25)\n",
      "memory usage: 5.7 MB\n"
     ]
    }
   ],
   "source": [
    "creditOne.info()"
   ]
  },
  {
   "cell_type": "code",
   "execution_count": 9,
   "metadata": {},
   "outputs": [
    {
     "data": {
      "text/html": [
       "<div>\n",
       "<style scoped>\n",
       "    .dataframe tbody tr th:only-of-type {\n",
       "        vertical-align: middle;\n",
       "    }\n",
       "\n",
       "    .dataframe tbody tr th {\n",
       "        vertical-align: top;\n",
       "    }\n",
       "\n",
       "    .dataframe thead th {\n",
       "        text-align: right;\n",
       "    }\n",
       "</style>\n",
       "<table border=\"1\" class=\"dataframe\">\n",
       "  <thead>\n",
       "    <tr style=\"text-align: right;\">\n",
       "      <th></th>\n",
       "      <th>ID</th>\n",
       "      <th>LIMIT_BAL</th>\n",
       "      <th>SEX</th>\n",
       "      <th>EDUCATION</th>\n",
       "      <th>MARRIAGE</th>\n",
       "      <th>AGE</th>\n",
       "      <th>REPAY_STATUS_SEPT</th>\n",
       "      <th>REPAY_STATUS_AUGUST</th>\n",
       "      <th>REPAY_STATUS_JULY</th>\n",
       "      <th>REPAY_STATUS_JUNE</th>\n",
       "      <th>...</th>\n",
       "      <th>BILL_AMOUNT_JUNE</th>\n",
       "      <th>BILL_AMOUNT_MAY</th>\n",
       "      <th>BILL_AMOUNT_APRIL</th>\n",
       "      <th>AMOUNT_PAID_SEPT</th>\n",
       "      <th>AMOUNT_PAID_AUGUST</th>\n",
       "      <th>AMOUNT_PAID_JULY</th>\n",
       "      <th>AMOUNT_PAID_JUNE</th>\n",
       "      <th>AMOUNT_PAID_MAY</th>\n",
       "      <th>AMOUNT_PAID_APRIL</th>\n",
       "      <th>DEFAULT</th>\n",
       "    </tr>\n",
       "  </thead>\n",
       "  <tbody>\n",
       "    <tr>\n",
       "      <th>count</th>\n",
       "      <td>30000.000000</td>\n",
       "      <td>30000.000000</td>\n",
       "      <td>30000.000000</td>\n",
       "      <td>30000.000000</td>\n",
       "      <td>30000.000000</td>\n",
       "      <td>30000.000000</td>\n",
       "      <td>30000.000000</td>\n",
       "      <td>30000.000000</td>\n",
       "      <td>30000.000000</td>\n",
       "      <td>30000.000000</td>\n",
       "      <td>...</td>\n",
       "      <td>30000.000000</td>\n",
       "      <td>30000.000000</td>\n",
       "      <td>30000.000000</td>\n",
       "      <td>30000.000000</td>\n",
       "      <td>3.000000e+04</td>\n",
       "      <td>30000.00000</td>\n",
       "      <td>30000.000000</td>\n",
       "      <td>30000.000000</td>\n",
       "      <td>30000.000000</td>\n",
       "      <td>30000.000000</td>\n",
       "    </tr>\n",
       "    <tr>\n",
       "      <th>mean</th>\n",
       "      <td>15000.500000</td>\n",
       "      <td>167484.322667</td>\n",
       "      <td>1.603733</td>\n",
       "      <td>1.853133</td>\n",
       "      <td>1.551867</td>\n",
       "      <td>35.485500</td>\n",
       "      <td>-0.016700</td>\n",
       "      <td>-0.133767</td>\n",
       "      <td>-0.166200</td>\n",
       "      <td>-0.220667</td>\n",
       "      <td>...</td>\n",
       "      <td>43262.948967</td>\n",
       "      <td>40311.400967</td>\n",
       "      <td>38871.760400</td>\n",
       "      <td>5663.580500</td>\n",
       "      <td>5.921163e+03</td>\n",
       "      <td>5225.68150</td>\n",
       "      <td>4826.076867</td>\n",
       "      <td>4799.387633</td>\n",
       "      <td>5215.502567</td>\n",
       "      <td>0.221200</td>\n",
       "    </tr>\n",
       "    <tr>\n",
       "      <th>std</th>\n",
       "      <td>8660.398374</td>\n",
       "      <td>129747.661567</td>\n",
       "      <td>0.489129</td>\n",
       "      <td>0.790349</td>\n",
       "      <td>0.521970</td>\n",
       "      <td>9.217904</td>\n",
       "      <td>1.123802</td>\n",
       "      <td>1.197186</td>\n",
       "      <td>1.196868</td>\n",
       "      <td>1.169139</td>\n",
       "      <td>...</td>\n",
       "      <td>64332.856134</td>\n",
       "      <td>60797.155770</td>\n",
       "      <td>59554.107537</td>\n",
       "      <td>16563.280354</td>\n",
       "      <td>2.304087e+04</td>\n",
       "      <td>17606.96147</td>\n",
       "      <td>15666.159744</td>\n",
       "      <td>15278.305679</td>\n",
       "      <td>17777.465775</td>\n",
       "      <td>0.415062</td>\n",
       "    </tr>\n",
       "    <tr>\n",
       "      <th>min</th>\n",
       "      <td>1.000000</td>\n",
       "      <td>10000.000000</td>\n",
       "      <td>1.000000</td>\n",
       "      <td>0.000000</td>\n",
       "      <td>0.000000</td>\n",
       "      <td>21.000000</td>\n",
       "      <td>-2.000000</td>\n",
       "      <td>-2.000000</td>\n",
       "      <td>-2.000000</td>\n",
       "      <td>-2.000000</td>\n",
       "      <td>...</td>\n",
       "      <td>-170000.000000</td>\n",
       "      <td>-81334.000000</td>\n",
       "      <td>-339603.000000</td>\n",
       "      <td>0.000000</td>\n",
       "      <td>0.000000e+00</td>\n",
       "      <td>0.00000</td>\n",
       "      <td>0.000000</td>\n",
       "      <td>0.000000</td>\n",
       "      <td>0.000000</td>\n",
       "      <td>0.000000</td>\n",
       "    </tr>\n",
       "    <tr>\n",
       "      <th>25%</th>\n",
       "      <td>7500.750000</td>\n",
       "      <td>50000.000000</td>\n",
       "      <td>1.000000</td>\n",
       "      <td>1.000000</td>\n",
       "      <td>1.000000</td>\n",
       "      <td>28.000000</td>\n",
       "      <td>-1.000000</td>\n",
       "      <td>-1.000000</td>\n",
       "      <td>-1.000000</td>\n",
       "      <td>-1.000000</td>\n",
       "      <td>...</td>\n",
       "      <td>2326.750000</td>\n",
       "      <td>1763.000000</td>\n",
       "      <td>1256.000000</td>\n",
       "      <td>1000.000000</td>\n",
       "      <td>8.330000e+02</td>\n",
       "      <td>390.00000</td>\n",
       "      <td>296.000000</td>\n",
       "      <td>252.500000</td>\n",
       "      <td>117.750000</td>\n",
       "      <td>0.000000</td>\n",
       "    </tr>\n",
       "    <tr>\n",
       "      <th>50%</th>\n",
       "      <td>15000.500000</td>\n",
       "      <td>140000.000000</td>\n",
       "      <td>2.000000</td>\n",
       "      <td>2.000000</td>\n",
       "      <td>2.000000</td>\n",
       "      <td>34.000000</td>\n",
       "      <td>0.000000</td>\n",
       "      <td>0.000000</td>\n",
       "      <td>0.000000</td>\n",
       "      <td>0.000000</td>\n",
       "      <td>...</td>\n",
       "      <td>19052.000000</td>\n",
       "      <td>18104.500000</td>\n",
       "      <td>17071.000000</td>\n",
       "      <td>2100.000000</td>\n",
       "      <td>2.009000e+03</td>\n",
       "      <td>1800.00000</td>\n",
       "      <td>1500.000000</td>\n",
       "      <td>1500.000000</td>\n",
       "      <td>1500.000000</td>\n",
       "      <td>0.000000</td>\n",
       "    </tr>\n",
       "    <tr>\n",
       "      <th>75%</th>\n",
       "      <td>22500.250000</td>\n",
       "      <td>240000.000000</td>\n",
       "      <td>2.000000</td>\n",
       "      <td>2.000000</td>\n",
       "      <td>2.000000</td>\n",
       "      <td>41.000000</td>\n",
       "      <td>0.000000</td>\n",
       "      <td>0.000000</td>\n",
       "      <td>0.000000</td>\n",
       "      <td>0.000000</td>\n",
       "      <td>...</td>\n",
       "      <td>54506.000000</td>\n",
       "      <td>50190.500000</td>\n",
       "      <td>49198.250000</td>\n",
       "      <td>5006.000000</td>\n",
       "      <td>5.000000e+03</td>\n",
       "      <td>4505.00000</td>\n",
       "      <td>4013.250000</td>\n",
       "      <td>4031.500000</td>\n",
       "      <td>4000.000000</td>\n",
       "      <td>0.000000</td>\n",
       "    </tr>\n",
       "    <tr>\n",
       "      <th>max</th>\n",
       "      <td>30000.000000</td>\n",
       "      <td>1000000.000000</td>\n",
       "      <td>2.000000</td>\n",
       "      <td>6.000000</td>\n",
       "      <td>3.000000</td>\n",
       "      <td>79.000000</td>\n",
       "      <td>8.000000</td>\n",
       "      <td>8.000000</td>\n",
       "      <td>8.000000</td>\n",
       "      <td>8.000000</td>\n",
       "      <td>...</td>\n",
       "      <td>891586.000000</td>\n",
       "      <td>927171.000000</td>\n",
       "      <td>961664.000000</td>\n",
       "      <td>873552.000000</td>\n",
       "      <td>1.684259e+06</td>\n",
       "      <td>896040.00000</td>\n",
       "      <td>621000.000000</td>\n",
       "      <td>426529.000000</td>\n",
       "      <td>528666.000000</td>\n",
       "      <td>1.000000</td>\n",
       "    </tr>\n",
       "  </tbody>\n",
       "</table>\n",
       "<p>8 rows × 25 columns</p>\n",
       "</div>"
      ],
      "text/plain": [
       "                 ID       LIMIT_BAL           SEX     EDUCATION      MARRIAGE  \\\n",
       "count  30000.000000    30000.000000  30000.000000  30000.000000  30000.000000   \n",
       "mean   15000.500000   167484.322667      1.603733      1.853133      1.551867   \n",
       "std     8660.398374   129747.661567      0.489129      0.790349      0.521970   \n",
       "min        1.000000    10000.000000      1.000000      0.000000      0.000000   \n",
       "25%     7500.750000    50000.000000      1.000000      1.000000      1.000000   \n",
       "50%    15000.500000   140000.000000      2.000000      2.000000      2.000000   \n",
       "75%    22500.250000   240000.000000      2.000000      2.000000      2.000000   \n",
       "max    30000.000000  1000000.000000      2.000000      6.000000      3.000000   \n",
       "\n",
       "                AGE  REPAY_STATUS_SEPT  REPAY_STATUS_AUGUST  \\\n",
       "count  30000.000000       30000.000000         30000.000000   \n",
       "mean      35.485500          -0.016700            -0.133767   \n",
       "std        9.217904           1.123802             1.197186   \n",
       "min       21.000000          -2.000000            -2.000000   \n",
       "25%       28.000000          -1.000000            -1.000000   \n",
       "50%       34.000000           0.000000             0.000000   \n",
       "75%       41.000000           0.000000             0.000000   \n",
       "max       79.000000           8.000000             8.000000   \n",
       "\n",
       "       REPAY_STATUS_JULY  REPAY_STATUS_JUNE      ...       BILL_AMOUNT_JUNE  \\\n",
       "count       30000.000000       30000.000000      ...           30000.000000   \n",
       "mean           -0.166200          -0.220667      ...           43262.948967   \n",
       "std             1.196868           1.169139      ...           64332.856134   \n",
       "min            -2.000000          -2.000000      ...         -170000.000000   \n",
       "25%            -1.000000          -1.000000      ...            2326.750000   \n",
       "50%             0.000000           0.000000      ...           19052.000000   \n",
       "75%             0.000000           0.000000      ...           54506.000000   \n",
       "max             8.000000           8.000000      ...          891586.000000   \n",
       "\n",
       "       BILL_AMOUNT_MAY  BILL_AMOUNT_APRIL  AMOUNT_PAID_SEPT  \\\n",
       "count     30000.000000       30000.000000      30000.000000   \n",
       "mean      40311.400967       38871.760400       5663.580500   \n",
       "std       60797.155770       59554.107537      16563.280354   \n",
       "min      -81334.000000     -339603.000000          0.000000   \n",
       "25%        1763.000000        1256.000000       1000.000000   \n",
       "50%       18104.500000       17071.000000       2100.000000   \n",
       "75%       50190.500000       49198.250000       5006.000000   \n",
       "max      927171.000000      961664.000000     873552.000000   \n",
       "\n",
       "       AMOUNT_PAID_AUGUST  AMOUNT_PAID_JULY  AMOUNT_PAID_JUNE  \\\n",
       "count        3.000000e+04       30000.00000      30000.000000   \n",
       "mean         5.921163e+03        5225.68150       4826.076867   \n",
       "std          2.304087e+04       17606.96147      15666.159744   \n",
       "min          0.000000e+00           0.00000          0.000000   \n",
       "25%          8.330000e+02         390.00000        296.000000   \n",
       "50%          2.009000e+03        1800.00000       1500.000000   \n",
       "75%          5.000000e+03        4505.00000       4013.250000   \n",
       "max          1.684259e+06      896040.00000     621000.000000   \n",
       "\n",
       "       AMOUNT_PAID_MAY  AMOUNT_PAID_APRIL       DEFAULT  \n",
       "count     30000.000000       30000.000000  30000.000000  \n",
       "mean       4799.387633        5215.502567      0.221200  \n",
       "std       15278.305679       17777.465775      0.415062  \n",
       "min           0.000000           0.000000      0.000000  \n",
       "25%         252.500000         117.750000      0.000000  \n",
       "50%        1500.000000        1500.000000      0.000000  \n",
       "75%        4031.500000        4000.000000      0.000000  \n",
       "max      426529.000000      528666.000000      1.000000  \n",
       "\n",
       "[8 rows x 25 columns]"
      ]
     },
     "execution_count": 9,
     "metadata": {},
     "output_type": "execute_result"
    }
   ],
   "source": [
    "#View Summary Statistics about the data\n",
    "creditOne.describe()"
   ]
  },
  {
   "cell_type": "code",
   "execution_count": 11,
   "metadata": {},
   "outputs": [
    {
     "data": {
      "text/html": [
       "<div>\n",
       "<style scoped>\n",
       "    .dataframe tbody tr th:only-of-type {\n",
       "        vertical-align: middle;\n",
       "    }\n",
       "\n",
       "    .dataframe tbody tr th {\n",
       "        vertical-align: top;\n",
       "    }\n",
       "\n",
       "    .dataframe thead th {\n",
       "        text-align: right;\n",
       "    }\n",
       "</style>\n",
       "<table border=\"1\" class=\"dataframe\">\n",
       "  <thead>\n",
       "    <tr style=\"text-align: right;\">\n",
       "      <th></th>\n",
       "      <th>ID</th>\n",
       "      <th>LIMIT_BAL</th>\n",
       "      <th>SEX</th>\n",
       "      <th>EDUCATION</th>\n",
       "      <th>MARRIAGE</th>\n",
       "      <th>AGE</th>\n",
       "      <th>REPAY_STATUS_SEPT</th>\n",
       "      <th>REPAY_STATUS_AUGUST</th>\n",
       "      <th>REPAY_STATUS_JULY</th>\n",
       "      <th>REPAY_STATUS_JUNE</th>\n",
       "      <th>...</th>\n",
       "      <th>BILL_AMOUNT_JUNE</th>\n",
       "      <th>BILL_AMOUNT_MAY</th>\n",
       "      <th>BILL_AMOUNT_APRIL</th>\n",
       "      <th>AMOUNT_PAID_SEPT</th>\n",
       "      <th>AMOUNT_PAID_AUGUST</th>\n",
       "      <th>AMOUNT_PAID_JULY</th>\n",
       "      <th>AMOUNT_PAID_JUNE</th>\n",
       "      <th>AMOUNT_PAID_MAY</th>\n",
       "      <th>AMOUNT_PAID_APRIL</th>\n",
       "      <th>DEFAULT</th>\n",
       "    </tr>\n",
       "  </thead>\n",
       "  <tbody>\n",
       "    <tr>\n",
       "      <th>0</th>\n",
       "      <td>1</td>\n",
       "      <td>20000</td>\n",
       "      <td>2</td>\n",
       "      <td>2</td>\n",
       "      <td>1</td>\n",
       "      <td>24</td>\n",
       "      <td>2</td>\n",
       "      <td>2</td>\n",
       "      <td>-1</td>\n",
       "      <td>-1</td>\n",
       "      <td>...</td>\n",
       "      <td>0</td>\n",
       "      <td>0</td>\n",
       "      <td>0</td>\n",
       "      <td>0</td>\n",
       "      <td>689</td>\n",
       "      <td>0</td>\n",
       "      <td>0</td>\n",
       "      <td>0</td>\n",
       "      <td>0</td>\n",
       "      <td>1</td>\n",
       "    </tr>\n",
       "    <tr>\n",
       "      <th>1</th>\n",
       "      <td>2</td>\n",
       "      <td>120000</td>\n",
       "      <td>2</td>\n",
       "      <td>2</td>\n",
       "      <td>2</td>\n",
       "      <td>26</td>\n",
       "      <td>-1</td>\n",
       "      <td>2</td>\n",
       "      <td>0</td>\n",
       "      <td>0</td>\n",
       "      <td>...</td>\n",
       "      <td>3272</td>\n",
       "      <td>3455</td>\n",
       "      <td>3261</td>\n",
       "      <td>0</td>\n",
       "      <td>1000</td>\n",
       "      <td>1000</td>\n",
       "      <td>1000</td>\n",
       "      <td>0</td>\n",
       "      <td>2000</td>\n",
       "      <td>1</td>\n",
       "    </tr>\n",
       "    <tr>\n",
       "      <th>2</th>\n",
       "      <td>3</td>\n",
       "      <td>90000</td>\n",
       "      <td>2</td>\n",
       "      <td>2</td>\n",
       "      <td>2</td>\n",
       "      <td>34</td>\n",
       "      <td>0</td>\n",
       "      <td>0</td>\n",
       "      <td>0</td>\n",
       "      <td>0</td>\n",
       "      <td>...</td>\n",
       "      <td>14331</td>\n",
       "      <td>14948</td>\n",
       "      <td>15549</td>\n",
       "      <td>1518</td>\n",
       "      <td>1500</td>\n",
       "      <td>1000</td>\n",
       "      <td>1000</td>\n",
       "      <td>1000</td>\n",
       "      <td>5000</td>\n",
       "      <td>0</td>\n",
       "    </tr>\n",
       "    <tr>\n",
       "      <th>3</th>\n",
       "      <td>4</td>\n",
       "      <td>50000</td>\n",
       "      <td>2</td>\n",
       "      <td>2</td>\n",
       "      <td>1</td>\n",
       "      <td>37</td>\n",
       "      <td>0</td>\n",
       "      <td>0</td>\n",
       "      <td>0</td>\n",
       "      <td>0</td>\n",
       "      <td>...</td>\n",
       "      <td>28314</td>\n",
       "      <td>28959</td>\n",
       "      <td>29547</td>\n",
       "      <td>2000</td>\n",
       "      <td>2019</td>\n",
       "      <td>1200</td>\n",
       "      <td>1100</td>\n",
       "      <td>1069</td>\n",
       "      <td>1000</td>\n",
       "      <td>0</td>\n",
       "    </tr>\n",
       "    <tr>\n",
       "      <th>4</th>\n",
       "      <td>5</td>\n",
       "      <td>50000</td>\n",
       "      <td>1</td>\n",
       "      <td>2</td>\n",
       "      <td>1</td>\n",
       "      <td>57</td>\n",
       "      <td>-1</td>\n",
       "      <td>0</td>\n",
       "      <td>-1</td>\n",
       "      <td>0</td>\n",
       "      <td>...</td>\n",
       "      <td>20940</td>\n",
       "      <td>19146</td>\n",
       "      <td>19131</td>\n",
       "      <td>2000</td>\n",
       "      <td>36681</td>\n",
       "      <td>10000</td>\n",
       "      <td>9000</td>\n",
       "      <td>689</td>\n",
       "      <td>679</td>\n",
       "      <td>0</td>\n",
       "    </tr>\n",
       "  </tbody>\n",
       "</table>\n",
       "<p>5 rows × 25 columns</p>\n",
       "</div>"
      ],
      "text/plain": [
       "   ID  LIMIT_BAL  SEX  EDUCATION  MARRIAGE  AGE  REPAY_STATUS_SEPT  \\\n",
       "0   1      20000    2          2         1   24                  2   \n",
       "1   2     120000    2          2         2   26                 -1   \n",
       "2   3      90000    2          2         2   34                  0   \n",
       "3   4      50000    2          2         1   37                  0   \n",
       "4   5      50000    1          2         1   57                 -1   \n",
       "\n",
       "   REPAY_STATUS_AUGUST  REPAY_STATUS_JULY  REPAY_STATUS_JUNE   ...     \\\n",
       "0                    2                 -1                 -1   ...      \n",
       "1                    2                  0                  0   ...      \n",
       "2                    0                  0                  0   ...      \n",
       "3                    0                  0                  0   ...      \n",
       "4                    0                 -1                  0   ...      \n",
       "\n",
       "   BILL_AMOUNT_JUNE  BILL_AMOUNT_MAY  BILL_AMOUNT_APRIL  AMOUNT_PAID_SEPT  \\\n",
       "0                 0                0                  0                 0   \n",
       "1              3272             3455               3261                 0   \n",
       "2             14331            14948              15549              1518   \n",
       "3             28314            28959              29547              2000   \n",
       "4             20940            19146              19131              2000   \n",
       "\n",
       "   AMOUNT_PAID_AUGUST  AMOUNT_PAID_JULY  AMOUNT_PAID_JUNE  AMOUNT_PAID_MAY  \\\n",
       "0                 689                 0                 0                0   \n",
       "1                1000              1000              1000                0   \n",
       "2                1500              1000              1000             1000   \n",
       "3                2019              1200              1100             1069   \n",
       "4               36681             10000              9000              689   \n",
       "\n",
       "   AMOUNT_PAID_APRIL  DEFAULT  \n",
       "0                  0        1  \n",
       "1               2000        1  \n",
       "2               5000        0  \n",
       "3               1000        0  \n",
       "4                679        0  \n",
       "\n",
       "[5 rows x 25 columns]"
      ]
     },
     "execution_count": 11,
     "metadata": {},
     "output_type": "execute_result"
    }
   ],
   "source": [
    "#View top 5 records\n",
    "creditOne.head()"
   ]
  },
  {
   "cell_type": "markdown",
   "metadata": {},
   "source": [
    "<H3>The \"Default\" Status</h3>"
   ]
  },
  {
   "cell_type": "code",
   "execution_count": 12,
   "metadata": {},
   "outputs": [
    {
     "data": {
      "text/plain": [
       "DEFAULT\n",
       "0    23364\n",
       "1     6636\n",
       "Name: DEFAULT, dtype: int64"
      ]
     },
     "execution_count": 12,
     "metadata": {},
     "output_type": "execute_result"
    }
   ],
   "source": [
    "#Get count of people who have Defaulted (DEFAULT = 1) vs those who did not ( DEFAULT = 0)\n",
    "creditOne.groupby('DEFAULT')['DEFAULT'].count()"
   ]
  },
  {
   "cell_type": "code",
   "execution_count": 13,
   "metadata": {},
   "outputs": [
    {
     "data": {
      "text/plain": [
       "<seaborn.axisgrid.FacetGrid at 0x109d02a58>"
      ]
     },
     "execution_count": 13,
     "metadata": {},
     "output_type": "execute_result"
    },
    {
     "data": {
      "image/png": "[encoded data removed]",
      "text/plain": [
       "<Figure size 432x288 with 1 Axes>"
      ]
     },
     "metadata": {},
     "output_type": "display_data"
    }
   ],
   "source": [
    "# Visualize the count of defaults\n",
    "fg = sns.factorplot('DEFAULT', data=creditOne, kind='count', aspect=1.5)\n",
    "fg.set_xlabels('DEFAULT STATUS')"
   ]
  },
  {
   "cell_type": "markdown",
   "metadata": {},
   "source": [
    "<h3>Create a subset of users with Default of 1 or Yes</h3>\n",
    "Create a subset dataset with just the users who defaulted so see how that compares with the overall dataset."
   ]
  },
  {
   "cell_type": "code",
   "execution_count": 46,
   "metadata": {},
   "outputs": [
    {
     "data": {
      "text/plain": [
       "(6636, 25)"
      ]
     },
     "execution_count": 46,
     "metadata": {},
     "output_type": "execute_result"
    }
   ],
   "source": [
    "creditDefault = creditOne[creditOne['DEFAULT']==1]\n",
    "#get the number of records in the creditDefault data set\n",
    "creditDefault.shape"
   ]
  },
  {
   "cell_type": "markdown",
   "metadata": {},
   "source": [
    "<h3>Explore relationship between SEX and DEFAULT status</h3>"
   ]
  },
  {
   "cell_type": "code",
   "execution_count": 32,
   "metadata": {},
   "outputs": [
    {
     "data": {
      "text/plain": [
       "DEFAULT  SEX\n",
       "0        1       9015\n",
       "         2      14349\n",
       "1        1       2873\n",
       "         2       3763\n",
       "Name: SEX, dtype: int64"
      ]
     },
     "execution_count": 32,
     "metadata": {},
     "output_type": "execute_result"
    }
   ],
   "source": [
    "# Number of defaulters in each category by sex\n",
    "creditOne.groupby(['DEFAULT', 'SEX'])['SEX'].count()"
   ]
  },
  {
   "cell_type": "code",
   "execution_count": 18,
   "metadata": {
    "scrolled": true
   },
   "outputs": [
    {
     "data": {
      "text/plain": [
       "SEX\n",
       "1    11888\n",
       "2    18112\n",
       "Name: SEX, dtype: int64"
      ]
     },
     "execution_count": 18,
     "metadata": {},
     "output_type": "execute_result"
    }
   ],
   "source": [
    "# Group by Sex where (1 = male; 2 = female)\n",
    "creditOne.groupby('SEX')['SEX'].count()"
   ]
  },
  {
   "cell_type": "code",
   "execution_count": 19,
   "metadata": {},
   "outputs": [
    {
     "data": {
      "text/plain": [
       "SEX\n",
       "1    2873\n",
       "2    3763\n",
       "Name: SEX, dtype: int64"
      ]
     },
     "execution_count": 19,
     "metadata": {},
     "output_type": "execute_result"
    }
   ],
   "source": [
    "creditDefault.groupby('SEX')['SEX'].count()"
   ]
  },
  {
   "cell_type": "code",
   "execution_count": 34,
   "metadata": {},
   "outputs": [
    {
     "data": {
      "text/plain": [
       "<seaborn.axisgrid.FacetGrid at 0x1a127d9748>"
      ]
     },
     "execution_count": 34,
     "metadata": {},
     "output_type": "execute_result"
    },
    {
     "data": {
      "image/png": "[encoded data removed]",
      "text/plain": [
       "<Figure size 546.375x288 with 1 Axes>"
      ]
     },
     "metadata": {},
     "output_type": "display_data"
    }
   ],
   "source": [
    "# Using seaborn to plot DEFAULTERS and SEX\n",
    "g = sns.factorplot('DEFAULT', data=creditOne, hue='SEX', kind='count', aspect=1.75)\n",
    "g.set_xlabels('DEFAULTERS BY SEX')"
   ]
  },
  {
   "cell_type": "markdown",
   "metadata": {},
   "source": [
    "<b>At a cursory glance thus it looks like women are more likely to default than men. </b>"
   ]
  },
  {
   "cell_type": "markdown",
   "metadata": {},
   "source": [
    "<h3>Explore relationship between EDUCATION and DEFAULT status</h3>"
   ]
  },
  {
   "cell_type": "code",
   "execution_count": 12,
   "metadata": {},
   "outputs": [
    {
     "data": {
      "text/plain": [
       "EDUCATION\n",
       "0       14\n",
       "1    10585\n",
       "2    14030\n",
       "3     4917\n",
       "4      123\n",
       "5      280\n",
       "6       51\n",
       "Name: EDUCATION, dtype: int64"
      ]
     },
     "execution_count": 12,
     "metadata": {},
     "output_type": "execute_result"
    }
   ],
   "source": [
    "#Group by Education where (1 = graduate school; 2 = university; 3 = high school; 0, 4, 5, 6 = others)\n",
    "creditOne.groupby('EDUCATION')['EDUCATION'].count()"
   ]
  },
  {
   "cell_type": "code",
   "execution_count": 13,
   "metadata": {},
   "outputs": [
    {
     "data": {
      "text/plain": [
       "EDUCATION\n",
       "1    2036\n",
       "2    3330\n",
       "3    1237\n",
       "4       7\n",
       "5      18\n",
       "6       8\n",
       "Name: EDUCATION, dtype: int64"
      ]
     },
     "execution_count": 13,
     "metadata": {},
     "output_type": "execute_result"
    }
   ],
   "source": [
    "creditDefault.groupby('EDUCATION')['EDUCATION'].count()"
   ]
  },
  {
   "cell_type": "code",
   "execution_count": 30,
   "metadata": {},
   "outputs": [
    {
     "data": {
      "text/plain": [
       "<seaborn.axisgrid.FacetGrid at 0x1a125c9ba8>"
      ]
     },
     "execution_count": 30,
     "metadata": {},
     "output_type": "execute_result"
    },
    {
     "data": {
      "image/png": "[encoded data removed]",
      "text/plain": [
       "<Figure size 571.25x288 with 1 Axes>"
      ]
     },
     "metadata": {},
     "output_type": "display_data"
    }
   ],
   "source": [
    "# Again use saeborn to group by DEFAULT and EDUCATION\n",
    "g = sns.factorplot('DEFAULT', data=creditOne, hue='EDUCATION', kind='count', aspect=1.75)\n",
    "g.set_xlabels('DEFAULTERS BY EDUCATION')"
   ]
  },
  {
   "cell_type": "markdown",
   "metadata": {},
   "source": [
    "<b>The overall distribution of education appears to remain constant in the overall data set and the Defaulters data set.</b>"
   ]
  },
  {
   "cell_type": "markdown",
   "metadata": {},
   "source": [
    "<h3>Explore AGE</h3>"
   ]
  },
  {
   "cell_type": "code",
   "execution_count": 14,
   "metadata": {},
   "outputs": [
    {
     "data": {
      "text/plain": [
       "<seaborn.axisgrid.FacetGrid at 0x109f60e80>"
      ]
     },
     "execution_count": 14,
     "metadata": {},
     "output_type": "execute_result"
    },
    {
     "data": {
      "image/png": "[encoded data removed]",
      "text/plain": [
       "<Figure size 1440x288 with 1 Axes>"
      ]
     },
     "metadata": {},
     "output_type": "display_data"
    }
   ],
   "source": [
    "# View the age range using Seaborn in the whole CreditOne data\n",
    "fg = sns.factorplot('AGE', data=creditOne, kind='count', aspect=5)\n",
    "fg.set_xlabels('AGE')"
   ]
  },
  {
   "cell_type": "code",
   "execution_count": 15,
   "metadata": {},
   "outputs": [
    {
     "name": "stderr",
     "output_type": "stream",
     "text": [
      "/Users/radghosh/anaconda3/lib/python3.6/site-packages/matplotlib/axes/_axes.py:6462: UserWarning: The 'normed' kwarg is deprecated, and has been replaced by the 'density' kwarg.\n",
      "  warnings.warn(\"The 'normed' kwarg is deprecated, and has been \"\n"
     ]
    },
    {
     "data": {
      "text/plain": [
       "Text(0.5,1,\"Distribution of Customers' Ages\")"
      ]
     },
     "execution_count": 15,
     "metadata": {},
     "output_type": "execute_result"
    },
    {
     "data": {
      "image/png": "[encoded data removed]",
      "text/plain": [
       "<Figure size 432x288 with 1 Axes>"
      ]
     },
     "metadata": {},
     "output_type": "display_data"
    }
   ],
   "source": [
    "# Distribution of age, with an overlay of a density plot  \n",
    "age=creditOne['AGE'].dropna()\n",
    "age_dist = sns.distplot(age)\n",
    "age_dist.set_title(\"Distribution of Customers' Ages\")"
   ]
  },
  {
   "cell_type": "code",
   "execution_count": 16,
   "metadata": {},
   "outputs": [
    {
     "data": {
      "text/plain": [
       "<matplotlib.axes._subplots.AxesSubplot at 0x10b93eba8>"
      ]
     },
     "execution_count": 16,
     "metadata": {},
     "output_type": "execute_result"
    },
    {
     "data": {
      "image/png": "[encoded data removed]",
      "text/plain": [
       "<Figure size 432x288 with 1 Axes>"
      ]
     },
     "metadata": {},
     "output_type": "display_data"
    }
   ],
   "source": [
    "creditOne['AGE'].hist(bins=10)"
   ]
  },
  {
   "cell_type": "markdown",
   "metadata": {},
   "source": [
    "<b>The different plots all show that there are more individuals in the 25-35 age range in the overall data set than any other. </b>"
   ]
  },
  {
   "cell_type": "code",
   "execution_count": 17,
   "metadata": {
    "scrolled": true
   },
   "outputs": [
    {
     "data": {
      "text/plain": [
       "<seaborn.axisgrid.FacetGrid at 0x10b9d7dd8>"
      ]
     },
     "execution_count": 17,
     "metadata": {},
     "output_type": "execute_result"
    },
    {
     "data": {
      "image/png": "[encoded data removed]",
      "text/plain": [
       "<Figure size 1440x288 with 1 Axes>"
      ]
     },
     "metadata": {},
     "output_type": "display_data"
    }
   ],
   "source": [
    "# View the age range using Seaborn in the 'default' sub-dataset\n",
    "fg = sns.factorplot('AGE', data=creditDefault, kind='count', aspect=5)\n",
    "fg.set_xlabels('AGE')"
   ]
  },
  {
   "cell_type": "code",
   "execution_count": 18,
   "metadata": {},
   "outputs": [
    {
     "name": "stderr",
     "output_type": "stream",
     "text": [
      "/Users/radghosh/anaconda3/lib/python3.6/site-packages/matplotlib/axes/_axes.py:6462: UserWarning: The 'normed' kwarg is deprecated, and has been replaced by the 'density' kwarg.\n",
      "  warnings.warn(\"The 'normed' kwarg is deprecated, and has been \"\n"
     ]
    },
    {
     "data": {
      "text/plain": [
       "Text(0.5,1,\"Distribution of Customers' Ages\")"
      ]
     },
     "execution_count": 18,
     "metadata": {},
     "output_type": "execute_result"
    },
    {
     "data": {
      "image/png": "[encoded data removed]",
      "text/plain": [
       "<Figure size 432x288 with 1 Axes>"
      ]
     },
     "metadata": {},
     "output_type": "display_data"
    }
   ],
   "source": [
    "# Distribution of age, with an overlay of a density plot  \n",
    "ageDefault=creditDefault['AGE'].dropna()\n",
    "age_dist = sns.distplot(ageDefault)\n",
    "age_dist.set_title(\"Distribution of Customers' Ages\")"
   ]
  },
  {
   "cell_type": "markdown",
   "metadata": {},
   "source": [
    "<b>There doesn't look to be a significant difference in the age distribution in the Default data set either. Overall it appears that most of the CreditOne customers are young.<b>"
   ]
  },
  {
   "cell_type": "markdown",
   "metadata": {},
   "source": [
    "<h3>Explore LIMIT_BAL</h3>"
   ]
  },
  {
   "cell_type": "code",
   "execution_count": 28,
   "metadata": {},
   "outputs": [
    {
     "data": {
      "image/png": "[encoded data removed]",
      "text/plain": [
       "<Figure size 432x288 with 1 Axes>"
      ]
     },
     "metadata": {},
     "output_type": "display_data"
    }
   ],
   "source": [
    "#View the range of Balance Limits available to Credit One users\n",
    "A = creditOne['LIMIT_BAL']\n",
    "plt.boxplot(A,0,'gD')\n",
    "plt.show()"
   ]
  },
  {
   "cell_type": "code",
   "execution_count": 26,
   "metadata": {},
   "outputs": [
    {
     "name": "stderr",
     "output_type": "stream",
     "text": [
      "/Users/radghosh/anaconda3/lib/python3.6/site-packages/matplotlib/axes/_axes.py:6462: UserWarning: The 'normed' kwarg is deprecated, and has been replaced by the 'density' kwarg.\n",
      "  warnings.warn(\"The 'normed' kwarg is deprecated, and has been \"\n"
     ]
    },
    {
     "data": {
      "text/plain": [
       "Text(0.5,1,\"Distribution of Customers' Balance Limits\")"
      ]
     },
     "execution_count": 26,
     "metadata": {},
     "output_type": "execute_result"
    },
    {
     "data": {
      "image/png": "[encoded data removed]",
      "text/plain": [
       "<Figure size 432x288 with 1 Axes>"
      ]
     },
     "metadata": {},
     "output_type": "display_data"
    }
   ],
   "source": [
    "# Visualizing the Limit Balances in the OVERALL data set.\n",
    "balLimit=creditOne['LIMIT_BAL'].dropna()\n",
    "balLim_dist = sns.distplot(balLimit)\n",
    "balLim_dist.set_title(\"Distribution of Customers' Balance Limits\")"
   ]
  },
  {
   "cell_type": "code",
   "execution_count": 27,
   "metadata": {},
   "outputs": [
    {
     "name": "stderr",
     "output_type": "stream",
     "text": [
      "/Users/radghosh/anaconda3/lib/python3.6/site-packages/matplotlib/axes/_axes.py:6462: UserWarning: The 'normed' kwarg is deprecated, and has been replaced by the 'density' kwarg.\n",
      "  warnings.warn(\"The 'normed' kwarg is deprecated, and has been \"\n"
     ]
    },
    {
     "data": {
      "text/plain": [
       "Text(0.5,1,\"Distribution of Customers' Balance Limits\")"
      ]
     },
     "execution_count": 27,
     "metadata": {},
     "output_type": "execute_result"
    },
    {
     "data": {
      "image/png": "[encoded data removed]",
      "text/plain": [
       "<Figure size 432x288 with 1 Axes>"
      ]
     },
     "metadata": {},
     "output_type": "display_data"
    }
   ],
   "source": [
    "# Visualizing the Limit Balances in the \"Default\" data set.\n",
    "balLimitDefault=creditDefault['LIMIT_BAL'].dropna()\n",
    "balLim_dist = sns.distplot(balLimitDefault)\n",
    "balLim_dist.set_title(\"Distribution of Customers' Balance Limits\")"
   ]
  },
  {
   "cell_type": "markdown",
   "metadata": {},
   "source": [
    "<h3>Explore BILL AMOUNT SEPT</h3>"
   ]
  },
  {
   "cell_type": "code",
   "execution_count": 29,
   "metadata": {},
   "outputs": [
    {
     "name": "stderr",
     "output_type": "stream",
     "text": [
      "/Users/radghosh/anaconda3/lib/python3.6/site-packages/matplotlib/axes/_axes.py:6462: UserWarning: The 'normed' kwarg is deprecated, and has been replaced by the 'density' kwarg.\n",
      "  warnings.warn(\"The 'normed' kwarg is deprecated, and has been \"\n"
     ]
    },
    {
     "data": {
      "text/plain": [
       "Text(0.5,1,\"Distribution of Customers' Bill Amount due Sept.\")"
      ]
     },
     "execution_count": 29,
     "metadata": {},
     "output_type": "execute_result"
    },
    {
     "data": {
      "image/png": "[encoded data removed]",
      "text/plain": [
       "<Figure size 432x288 with 1 Axes>"
      ]
     },
     "metadata": {},
     "output_type": "display_data"
    }
   ],
   "source": [
    "billAmtSept=creditDefault['BILL_AMOUNT_SEPT'].dropna()\n",
    "billAmtSept_dist = sns.distplot(billAmtSept)\n",
    "billAmtSept_dist.set_title(\"Distribution of Customers' Bill Amount due Sept.\")"
   ]
  },
  {
   "cell_type": "code",
   "execution_count": 23,
   "metadata": {},
   "outputs": [
    {
     "data": {
      "image/png": "[encoded data removed]",
      "text/plain": [
       "<Figure size 432x288 with 1 Axes>"
      ]
     },
     "metadata": {},
     "output_type": "display_data"
    }
   ],
   "source": [
    "x = creditDefault['LIMIT_BAL']\n",
    "y = creditDefault['BILL_AMOUNT_SEPT']\n",
    "plt.scatter(x,y) \n",
    "plt.xlabel('LIMIT BALANCE where Default = 1')\n",
    "plt.ylabel('BILL AMOUNT DUE SEPT where Default = 1')\n",
    "plt.show()"
   ]
  },
  {
   "cell_type": "markdown",
   "metadata": {},
   "source": [
    "<b>It appears Bill Amount Due and the Balance Limit available are co-related. This is not entirely suprising as individuals with higher Balance Limits are akin to spend more.</b>"
   ]
  },
  {
   "cell_type": "markdown",
   "metadata": {},
   "source": [
    "<h3>Explore relationship between MARRIAGE and DEFAULT status</h3>"
   ]
  },
  {
   "cell_type": "code",
   "execution_count": 61,
   "metadata": {},
   "outputs": [
    {
     "data": {
      "text/plain": [
       "DEFAULT  MARRIAGE\n",
       "0        0              49\n",
       "         1           10453\n",
       "         2           12623\n",
       "         3             239\n",
       "1        0               5\n",
       "         1            3206\n",
       "         2            3341\n",
       "         3              84\n",
       "Name: MARRIAGE, dtype: int64"
      ]
     },
     "execution_count": 61,
     "metadata": {},
     "output_type": "execute_result"
    }
   ],
   "source": [
    "creditOne.groupby(['DEFAULT', 'MARRIAGE'])['MARRIAGE'].count()"
   ]
  },
  {
   "cell_type": "code",
   "execution_count": 59,
   "metadata": {},
   "outputs": [
    {
     "data": {
      "text/plain": [
       "<seaborn.axisgrid.FacetGrid at 0x1a12ce1be0>"
      ]
     },
     "execution_count": 59,
     "metadata": {},
     "output_type": "execute_result"
    },
    {
     "data": {
      "image/png": "[encoded data removed]",
      "text/plain": [
       "<Figure size 565x288 with 1 Axes>"
      ]
     },
     "metadata": {},
     "output_type": "display_data"
    }
   ],
   "source": [
    "# Use saeborn to group by DEFAULT and MARRIAGE\n",
    "g = sns.factorplot('DEFAULT', data=creditOne, hue='MARRIAGE', kind='count', aspect=1.75)\n",
    "g.set_xlabels('DEFAULTERS BY MARRIAGE')"
   ]
  },
  {
   "cell_type": "markdown",
   "metadata": {},
   "source": [
    "<b>Most customers appear to be of the marital status of either Married or Single. This distribution is constant in the Default data set as well</b>"
   ]
  },
  {
   "cell_type": "markdown",
   "metadata": {},
   "source": [
    "<h3>Creating summary pivots</h3>"
   ]
  },
  {
   "cell_type": "code",
   "execution_count": 29,
   "metadata": {},
   "outputs": [
    {
     "data": {
      "text/html": [
       "<div>\n",
       "<style scoped>\n",
       "    .dataframe tbody tr th:only-of-type {\n",
       "        vertical-align: middle;\n",
       "    }\n",
       "\n",
       "    .dataframe tbody tr th {\n",
       "        vertical-align: top;\n",
       "    }\n",
       "\n",
       "    .dataframe thead th {\n",
       "        text-align: right;\n",
       "    }\n",
       "</style>\n",
       "<table border=\"1\" class=\"dataframe\">\n",
       "  <thead>\n",
       "    <tr style=\"text-align: right;\">\n",
       "      <th>SEX</th>\n",
       "      <th>1</th>\n",
       "      <th>2</th>\n",
       "      <th>All</th>\n",
       "    </tr>\n",
       "    <tr>\n",
       "      <th>EDUCATION</th>\n",
       "      <th></th>\n",
       "      <th></th>\n",
       "      <th></th>\n",
       "    </tr>\n",
       "  </thead>\n",
       "  <tbody>\n",
       "    <tr>\n",
       "      <th>1</th>\n",
       "      <td>906</td>\n",
       "      <td>1130</td>\n",
       "      <td>2036</td>\n",
       "    </tr>\n",
       "    <tr>\n",
       "      <th>2</th>\n",
       "      <td>1408</td>\n",
       "      <td>1922</td>\n",
       "      <td>3330</td>\n",
       "    </tr>\n",
       "    <tr>\n",
       "      <th>3</th>\n",
       "      <td>545</td>\n",
       "      <td>692</td>\n",
       "      <td>1237</td>\n",
       "    </tr>\n",
       "    <tr>\n",
       "      <th>4</th>\n",
       "      <td>4</td>\n",
       "      <td>3</td>\n",
       "      <td>7</td>\n",
       "    </tr>\n",
       "    <tr>\n",
       "      <th>5</th>\n",
       "      <td>6</td>\n",
       "      <td>12</td>\n",
       "      <td>18</td>\n",
       "    </tr>\n",
       "    <tr>\n",
       "      <th>6</th>\n",
       "      <td>4</td>\n",
       "      <td>4</td>\n",
       "      <td>8</td>\n",
       "    </tr>\n",
       "    <tr>\n",
       "      <th>All</th>\n",
       "      <td>2873</td>\n",
       "      <td>3763</td>\n",
       "      <td>6636</td>\n",
       "    </tr>\n",
       "  </tbody>\n",
       "</table>\n",
       "</div>"
      ],
      "text/plain": [
       "SEX           1     2   All\n",
       "EDUCATION                  \n",
       "1           906  1130  2036\n",
       "2          1408  1922  3330\n",
       "3           545   692  1237\n",
       "4             4     3     7\n",
       "5             6    12    18\n",
       "6             4     4     8\n",
       "All        2873  3763  6636"
      ]
     },
     "execution_count": 29,
     "metadata": {},
     "output_type": "execute_result"
    }
   ],
   "source": [
    "# Number of people in the defaulters data frame, grouped by Sex and Education.\n",
    "creditDefault.pivot_table('DEFAULT', 'EDUCATION', 'SEX', aggfunc=len, margins=True)"
   ]
  },
  {
   "cell_type": "code",
   "execution_count": 30,
   "metadata": {},
   "outputs": [
    {
     "data": {
      "text/html": [
       "<div>\n",
       "<style scoped>\n",
       "    .dataframe tbody tr th:only-of-type {\n",
       "        vertical-align: middle;\n",
       "    }\n",
       "\n",
       "    .dataframe tbody tr th {\n",
       "        vertical-align: top;\n",
       "    }\n",
       "\n",
       "    .dataframe thead th {\n",
       "        text-align: right;\n",
       "    }\n",
       "</style>\n",
       "<table border=\"1\" class=\"dataframe\">\n",
       "  <thead>\n",
       "    <tr style=\"text-align: right;\">\n",
       "      <th>MARRIAGE</th>\n",
       "      <th>0</th>\n",
       "      <th>1</th>\n",
       "      <th>2</th>\n",
       "      <th>3</th>\n",
       "      <th>All</th>\n",
       "    </tr>\n",
       "    <tr>\n",
       "      <th>SEX</th>\n",
       "      <th></th>\n",
       "      <th></th>\n",
       "      <th></th>\n",
       "      <th></th>\n",
       "      <th></th>\n",
       "    </tr>\n",
       "  </thead>\n",
       "  <tbody>\n",
       "    <tr>\n",
       "      <th>1</th>\n",
       "      <td>2</td>\n",
       "      <td>1346</td>\n",
       "      <td>1485</td>\n",
       "      <td>40</td>\n",
       "      <td>2873</td>\n",
       "    </tr>\n",
       "    <tr>\n",
       "      <th>2</th>\n",
       "      <td>3</td>\n",
       "      <td>1860</td>\n",
       "      <td>1856</td>\n",
       "      <td>44</td>\n",
       "      <td>3763</td>\n",
       "    </tr>\n",
       "    <tr>\n",
       "      <th>All</th>\n",
       "      <td>5</td>\n",
       "      <td>3206</td>\n",
       "      <td>3341</td>\n",
       "      <td>84</td>\n",
       "      <td>6636</td>\n",
       "    </tr>\n",
       "  </tbody>\n",
       "</table>\n",
       "</div>"
      ],
      "text/plain": [
       "MARRIAGE  0     1     2   3   All\n",
       "SEX                              \n",
       "1         2  1346  1485  40  2873\n",
       "2         3  1860  1856  44  3763\n",
       "All       5  3206  3341  84  6636"
      ]
     },
     "execution_count": 30,
     "metadata": {},
     "output_type": "execute_result"
    }
   ],
   "source": [
    "# Number of people in the defaulters data frame, grouped by Sex and Education.\n",
    "creditDefault.pivot_table('DEFAULT', 'SEX', 'MARRIAGE', aggfunc=len, margins=True)"
   ]
  },
  {
   "cell_type": "markdown",
   "metadata": {},
   "source": [
    "<h3>Correlation</h3>"
   ]
  },
  {
   "cell_type": "code",
   "execution_count": 36,
   "metadata": {},
   "outputs": [
    {
     "data": {
      "text/html": [
       "<div>\n",
       "<style scoped>\n",
       "    .dataframe tbody tr th:only-of-type {\n",
       "        vertical-align: middle;\n",
       "    }\n",
       "\n",
       "    .dataframe tbody tr th {\n",
       "        vertical-align: top;\n",
       "    }\n",
       "\n",
       "    .dataframe thead th {\n",
       "        text-align: right;\n",
       "    }\n",
       "</style>\n",
       "<table border=\"1\" class=\"dataframe\">\n",
       "  <thead>\n",
       "    <tr style=\"text-align: right;\">\n",
       "      <th></th>\n",
       "      <th>LIMIT_BAL</th>\n",
       "      <th>SEX</th>\n",
       "      <th>EDUCATION</th>\n",
       "      <th>MARRIAGE</th>\n",
       "      <th>AGE</th>\n",
       "      <th>REPAY_STATUS_SEPT</th>\n",
       "      <th>REPAY_STATUS_AUGUST</th>\n",
       "      <th>REPAY_STATUS_JULY</th>\n",
       "      <th>REPAY_STATUS_JUNE</th>\n",
       "      <th>REPAY_STATUS_MAY</th>\n",
       "      <th>...</th>\n",
       "      <th>BILL_AMOUNT_JUNE</th>\n",
       "      <th>BILL_AMOUNT_MAY</th>\n",
       "      <th>BILL_AMOUNT_APRIL</th>\n",
       "      <th>AMOUNT_PAID_SEPT</th>\n",
       "      <th>AMOUNT_PAID_AUGUST</th>\n",
       "      <th>AMOUNT_PAID_JULY</th>\n",
       "      <th>AMOUNT_PAID_JUNE</th>\n",
       "      <th>AMOUNT_PAID_MAY</th>\n",
       "      <th>AMOUNT_PAID_APRIL</th>\n",
       "      <th>DEFAULT</th>\n",
       "    </tr>\n",
       "  </thead>\n",
       "  <tbody>\n",
       "    <tr>\n",
       "      <th>LIMIT_BAL</th>\n",
       "      <td>1.000000</td>\n",
       "      <td>0.024755</td>\n",
       "      <td>0.219161</td>\n",
       "      <td>0.108139</td>\n",
       "      <td>0.144713</td>\n",
       "      <td>0.271214</td>\n",
       "      <td>0.296382</td>\n",
       "      <td>0.286123</td>\n",
       "      <td>0.267460</td>\n",
       "      <td>0.249411</td>\n",
       "      <td>...</td>\n",
       "      <td>0.293988</td>\n",
       "      <td>0.295562</td>\n",
       "      <td>0.290389</td>\n",
       "      <td>0.195236</td>\n",
       "      <td>0.178408</td>\n",
       "      <td>0.210167</td>\n",
       "      <td>0.203242</td>\n",
       "      <td>0.217202</td>\n",
       "      <td>0.219595</td>\n",
       "      <td>0.153520</td>\n",
       "    </tr>\n",
       "    <tr>\n",
       "      <th>SEX</th>\n",
       "      <td>0.024755</td>\n",
       "      <td>1.000000</td>\n",
       "      <td>0.014232</td>\n",
       "      <td>0.031389</td>\n",
       "      <td>0.090874</td>\n",
       "      <td>0.057643</td>\n",
       "      <td>0.070771</td>\n",
       "      <td>0.066096</td>\n",
       "      <td>0.060173</td>\n",
       "      <td>0.055064</td>\n",
       "      <td>...</td>\n",
       "      <td>0.021880</td>\n",
       "      <td>0.017005</td>\n",
       "      <td>0.016733</td>\n",
       "      <td>0.000242</td>\n",
       "      <td>0.001391</td>\n",
       "      <td>0.008597</td>\n",
       "      <td>0.002229</td>\n",
       "      <td>0.001667</td>\n",
       "      <td>0.002766</td>\n",
       "      <td>0.039961</td>\n",
       "    </tr>\n",
       "    <tr>\n",
       "      <th>EDUCATION</th>\n",
       "      <td>0.219161</td>\n",
       "      <td>0.014232</td>\n",
       "      <td>1.000000</td>\n",
       "      <td>0.143464</td>\n",
       "      <td>0.175061</td>\n",
       "      <td>0.105364</td>\n",
       "      <td>0.121566</td>\n",
       "      <td>0.114025</td>\n",
       "      <td>0.108793</td>\n",
       "      <td>0.097520</td>\n",
       "      <td>...</td>\n",
       "      <td>0.000451</td>\n",
       "      <td>0.007567</td>\n",
       "      <td>0.009099</td>\n",
       "      <td>0.037456</td>\n",
       "      <td>0.030038</td>\n",
       "      <td>0.039943</td>\n",
       "      <td>0.038218</td>\n",
       "      <td>0.040358</td>\n",
       "      <td>0.037200</td>\n",
       "      <td>0.028006</td>\n",
       "    </tr>\n",
       "    <tr>\n",
       "      <th>MARRIAGE</th>\n",
       "      <td>0.108139</td>\n",
       "      <td>0.031389</td>\n",
       "      <td>0.143464</td>\n",
       "      <td>1.000000</td>\n",
       "      <td>0.414170</td>\n",
       "      <td>0.019917</td>\n",
       "      <td>0.024199</td>\n",
       "      <td>0.032688</td>\n",
       "      <td>0.033122</td>\n",
       "      <td>0.035629</td>\n",
       "      <td>...</td>\n",
       "      <td>0.023344</td>\n",
       "      <td>0.025393</td>\n",
       "      <td>0.021207</td>\n",
       "      <td>0.005979</td>\n",
       "      <td>0.008093</td>\n",
       "      <td>0.003541</td>\n",
       "      <td>0.012659</td>\n",
       "      <td>0.001205</td>\n",
       "      <td>0.006641</td>\n",
       "      <td>0.024339</td>\n",
       "    </tr>\n",
       "    <tr>\n",
       "      <th>AGE</th>\n",
       "      <td>0.144713</td>\n",
       "      <td>0.090874</td>\n",
       "      <td>0.175061</td>\n",
       "      <td>0.414170</td>\n",
       "      <td>1.000000</td>\n",
       "      <td>0.039447</td>\n",
       "      <td>0.050148</td>\n",
       "      <td>0.053048</td>\n",
       "      <td>0.049722</td>\n",
       "      <td>0.053826</td>\n",
       "      <td>...</td>\n",
       "      <td>0.051353</td>\n",
       "      <td>0.049345</td>\n",
       "      <td>0.047613</td>\n",
       "      <td>0.026147</td>\n",
       "      <td>0.021785</td>\n",
       "      <td>0.029247</td>\n",
       "      <td>0.021379</td>\n",
       "      <td>0.022850</td>\n",
       "      <td>0.019478</td>\n",
       "      <td>0.013890</td>\n",
       "    </tr>\n",
       "    <tr>\n",
       "      <th>REPAY_STATUS_SEPT</th>\n",
       "      <td>0.271214</td>\n",
       "      <td>0.057643</td>\n",
       "      <td>0.105364</td>\n",
       "      <td>0.019917</td>\n",
       "      <td>0.039447</td>\n",
       "      <td>1.000000</td>\n",
       "      <td>0.672164</td>\n",
       "      <td>0.574245</td>\n",
       "      <td>0.538841</td>\n",
       "      <td>0.509426</td>\n",
       "      <td>...</td>\n",
       "      <td>0.179125</td>\n",
       "      <td>0.180635</td>\n",
       "      <td>0.176980</td>\n",
       "      <td>0.079269</td>\n",
       "      <td>0.070101</td>\n",
       "      <td>0.070561</td>\n",
       "      <td>0.064005</td>\n",
       "      <td>0.058190</td>\n",
       "      <td>0.058673</td>\n",
       "      <td>0.324794</td>\n",
       "    </tr>\n",
       "    <tr>\n",
       "      <th>REPAY_STATUS_AUGUST</th>\n",
       "      <td>0.296382</td>\n",
       "      <td>0.070771</td>\n",
       "      <td>0.121566</td>\n",
       "      <td>0.024199</td>\n",
       "      <td>0.050148</td>\n",
       "      <td>0.672164</td>\n",
       "      <td>1.000000</td>\n",
       "      <td>0.766552</td>\n",
       "      <td>0.662067</td>\n",
       "      <td>0.622780</td>\n",
       "      <td>...</td>\n",
       "      <td>0.222237</td>\n",
       "      <td>0.221348</td>\n",
       "      <td>0.219403</td>\n",
       "      <td>0.080701</td>\n",
       "      <td>0.058990</td>\n",
       "      <td>0.055901</td>\n",
       "      <td>0.046858</td>\n",
       "      <td>0.037093</td>\n",
       "      <td>0.036500</td>\n",
       "      <td>0.263551</td>\n",
       "    </tr>\n",
       "    <tr>\n",
       "      <th>REPAY_STATUS_JULY</th>\n",
       "      <td>0.286123</td>\n",
       "      <td>0.066096</td>\n",
       "      <td>0.114025</td>\n",
       "      <td>0.032688</td>\n",
       "      <td>0.053048</td>\n",
       "      <td>0.574245</td>\n",
       "      <td>0.766552</td>\n",
       "      <td>1.000000</td>\n",
       "      <td>0.777359</td>\n",
       "      <td>0.686775</td>\n",
       "      <td>...</td>\n",
       "      <td>0.227202</td>\n",
       "      <td>0.225145</td>\n",
       "      <td>0.222327</td>\n",
       "      <td>0.001295</td>\n",
       "      <td>0.066793</td>\n",
       "      <td>0.053311</td>\n",
       "      <td>0.046067</td>\n",
       "      <td>0.035863</td>\n",
       "      <td>0.035861</td>\n",
       "      <td>0.235253</td>\n",
       "    </tr>\n",
       "    <tr>\n",
       "      <th>REPAY_STATUS_JUNE</th>\n",
       "      <td>0.267460</td>\n",
       "      <td>0.060173</td>\n",
       "      <td>0.108793</td>\n",
       "      <td>0.033122</td>\n",
       "      <td>0.049722</td>\n",
       "      <td>0.538841</td>\n",
       "      <td>0.662067</td>\n",
       "      <td>0.777359</td>\n",
       "      <td>1.000000</td>\n",
       "      <td>0.819835</td>\n",
       "      <td>...</td>\n",
       "      <td>0.245917</td>\n",
       "      <td>0.242902</td>\n",
       "      <td>0.239154</td>\n",
       "      <td>0.009362</td>\n",
       "      <td>0.001944</td>\n",
       "      <td>0.069235</td>\n",
       "      <td>0.043461</td>\n",
       "      <td>0.033590</td>\n",
       "      <td>0.026565</td>\n",
       "      <td>0.216614</td>\n",
       "    </tr>\n",
       "    <tr>\n",
       "      <th>REPAY_STATUS_MAY</th>\n",
       "      <td>0.249411</td>\n",
       "      <td>0.055064</td>\n",
       "      <td>0.097520</td>\n",
       "      <td>0.035629</td>\n",
       "      <td>0.053826</td>\n",
       "      <td>0.509426</td>\n",
       "      <td>0.622780</td>\n",
       "      <td>0.686775</td>\n",
       "      <td>0.819835</td>\n",
       "      <td>1.000000</td>\n",
       "      <td>...</td>\n",
       "      <td>0.271915</td>\n",
       "      <td>0.269783</td>\n",
       "      <td>0.262509</td>\n",
       "      <td>0.006089</td>\n",
       "      <td>0.003191</td>\n",
       "      <td>0.009062</td>\n",
       "      <td>0.058299</td>\n",
       "      <td>0.033337</td>\n",
       "      <td>0.023027</td>\n",
       "      <td>0.204149</td>\n",
       "    </tr>\n",
       "    <tr>\n",
       "      <th>REPAY_STATUS_APRIL</th>\n",
       "      <td>0.235195</td>\n",
       "      <td>0.044008</td>\n",
       "      <td>0.082316</td>\n",
       "      <td>0.034345</td>\n",
       "      <td>0.048773</td>\n",
       "      <td>0.474553</td>\n",
       "      <td>0.575501</td>\n",
       "      <td>0.632684</td>\n",
       "      <td>0.716449</td>\n",
       "      <td>0.816900</td>\n",
       "      <td>...</td>\n",
       "      <td>0.266356</td>\n",
       "      <td>0.290894</td>\n",
       "      <td>0.285091</td>\n",
       "      <td>0.001496</td>\n",
       "      <td>0.005223</td>\n",
       "      <td>0.005834</td>\n",
       "      <td>0.019018</td>\n",
       "      <td>0.046434</td>\n",
       "      <td>0.025299</td>\n",
       "      <td>0.186866</td>\n",
       "    </tr>\n",
       "    <tr>\n",
       "      <th>BILL_AMOUNT_SEPT</th>\n",
       "      <td>0.285430</td>\n",
       "      <td>0.033642</td>\n",
       "      <td>0.023581</td>\n",
       "      <td>0.023472</td>\n",
       "      <td>0.056239</td>\n",
       "      <td>0.187068</td>\n",
       "      <td>0.234887</td>\n",
       "      <td>0.208473</td>\n",
       "      <td>0.202812</td>\n",
       "      <td>0.206684</td>\n",
       "      <td>...</td>\n",
       "      <td>0.860272</td>\n",
       "      <td>0.829779</td>\n",
       "      <td>0.802650</td>\n",
       "      <td>0.140277</td>\n",
       "      <td>0.099355</td>\n",
       "      <td>0.156887</td>\n",
       "      <td>0.158303</td>\n",
       "      <td>0.167026</td>\n",
       "      <td>0.179341</td>\n",
       "      <td>0.019644</td>\n",
       "    </tr>\n",
       "    <tr>\n",
       "      <th>BILL_AMOUNT_AUGUST</th>\n",
       "      <td>0.278314</td>\n",
       "      <td>0.031183</td>\n",
       "      <td>0.018749</td>\n",
       "      <td>0.021602</td>\n",
       "      <td>0.054283</td>\n",
       "      <td>0.189859</td>\n",
       "      <td>0.235257</td>\n",
       "      <td>0.237295</td>\n",
       "      <td>0.225816</td>\n",
       "      <td>0.226913</td>\n",
       "      <td>...</td>\n",
       "      <td>0.892482</td>\n",
       "      <td>0.859778</td>\n",
       "      <td>0.831594</td>\n",
       "      <td>0.280365</td>\n",
       "      <td>0.100851</td>\n",
       "      <td>0.150718</td>\n",
       "      <td>0.147398</td>\n",
       "      <td>0.157957</td>\n",
       "      <td>0.174256</td>\n",
       "      <td>0.014193</td>\n",
       "    </tr>\n",
       "    <tr>\n",
       "      <th>BILL_AMOUNT_JULY</th>\n",
       "      <td>0.283236</td>\n",
       "      <td>0.024563</td>\n",
       "      <td>0.013002</td>\n",
       "      <td>0.024909</td>\n",
       "      <td>0.053710</td>\n",
       "      <td>0.179785</td>\n",
       "      <td>0.224146</td>\n",
       "      <td>0.227494</td>\n",
       "      <td>0.244983</td>\n",
       "      <td>0.243335</td>\n",
       "      <td>...</td>\n",
       "      <td>0.923969</td>\n",
       "      <td>0.883910</td>\n",
       "      <td>0.853320</td>\n",
       "      <td>0.244335</td>\n",
       "      <td>0.316936</td>\n",
       "      <td>0.130011</td>\n",
       "      <td>0.143405</td>\n",
       "      <td>0.179712</td>\n",
       "      <td>0.182326</td>\n",
       "      <td>0.014076</td>\n",
       "    </tr>\n",
       "    <tr>\n",
       "      <th>BILL_AMOUNT_JUNE</th>\n",
       "      <td>0.293988</td>\n",
       "      <td>0.021880</td>\n",
       "      <td>0.000451</td>\n",
       "      <td>0.023344</td>\n",
       "      <td>0.051353</td>\n",
       "      <td>0.179125</td>\n",
       "      <td>0.222237</td>\n",
       "      <td>0.227202</td>\n",
       "      <td>0.245917</td>\n",
       "      <td>0.271915</td>\n",
       "      <td>...</td>\n",
       "      <td>1.000000</td>\n",
       "      <td>0.940134</td>\n",
       "      <td>0.900941</td>\n",
       "      <td>0.233012</td>\n",
       "      <td>0.207564</td>\n",
       "      <td>0.300023</td>\n",
       "      <td>0.130191</td>\n",
       "      <td>0.160433</td>\n",
       "      <td>0.177637</td>\n",
       "      <td>0.010156</td>\n",
       "    </tr>\n",
       "    <tr>\n",
       "      <th>BILL_AMOUNT_MAY</th>\n",
       "      <td>0.295562</td>\n",
       "      <td>0.017005</td>\n",
       "      <td>0.007567</td>\n",
       "      <td>0.025393</td>\n",
       "      <td>0.049345</td>\n",
       "      <td>0.180635</td>\n",
       "      <td>0.221348</td>\n",
       "      <td>0.225145</td>\n",
       "      <td>0.242902</td>\n",
       "      <td>0.269783</td>\n",
       "      <td>...</td>\n",
       "      <td>0.940134</td>\n",
       "      <td>1.000000</td>\n",
       "      <td>0.946197</td>\n",
       "      <td>0.217031</td>\n",
       "      <td>0.181246</td>\n",
       "      <td>0.252305</td>\n",
       "      <td>0.293118</td>\n",
       "      <td>0.141574</td>\n",
       "      <td>0.164184</td>\n",
       "      <td>0.006760</td>\n",
       "    </tr>\n",
       "    <tr>\n",
       "      <th>BILL_AMOUNT_APRIL</th>\n",
       "      <td>0.290389</td>\n",
       "      <td>0.016733</td>\n",
       "      <td>0.009099</td>\n",
       "      <td>0.021207</td>\n",
       "      <td>0.047613</td>\n",
       "      <td>0.176980</td>\n",
       "      <td>0.219403</td>\n",
       "      <td>0.222327</td>\n",
       "      <td>0.239154</td>\n",
       "      <td>0.262509</td>\n",
       "      <td>...</td>\n",
       "      <td>0.900941</td>\n",
       "      <td>0.946197</td>\n",
       "      <td>1.000000</td>\n",
       "      <td>0.199965</td>\n",
       "      <td>0.172663</td>\n",
       "      <td>0.233770</td>\n",
       "      <td>0.250237</td>\n",
       "      <td>0.307729</td>\n",
       "      <td>0.115494</td>\n",
       "      <td>0.005372</td>\n",
       "    </tr>\n",
       "    <tr>\n",
       "      <th>AMOUNT_PAID_SEPT</th>\n",
       "      <td>0.195236</td>\n",
       "      <td>0.000242</td>\n",
       "      <td>0.037456</td>\n",
       "      <td>0.005979</td>\n",
       "      <td>0.026147</td>\n",
       "      <td>0.079269</td>\n",
       "      <td>0.080701</td>\n",
       "      <td>0.001295</td>\n",
       "      <td>0.009362</td>\n",
       "      <td>0.006089</td>\n",
       "      <td>...</td>\n",
       "      <td>0.233012</td>\n",
       "      <td>0.217031</td>\n",
       "      <td>0.199965</td>\n",
       "      <td>1.000000</td>\n",
       "      <td>0.285576</td>\n",
       "      <td>0.252191</td>\n",
       "      <td>0.199558</td>\n",
       "      <td>0.148459</td>\n",
       "      <td>0.185735</td>\n",
       "      <td>0.072929</td>\n",
       "    </tr>\n",
       "    <tr>\n",
       "      <th>AMOUNT_PAID_AUGUST</th>\n",
       "      <td>0.178408</td>\n",
       "      <td>0.001391</td>\n",
       "      <td>0.030038</td>\n",
       "      <td>0.008093</td>\n",
       "      <td>0.021785</td>\n",
       "      <td>0.070101</td>\n",
       "      <td>0.058990</td>\n",
       "      <td>0.066793</td>\n",
       "      <td>0.001944</td>\n",
       "      <td>0.003191</td>\n",
       "      <td>...</td>\n",
       "      <td>0.207564</td>\n",
       "      <td>0.181246</td>\n",
       "      <td>0.172663</td>\n",
       "      <td>0.285576</td>\n",
       "      <td>1.000000</td>\n",
       "      <td>0.244770</td>\n",
       "      <td>0.180107</td>\n",
       "      <td>0.180908</td>\n",
       "      <td>0.157634</td>\n",
       "      <td>0.058579</td>\n",
       "    </tr>\n",
       "    <tr>\n",
       "      <th>AMOUNT_PAID_JULY</th>\n",
       "      <td>0.210167</td>\n",
       "      <td>0.008597</td>\n",
       "      <td>0.039943</td>\n",
       "      <td>0.003541</td>\n",
       "      <td>0.029247</td>\n",
       "      <td>0.070561</td>\n",
       "      <td>0.055901</td>\n",
       "      <td>0.053311</td>\n",
       "      <td>0.069235</td>\n",
       "      <td>0.009062</td>\n",
       "      <td>...</td>\n",
       "      <td>0.300023</td>\n",
       "      <td>0.252305</td>\n",
       "      <td>0.233770</td>\n",
       "      <td>0.252191</td>\n",
       "      <td>0.244770</td>\n",
       "      <td>1.000000</td>\n",
       "      <td>0.216325</td>\n",
       "      <td>0.159214</td>\n",
       "      <td>0.162740</td>\n",
       "      <td>0.056250</td>\n",
       "    </tr>\n",
       "    <tr>\n",
       "      <th>AMOUNT_PAID_JUNE</th>\n",
       "      <td>0.203242</td>\n",
       "      <td>0.002229</td>\n",
       "      <td>0.038218</td>\n",
       "      <td>0.012659</td>\n",
       "      <td>0.021379</td>\n",
       "      <td>0.064005</td>\n",
       "      <td>0.046858</td>\n",
       "      <td>0.046067</td>\n",
       "      <td>0.043461</td>\n",
       "      <td>0.058299</td>\n",
       "      <td>...</td>\n",
       "      <td>0.130191</td>\n",
       "      <td>0.293118</td>\n",
       "      <td>0.250237</td>\n",
       "      <td>0.199558</td>\n",
       "      <td>0.180107</td>\n",
       "      <td>0.216325</td>\n",
       "      <td>1.000000</td>\n",
       "      <td>0.151830</td>\n",
       "      <td>0.157834</td>\n",
       "      <td>0.056827</td>\n",
       "    </tr>\n",
       "    <tr>\n",
       "      <th>AMOUNT_PAID_MAY</th>\n",
       "      <td>0.217202</td>\n",
       "      <td>0.001667</td>\n",
       "      <td>0.040358</td>\n",
       "      <td>0.001205</td>\n",
       "      <td>0.022850</td>\n",
       "      <td>0.058190</td>\n",
       "      <td>0.037093</td>\n",
       "      <td>0.035863</td>\n",
       "      <td>0.033590</td>\n",
       "      <td>0.033337</td>\n",
       "      <td>...</td>\n",
       "      <td>0.160433</td>\n",
       "      <td>0.141574</td>\n",
       "      <td>0.307729</td>\n",
       "      <td>0.148459</td>\n",
       "      <td>0.180908</td>\n",
       "      <td>0.159214</td>\n",
       "      <td>0.151830</td>\n",
       "      <td>1.000000</td>\n",
       "      <td>0.154896</td>\n",
       "      <td>0.055124</td>\n",
       "    </tr>\n",
       "    <tr>\n",
       "      <th>AMOUNT_PAID_APRIL</th>\n",
       "      <td>0.219595</td>\n",
       "      <td>0.002766</td>\n",
       "      <td>0.037200</td>\n",
       "      <td>0.006641</td>\n",
       "      <td>0.019478</td>\n",
       "      <td>0.058673</td>\n",
       "      <td>0.036500</td>\n",
       "      <td>0.035861</td>\n",
       "      <td>0.026565</td>\n",
       "      <td>0.023027</td>\n",
       "      <td>...</td>\n",
       "      <td>0.177637</td>\n",
       "      <td>0.164184</td>\n",
       "      <td>0.115494</td>\n",
       "      <td>0.185735</td>\n",
       "      <td>0.157634</td>\n",
       "      <td>0.162740</td>\n",
       "      <td>0.157834</td>\n",
       "      <td>0.154896</td>\n",
       "      <td>1.000000</td>\n",
       "      <td>0.053183</td>\n",
       "    </tr>\n",
       "    <tr>\n",
       "      <th>DEFAULT</th>\n",
       "      <td>0.153520</td>\n",
       "      <td>0.039961</td>\n",
       "      <td>0.028006</td>\n",
       "      <td>0.024339</td>\n",
       "      <td>0.013890</td>\n",
       "      <td>0.324794</td>\n",
       "      <td>0.263551</td>\n",
       "      <td>0.235253</td>\n",
       "      <td>0.216614</td>\n",
       "      <td>0.204149</td>\n",
       "      <td>...</td>\n",
       "      <td>0.010156</td>\n",
       "      <td>0.006760</td>\n",
       "      <td>0.005372</td>\n",
       "      <td>0.072929</td>\n",
       "      <td>0.058579</td>\n",
       "      <td>0.056250</td>\n",
       "      <td>0.056827</td>\n",
       "      <td>0.055124</td>\n",
       "      <td>0.053183</td>\n",
       "      <td>1.000000</td>\n",
       "    </tr>\n",
       "  </tbody>\n",
       "</table>\n",
       "<p>24 rows × 24 columns</p>\n",
       "</div>"
      ],
      "text/plain": [
       "                     LIMIT_BAL       SEX  EDUCATION  MARRIAGE       AGE  \\\n",
       "LIMIT_BAL             1.000000  0.024755   0.219161  0.108139  0.144713   \n",
       "SEX                   0.024755  1.000000   0.014232  0.031389  0.090874   \n",
       "EDUCATION             0.219161  0.014232   1.000000  0.143464  0.175061   \n",
       "MARRIAGE              0.108139  0.031389   0.143464  1.000000  0.414170   \n",
       "AGE                   0.144713  0.090874   0.175061  0.414170  1.000000   \n",
       "REPAY_STATUS_SEPT     0.271214  0.057643   0.105364  0.019917  0.039447   \n",
       "REPAY_STATUS_AUGUST   0.296382  0.070771   0.121566  0.024199  0.050148   \n",
       "REPAY_STATUS_JULY     0.286123  0.066096   0.114025  0.032688  0.053048   \n",
       "REPAY_STATUS_JUNE     0.267460  0.060173   0.108793  0.033122  0.049722   \n",
       "REPAY_STATUS_MAY      0.249411  0.055064   0.097520  0.035629  0.053826   \n",
       "REPAY_STATUS_APRIL    0.235195  0.044008   0.082316  0.034345  0.048773   \n",
       "BILL_AMOUNT_SEPT      0.285430  0.033642   0.023581  0.023472  0.056239   \n",
       "BILL_AMOUNT_AUGUST    0.278314  0.031183   0.018749  0.021602  0.054283   \n",
       "BILL_AMOUNT_JULY      0.283236  0.024563   0.013002  0.024909  0.053710   \n",
       "BILL_AMOUNT_JUNE      0.293988  0.021880   0.000451  0.023344  0.051353   \n",
       "BILL_AMOUNT_MAY       0.295562  0.017005   0.007567  0.025393  0.049345   \n",
       "BILL_AMOUNT_APRIL     0.290389  0.016733   0.009099  0.021207  0.047613   \n",
       "AMOUNT_PAID_SEPT      0.195236  0.000242   0.037456  0.005979  0.026147   \n",
       "AMOUNT_PAID_AUGUST    0.178408  0.001391   0.030038  0.008093  0.021785   \n",
       "AMOUNT_PAID_JULY      0.210167  0.008597   0.039943  0.003541  0.029247   \n",
       "AMOUNT_PAID_JUNE      0.203242  0.002229   0.038218  0.012659  0.021379   \n",
       "AMOUNT_PAID_MAY       0.217202  0.001667   0.040358  0.001205  0.022850   \n",
       "AMOUNT_PAID_APRIL     0.219595  0.002766   0.037200  0.006641  0.019478   \n",
       "DEFAULT               0.153520  0.039961   0.028006  0.024339  0.013890   \n",
       "\n",
       "                     REPAY_STATUS_SEPT  REPAY_STATUS_AUGUST  \\\n",
       "LIMIT_BAL                     0.271214             0.296382   \n",
       "SEX                           0.057643             0.070771   \n",
       "EDUCATION                     0.105364             0.121566   \n",
       "MARRIAGE                      0.019917             0.024199   \n",
       "AGE                           0.039447             0.050148   \n",
       "REPAY_STATUS_SEPT             1.000000             0.672164   \n",
       "REPAY_STATUS_AUGUST           0.672164             1.000000   \n",
       "REPAY_STATUS_JULY             0.574245             0.766552   \n",
       "REPAY_STATUS_JUNE             0.538841             0.662067   \n",
       "REPAY_STATUS_MAY              0.509426             0.622780   \n",
       "REPAY_STATUS_APRIL            0.474553             0.575501   \n",
       "BILL_AMOUNT_SEPT              0.187068             0.234887   \n",
       "BILL_AMOUNT_AUGUST            0.189859             0.235257   \n",
       "BILL_AMOUNT_JULY              0.179785             0.224146   \n",
       "BILL_AMOUNT_JUNE              0.179125             0.222237   \n",
       "BILL_AMOUNT_MAY               0.180635             0.221348   \n",
       "BILL_AMOUNT_APRIL             0.176980             0.219403   \n",
       "AMOUNT_PAID_SEPT              0.079269             0.080701   \n",
       "AMOUNT_PAID_AUGUST            0.070101             0.058990   \n",
       "AMOUNT_PAID_JULY              0.070561             0.055901   \n",
       "AMOUNT_PAID_JUNE              0.064005             0.046858   \n",
       "AMOUNT_PAID_MAY               0.058190             0.037093   \n",
       "AMOUNT_PAID_APRIL             0.058673             0.036500   \n",
       "DEFAULT                       0.324794             0.263551   \n",
       "\n",
       "                     REPAY_STATUS_JULY  REPAY_STATUS_JUNE  REPAY_STATUS_MAY  \\\n",
       "LIMIT_BAL                     0.286123           0.267460          0.249411   \n",
       "SEX                           0.066096           0.060173          0.055064   \n",
       "EDUCATION                     0.114025           0.108793          0.097520   \n",
       "MARRIAGE                      0.032688           0.033122          0.035629   \n",
       "AGE                           0.053048           0.049722          0.053826   \n",
       "REPAY_STATUS_SEPT             0.574245           0.538841          0.509426   \n",
       "REPAY_STATUS_AUGUST           0.766552           0.662067          0.622780   \n",
       "REPAY_STATUS_JULY             1.000000           0.777359          0.686775   \n",
       "REPAY_STATUS_JUNE             0.777359           1.000000          0.819835   \n",
       "REPAY_STATUS_MAY              0.686775           0.819835          1.000000   \n",
       "REPAY_STATUS_APRIL            0.632684           0.716449          0.816900   \n",
       "BILL_AMOUNT_SEPT              0.208473           0.202812          0.206684   \n",
       "BILL_AMOUNT_AUGUST            0.237295           0.225816          0.226913   \n",
       "BILL_AMOUNT_JULY              0.227494           0.244983          0.243335   \n",
       "BILL_AMOUNT_JUNE              0.227202           0.245917          0.271915   \n",
       "BILL_AMOUNT_MAY               0.225145           0.242902          0.269783   \n",
       "BILL_AMOUNT_APRIL             0.222327           0.239154          0.262509   \n",
       "AMOUNT_PAID_SEPT              0.001295           0.009362          0.006089   \n",
       "AMOUNT_PAID_AUGUST            0.066793           0.001944          0.003191   \n",
       "AMOUNT_PAID_JULY              0.053311           0.069235          0.009062   \n",
       "AMOUNT_PAID_JUNE              0.046067           0.043461          0.058299   \n",
       "AMOUNT_PAID_MAY               0.035863           0.033590          0.033337   \n",
       "AMOUNT_PAID_APRIL             0.035861           0.026565          0.023027   \n",
       "DEFAULT                       0.235253           0.216614          0.204149   \n",
       "\n",
       "                       ...     BILL_AMOUNT_JUNE  BILL_AMOUNT_MAY  \\\n",
       "LIMIT_BAL              ...             0.293988         0.295562   \n",
       "SEX                    ...             0.021880         0.017005   \n",
       "EDUCATION              ...             0.000451         0.007567   \n",
       "MARRIAGE               ...             0.023344         0.025393   \n",
       "AGE                    ...             0.051353         0.049345   \n",
       "REPAY_STATUS_SEPT      ...             0.179125         0.180635   \n",
       "REPAY_STATUS_AUGUST    ...             0.222237         0.221348   \n",
       "REPAY_STATUS_JULY      ...             0.227202         0.225145   \n",
       "REPAY_STATUS_JUNE      ...             0.245917         0.242902   \n",
       "REPAY_STATUS_MAY       ...             0.271915         0.269783   \n",
       "REPAY_STATUS_APRIL     ...             0.266356         0.290894   \n",
       "BILL_AMOUNT_SEPT       ...             0.860272         0.829779   \n",
       "BILL_AMOUNT_AUGUST     ...             0.892482         0.859778   \n",
       "BILL_AMOUNT_JULY       ...             0.923969         0.883910   \n",
       "BILL_AMOUNT_JUNE       ...             1.000000         0.940134   \n",
       "BILL_AMOUNT_MAY        ...             0.940134         1.000000   \n",
       "BILL_AMOUNT_APRIL      ...             0.900941         0.946197   \n",
       "AMOUNT_PAID_SEPT       ...             0.233012         0.217031   \n",
       "AMOUNT_PAID_AUGUST     ...             0.207564         0.181246   \n",
       "AMOUNT_PAID_JULY       ...             0.300023         0.252305   \n",
       "AMOUNT_PAID_JUNE       ...             0.130191         0.293118   \n",
       "AMOUNT_PAID_MAY        ...             0.160433         0.141574   \n",
       "AMOUNT_PAID_APRIL      ...             0.177637         0.164184   \n",
       "DEFAULT                ...             0.010156         0.006760   \n",
       "\n",
       "                     BILL_AMOUNT_APRIL  AMOUNT_PAID_SEPT  AMOUNT_PAID_AUGUST  \\\n",
       "LIMIT_BAL                     0.290389          0.195236            0.178408   \n",
       "SEX                           0.016733          0.000242            0.001391   \n",
       "EDUCATION                     0.009099          0.037456            0.030038   \n",
       "MARRIAGE                      0.021207          0.005979            0.008093   \n",
       "AGE                           0.047613          0.026147            0.021785   \n",
       "REPAY_STATUS_SEPT             0.176980          0.079269            0.070101   \n",
       "REPAY_STATUS_AUGUST           0.219403          0.080701            0.058990   \n",
       "REPAY_STATUS_JULY             0.222327          0.001295            0.066793   \n",
       "REPAY_STATUS_JUNE             0.239154          0.009362            0.001944   \n",
       "REPAY_STATUS_MAY              0.262509          0.006089            0.003191   \n",
       "REPAY_STATUS_APRIL            0.285091          0.001496            0.005223   \n",
       "BILL_AMOUNT_SEPT              0.802650          0.140277            0.099355   \n",
       "BILL_AMOUNT_AUGUST            0.831594          0.280365            0.100851   \n",
       "BILL_AMOUNT_JULY              0.853320          0.244335            0.316936   \n",
       "BILL_AMOUNT_JUNE              0.900941          0.233012            0.207564   \n",
       "BILL_AMOUNT_MAY               0.946197          0.217031            0.181246   \n",
       "BILL_AMOUNT_APRIL             1.000000          0.199965            0.172663   \n",
       "AMOUNT_PAID_SEPT              0.199965          1.000000            0.285576   \n",
       "AMOUNT_PAID_AUGUST            0.172663          0.285576            1.000000   \n",
       "AMOUNT_PAID_JULY              0.233770          0.252191            0.244770   \n",
       "AMOUNT_PAID_JUNE              0.250237          0.199558            0.180107   \n",
       "AMOUNT_PAID_MAY               0.307729          0.148459            0.180908   \n",
       "AMOUNT_PAID_APRIL             0.115494          0.185735            0.157634   \n",
       "DEFAULT                       0.005372          0.072929            0.058579   \n",
       "\n",
       "                     AMOUNT_PAID_JULY  AMOUNT_PAID_JUNE  AMOUNT_PAID_MAY  \\\n",
       "LIMIT_BAL                    0.210167          0.203242         0.217202   \n",
       "SEX                          0.008597          0.002229         0.001667   \n",
       "EDUCATION                    0.039943          0.038218         0.040358   \n",
       "MARRIAGE                     0.003541          0.012659         0.001205   \n",
       "AGE                          0.029247          0.021379         0.022850   \n",
       "REPAY_STATUS_SEPT            0.070561          0.064005         0.058190   \n",
       "REPAY_STATUS_AUGUST          0.055901          0.046858         0.037093   \n",
       "REPAY_STATUS_JULY            0.053311          0.046067         0.035863   \n",
       "REPAY_STATUS_JUNE            0.069235          0.043461         0.033590   \n",
       "REPAY_STATUS_MAY             0.009062          0.058299         0.033337   \n",
       "REPAY_STATUS_APRIL           0.005834          0.019018         0.046434   \n",
       "BILL_AMOUNT_SEPT             0.156887          0.158303         0.167026   \n",
       "BILL_AMOUNT_AUGUST           0.150718          0.147398         0.157957   \n",
       "BILL_AMOUNT_JULY             0.130011          0.143405         0.179712   \n",
       "BILL_AMOUNT_JUNE             0.300023          0.130191         0.160433   \n",
       "BILL_AMOUNT_MAY              0.252305          0.293118         0.141574   \n",
       "BILL_AMOUNT_APRIL            0.233770          0.250237         0.307729   \n",
       "AMOUNT_PAID_SEPT             0.252191          0.199558         0.148459   \n",
       "AMOUNT_PAID_AUGUST           0.244770          0.180107         0.180908   \n",
       "AMOUNT_PAID_JULY             1.000000          0.216325         0.159214   \n",
       "AMOUNT_PAID_JUNE             0.216325          1.000000         0.151830   \n",
       "AMOUNT_PAID_MAY              0.159214          0.151830         1.000000   \n",
       "AMOUNT_PAID_APRIL            0.162740          0.157834         0.154896   \n",
       "DEFAULT                      0.056250          0.056827         0.055124   \n",
       "\n",
       "                     AMOUNT_PAID_APRIL   DEFAULT  \n",
       "LIMIT_BAL                     0.219595  0.153520  \n",
       "SEX                           0.002766  0.039961  \n",
       "EDUCATION                     0.037200  0.028006  \n",
       "MARRIAGE                      0.006641  0.024339  \n",
       "AGE                           0.019478  0.013890  \n",
       "REPAY_STATUS_SEPT             0.058673  0.324794  \n",
       "REPAY_STATUS_AUGUST           0.036500  0.263551  \n",
       "REPAY_STATUS_JULY             0.035861  0.235253  \n",
       "REPAY_STATUS_JUNE             0.026565  0.216614  \n",
       "REPAY_STATUS_MAY              0.023027  0.204149  \n",
       "REPAY_STATUS_APRIL            0.025299  0.186866  \n",
       "BILL_AMOUNT_SEPT              0.179341  0.019644  \n",
       "BILL_AMOUNT_AUGUST            0.174256  0.014193  \n",
       "BILL_AMOUNT_JULY              0.182326  0.014076  \n",
       "BILL_AMOUNT_JUNE              0.177637  0.010156  \n",
       "BILL_AMOUNT_MAY               0.164184  0.006760  \n",
       "BILL_AMOUNT_APRIL             0.115494  0.005372  \n",
       "AMOUNT_PAID_SEPT              0.185735  0.072929  \n",
       "AMOUNT_PAID_AUGUST            0.157634  0.058579  \n",
       "AMOUNT_PAID_JULY              0.162740  0.056250  \n",
       "AMOUNT_PAID_JUNE              0.157834  0.056827  \n",
       "AMOUNT_PAID_MAY               0.154896  0.055124  \n",
       "AMOUNT_PAID_APRIL             1.000000  0.053183  \n",
       "DEFAULT                       0.053183  1.000000  \n",
       "\n",
       "[24 rows x 24 columns]"
      ]
     },
     "execution_count": 36,
     "metadata": {},
     "output_type": "execute_result"
    }
   ],
   "source": [
    "corrMat = creditOne.iloc[:,1:].corr().abs()\n",
    "corrMat"
   ]
  },
  {
   "cell_type": "code",
   "execution_count": 58,
   "metadata": {},
   "outputs": [
    {
     "data": {
      "text/plain": [
       "BILL_AMOUNT_MAY      BILL_AMOUNT_APRIL     0.946197\n",
       "BILL_AMOUNT_JUNE     BILL_AMOUNT_MAY       0.940134\n",
       "BILL_AMOUNT_AUGUST   BILL_AMOUNT_JULY      0.928326\n",
       "BILL_AMOUNT_JULY     BILL_AMOUNT_JUNE      0.923969\n",
       "BILL_AMOUNT_JUNE     BILL_AMOUNT_APRIL     0.900941\n",
       "BILL_AMOUNT_AUGUST   BILL_AMOUNT_JUNE      0.892482\n",
       "BILL_AMOUNT_SEPT     BILL_AMOUNT_JULY      0.892279\n",
       "BILL_AMOUNT_JULY     BILL_AMOUNT_MAY       0.883910\n",
       "BILL_AMOUNT_SEPT     BILL_AMOUNT_JUNE      0.860272\n",
       "BILL_AMOUNT_AUGUST   BILL_AMOUNT_MAY       0.859778\n",
       "BILL_AMOUNT_JULY     BILL_AMOUNT_APRIL     0.853320\n",
       "BILL_AMOUNT_AUGUST   BILL_AMOUNT_APRIL     0.831594\n",
       "BILL_AMOUNT_SEPT     BILL_AMOUNT_MAY       0.829779\n",
       "REPAY_STATUS_JUNE    REPAY_STATUS_MAY      0.819835\n",
       "REPAY_STATUS_MAY     REPAY_STATUS_APRIL    0.816900\n",
       "BILL_AMOUNT_SEPT     BILL_AMOUNT_APRIL     0.802650\n",
       "REPAY_STATUS_JULY    REPAY_STATUS_JUNE     0.777359\n",
       "REPAY_STATUS_AUGUST  REPAY_STATUS_JULY     0.766552\n",
       "REPAY_STATUS_JUNE    REPAY_STATUS_APRIL    0.716449\n",
       "dtype: float64"
      ]
     },
     "execution_count": 58,
     "metadata": {},
     "output_type": "execute_result"
    }
   ],
   "source": [
    "#the matrix is symmetric so we need to extract upper triangle matrix without diagonal (k = 1)\n",
    "os = (corrMat.where(np.triu(np.ones(corrMat.shape), k=1).astype(np.bool))\n",
    "                 .stack()\n",
    "                 .sort_values(ascending=False))\n",
    "os[1:20]"
   ]
  },
  {
   "cell_type": "markdown",
   "metadata": {},
   "source": [
    "<b>The correlation matrix shows that Bill Amounts for consecutive months are co-related and so is the Repay Status for consecutive months. This is not suprising and is the expected result.</b>"
   ]
  },
  {
   "cell_type": "code",
   "execution_count": 39,
   "metadata": {},
   "outputs": [
    {
     "data": {
      "image/png": "[encoded data removed]",
      "text/plain": [
       "<Figure size 432x288 with 1 Axes>"
      ]
     },
     "metadata": {},
     "output_type": "display_data"
    }
   ],
   "source": [
    "# Visualizing the correlation of consecutive Bill Amounts.\n",
    "x = creditDefault['BILL_AMOUNT_AUGUST']\n",
    "y = creditDefault['BILL_AMOUNT_SEPT']\n",
    "plt.scatter(x,y) \n",
    "plt.xlabel('BILL AMOUNT DUE AUG \\n DEFAULT = 1')\n",
    "plt.ylabel('BILL AMOUNT DUE SEPT \\n DEFAULT = 1')\n",
    "plt.show()"
   ]
  },
  {
   "cell_type": "code",
   "execution_count": null,
   "metadata": {},
   "outputs": [],
   "source": []
  }
 ],
 "metadata": {
  "kernelspec": {
   "display_name": "Python 3",
   "language": "python",
   "name": "python3"
  },
  "language_info": {
   "codemirror_mode": {
    "name": "ipython",
    "version": 3
   },
   "file_extension": ".py",
   "mimetype": "text/x-python",
   "name": "python",
   "nbconvert_exporter": "python",
   "pygments_lexer": "ipython3",
   "version": "3.6.5"
  }
 },
 "nbformat": 4,
 "nbformat_minor": 2
}
